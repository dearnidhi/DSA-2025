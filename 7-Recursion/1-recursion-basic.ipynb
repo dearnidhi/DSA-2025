{
 "cells": [
  {
   "cell_type": "markdown",
   "id": "3d0aa8c0",
   "metadata": {},
   "source": [
    "# 1️⃣ Russian Doll Recursive Function"
   ]
  },
  {
   "cell_type": "code",
   "execution_count": 1,
   "id": "1f9b98d7",
   "metadata": {},
   "outputs": [
    {
     "name": "stdout",
     "output_type": "stream",
     "text": [
      "All doll are opened\n"
     ]
    }
   ],
   "source": [
    "def openRussionDoll(doll):\n",
    "    if doll == 1:\n",
    "       print(\"All doll are opened\")\n",
    "\n",
    "    else:\n",
    "       openRussionDoll(doll-1)   \n",
    "openRussionDoll(4)       "
   ]
  },
  {
   "cell_type": "markdown",
   "id": "23fa7cc8",
   "metadata": {},
   "source": [
    "Explanation:\n",
    "\n",
    "This simulates opening Russian dolls (matryoshka dolls), where one doll contains a smaller doll.\n",
    "\n",
    "doll is the number of dolls left to open.\n",
    "\n",
    "Base case: if doll == 1, stop recursion and print a message.\n",
    "\n",
    "Recursive case: openRussianDoll(doll-1) calls the function with one smaller d"
   ]
  },
  {
   "cell_type": "markdown",
   "id": "7eaa3faf",
   "metadata": {},
   "source": [
    "# 2️⃣ Nested Function Calls"
   ]
  },
  {
   "cell_type": "code",
   "execution_count": 2,
   "id": "58ea5acf",
   "metadata": {},
   "outputs": [
    {
     "name": "stdout",
     "output_type": "stream",
     "text": [
      "I am the fourth method\n",
      "I am the third method\n",
      "I am the second method\n",
      "I am the first method\n"
     ]
    }
   ],
   "source": [
    "def firstMethod():\n",
    "    secondMethod()\n",
    "    print(\"I am the first method\")\n",
    "def secondMethod():\n",
    "    thirdMethod()\n",
    "    print(\"I am the second method\")\n",
    "def thirdMethod():   \n",
    "    fourthMethod()\n",
    "    print(\"I am the third method\")\n",
    "def fourthMethod():\n",
    "    print(\"I am the fourth method\")   \n",
    "\n",
    " \n",
    "firstMethod()"
   ]
  },
  {
   "cell_type": "markdown",
   "id": "49ecee9b",
   "metadata": {},
   "source": [
    "Explanation:\n",
    "\n",
    "This is nested function calls, not recursion.\n",
    "\n",
    "Each function calls the next one, then prints its own message after returning from the called function.\n",
    "\n",
    "Execution Flow:\n",
    "\n",
    "firstMethod() → calls secondMethod().\n",
    "\n",
    "secondMethod() → calls thirdMethod().\n",
    "\n",
    "thirdMethod() → calls fourthMethod().\n",
    "\n",
    "fourthMethod() → prints \"I am the fourth Method\".\n",
    "\n",
    "Control goes back to thirdMethod() → prints \"I am the third Method\".\n",
    "\n",
    "Control goes back to secondMethod() → prints \"I am the second Method\".\n",
    "\n",
    "Control goes back to firstMethod() → prints \"I am the first Method\"."
   ]
  },
  {
   "cell_type": "markdown",
   "id": "a4229495",
   "metadata": {},
   "source": [
    "# 3️⃣ Simple Recursion Example"
   ]
  },
  {
   "cell_type": "markdown",
   "id": "f301131c",
   "metadata": {},
   "source": [
    "Explanation:\n",
    "\n",
    "This is classic recursion with counting up after recursion.\n",
    "\n",
    "recursiveMethod(4) first goes down to 0 (base case), then prints numbers while returning back."
   ]
  },
  {
   "cell_type": "code",
   "execution_count": 3,
   "id": "f174cce2",
   "metadata": {},
   "outputs": [
    {
     "name": "stdout",
     "output_type": "stream",
     "text": [
      "n is less than 1\n",
      "1\n",
      "2\n",
      "3\n",
      "4\n"
     ]
    }
   ],
   "source": [
    "def RecursiveMethod(n):\n",
    "    if n < 1:\n",
    "        print(\"n is less than 1\")\n",
    "    else:\n",
    "        RecursiveMethod(n-1)\n",
    "        print(n)\n",
    "RecursiveMethod(4)            "
   ]
  },
  {
   "cell_type": "markdown",
   "id": "4658f0f0",
   "metadata": {},
   "source": [
    "# 4️⃣ Recursion vs Iteration – Power of Two"
   ]
  },
  {
   "cell_type": "markdown",
   "id": "2138f696",
   "metadata": {},
   "source": [
    "# Recursive Version:"
   ]
  },
  {
   "cell_type": "code",
   "execution_count": 4,
   "id": "6d3f8c80",
   "metadata": {},
   "outputs": [
    {
     "name": "stdout",
     "output_type": "stream",
     "text": [
      "8\n"
     ]
    }
   ],
   "source": [
    "def PowerofTwo(n):\n",
    "    if n == 0:\n",
    "        return 1\n",
    "    else: \n",
    "        power=PowerofTwo(n-1)\n",
    "        return power * 2\n",
    "print(PowerofTwo(3))    "
   ]
  },
  {
   "cell_type": "markdown",
   "id": "059842da",
   "metadata": {},
   "source": [
    "Calculates 2^𝑛 using recursion.\n",
    "\n",
    "Base case: 2^0 = 1\n",
    "\n",
    "Recursive case: 2^n = 2 * 2^(n-1)"
   ]
  },
  {
   "cell_type": "markdown",
   "id": "51b6a688",
   "metadata": {},
   "source": [
    "# Iterative Version:"
   ]
  },
  {
   "cell_type": "code",
   "execution_count": 5,
   "id": "b8637c36",
   "metadata": {},
   "outputs": [
    {
     "name": "stdout",
     "output_type": "stream",
     "text": [
      "16\n"
     ]
    }
   ],
   "source": [
    "def PowerofTwoit(n):\n",
    "    i = 0\n",
    "    power = 1\n",
    "    while i < n:\n",
    "        power = power*2\n",
    "        i = i + 1\n",
    "    return power\n",
    "print(PowerofTwoit(4))    "
   ]
  },
  {
   "cell_type": "markdown",
   "id": "572b3815",
   "metadata": {},
   "source": [
    "Uses a loop instead of recursion.\n",
    "\n",
    "Multiply power by 2 n times.\n",
    "\n",
    "Output: 16\n",
    "\n",
    "✅ Key point: Recursion is elegant but uses call stack, iteration is often more memory efficient."
   ]
  },
  {
   "cell_type": "markdown",
   "id": "f6ccda67",
   "metadata": {},
   "source": [
    "# 5️⃣ Factorial Function"
   ]
  },
  {
   "cell_type": "code",
   "execution_count": 7,
   "id": "7f8831cd",
   "metadata": {},
   "outputs": [
    {
     "name": "stdout",
     "output_type": "stream",
     "text": [
      "24\n"
     ]
    }
   ],
   "source": [
    "def fac(n):\n",
    "    if n in [0,1]:\n",
    "        return 1\n",
    "    else:\n",
    "        return n *fac(n-1)\n",
    "print(fac(4))    "
   ]
  },
  {
   "cell_type": "markdown",
   "id": "34791b47",
   "metadata": {},
   "source": [
    "Recursive factorial.\n",
    "\n",
    "Base case: 0! = 1 or 1! = 1\n",
    "\n",
    "Recursive case: n! = n * (n-1)!"
   ]
  },
  {
   "cell_type": "markdown",
   "id": "e9c9ff7f",
   "metadata": {},
   "source": [
    "# 6️⃣ Fibonacci Sequence"
   ]
  },
  {
   "cell_type": "markdown",
   "id": "4ff9d977",
   "metadata": {},
   "source": [
    "Calculates nth Fibonacci number.\n",
    "\n",
    "Base cases: fibonacci(0)=0, fibonacci(1)=1\n",
    "\n",
    "Recursive case: fibonacci(n) = fibonacci(n-1) + fibonacci(n-2)\n",
    "\n",
    "Output: 13\n",
    "\n",
    "Sequence: 0, 1, 1, 2, 3, 5, 8, 13"
   ]
  },
  {
   "cell_type": "code",
   "execution_count": 10,
   "id": "9170d555",
   "metadata": {},
   "outputs": [
    {
     "name": "stdout",
     "output_type": "stream",
     "text": [
      "21\n"
     ]
    }
   ],
   "source": [
    "def fib(n):\n",
    "    if n in [0,1]:\n",
    "        return 1\n",
    "    else:\n",
    "        return fib(n-1)+fib(n-2)\n",
    "print(fib(7))    \n",
    " "
   ]
  },
  {
   "cell_type": "code",
   "execution_count": null,
   "id": "06200282",
   "metadata": {},
   "outputs": [],
   "source": [
    "y"
   ]
  }
 ],
 "metadata": {
  "kernelspec": {
   "display_name": "Python 3",
   "language": "python",
   "name": "python3"
  },
  "language_info": {
   "codemirror_mode": {
    "name": "ipython",
    "version": 3
   },
   "file_extension": ".py",
   "mimetype": "text/x-python",
   "name": "python",
   "nbconvert_exporter": "python",
   "pygments_lexer": "ipython3",
   "version": "3.10.11"
  }
 },
 "nbformat": 4,
 "nbformat_minor": 5
}
