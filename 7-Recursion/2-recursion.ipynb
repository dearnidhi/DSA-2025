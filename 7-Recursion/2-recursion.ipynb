{
 "cells": [
  {
   "cell_type": "markdown",
   "id": "37d6d7ee",
   "metadata": {},
   "source": [
    "# Recursion — The Concept\n",
    "\n",
    "Recursion is when a function calls itself until it reaches a stopping point (called the base case).\n",
    "\n",
    "# 🔑 3 Parts of Every Recursive Function:\n",
    "\n",
    "Base Case → When to stop calling itself\n",
    "\n",
    "Work / Processing → What to do in the current step\n",
    "\n",
    "Recursive Call → Call the same function with a smaller input"
   ]
  },
  {
   "cell_type": "markdown",
   "id": "582f9957",
   "metadata": {},
   "source": [
    "# LeetCode Problems"
   ]
  },
  {
   "cell_type": "markdown",
   "id": "7a9af79b",
   "metadata": {},
   "source": [
    "# Leetcode 509. Fibonacci Number"
   ]
  },
  {
   "cell_type": "code",
   "execution_count": 1,
   "id": "713e8e56",
   "metadata": {},
   "outputs": [],
   "source": [
    "class Solution(object):\n",
    "    def fib(self, n):\n",
    "        \"\"\"\n",
    "        :type n: int\n",
    "        :rtype: int\n",
    "        \"\"\"\n",
    "        # ✅ Base Case\n",
    "        if n == 0:\n",
    "            return 0\n",
    "        if n == 1:\n",
    "            return 1\n",
    "\n",
    "        # ✅ Recursive Case: F(n) = F(n-1) + F(n-2)\n",
    "        return self.fib(n - 1) + self.fib(n - 2)\n"
   ]
  },
  {
   "cell_type": "markdown",
   "id": "14e70fe5",
   "metadata": {},
   "source": [
    "# 🔍 Explanation (Step-by-Step)\n",
    "\n",
    "Let’s say n = 4\n",
    "\n",
    "fib(4) → calls fib(3) + fib(2)\n",
    "\n",
    "fib(3) → calls fib(2) + fib(1)\n",
    "\n",
    "fib(2) → calls fib(1) + fib(0)\n",
    "\n",
    "Base cases hit → values return hoti hain:\n",
    "\n",
    "fib(0) = 0\n",
    "\n",
    "fib(1) = 1\n",
    "\n",
    "Values add ho kar return hoti hain (bottom to top):\n",
    "\n",
    "fib(2) = 1\n",
    "fib(3) = 2\n",
    "fib(4) = 3\n"
   ]
  },
  {
   "cell_type": "markdown",
   "id": "511a8c71",
   "metadata": {},
   "source": [
    "# Leetcode 21. Merge Two Sorted Lists"
   ]
  },
  {
   "cell_type": "code",
   "execution_count": 2,
   "id": "cfd82930",
   "metadata": {},
   "outputs": [],
   "source": [
    "class Solution(object):\n",
    "    def mergeTwoLists(self, list1, list2):\n",
    "        if not list1:\n",
    "            return list2\n",
    "        if not list2:\n",
    "            return list1\n",
    "\n",
    "        if list1.val < list2.val:\n",
    "            list1.next = self.mergeTwoLists(list1.next, list2)\n",
    "            return list1\n",
    "        else:\n",
    "            list2.next = self.mergeTwoLists(list1, list2.next)\n",
    "            return list2\n"
   ]
  },
  {
   "cell_type": "markdown",
   "id": "f64c005f",
   "metadata": {},
   "source": [
    "# LeetCode 21 - Merge Two Sorted Lists"
   ]
  },
  {
   "cell_type": "code",
   "execution_count": 3,
   "id": "8de6b6aa",
   "metadata": {},
   "outputs": [],
   "source": [
    "class Solution(object):\n",
    "    def mergeTwoLists(self, list1, list2):\n",
    "        if not list1:\n",
    "            return list2\n",
    "        if not list2:\n",
    "            return list1\n",
    "\n",
    "        if list1.val < list2.val:\n",
    "            list1.next = self.mergeTwoLists(list1.next, list2)\n",
    "            return list1\n",
    "        else:\n",
    "            list2.next = self.mergeTwoLists(list1, list2.next)\n",
    "            return list2\n"
   ]
  },
  {
   "cell_type": "markdown",
   "id": "1cb99997",
   "metadata": {},
   "source": [
    "# Example (one-pass choices) —\n",
    "\n",
    "list1 = [1,2,4], list2 = [1,3,4]\n",
    "\n",
    "Compare and pick in order (what the function chooses at each call):\n",
    "\n",
    "compare 1 and 1 → picks list2's 1 → output starts [1] and now solve merge([1,2,4], [3,4])\n",
    "\n",
    "compare 1 and 3 → picks list1's 1 → output becomes [1, 1] and now solve merge([2,4], [3,4])\n",
    "\n",
    "compare 2 and 3 → picks 2 → output [1,1,2] and now merge([4], [3,4])\n",
    "\n",
    "compare 4 and 3 → picks 3 → output [1,1,2,3] and now merge([4], [4])\n",
    "\n",
    "compare 4 and 4 → picks list2's 4 → output [1,1,2,3,4] and now merge([4], None)\n",
    "\n",
    "merge([4], None) returns [4] → final result [1,1,2,3,4,4]"
   ]
  },
  {
   "cell_type": "markdown",
   "id": "5bb8f328",
   "metadata": {},
   "source": [
    "# Leetcode 779. K-th Symbol in Grammar"
   ]
  },
  {
   "cell_type": "markdown",
   "id": "5be8e076",
   "metadata": {},
   "source": [
    "You have a table of n rows (1-indexed).\n",
    "\n",
    "Row 1 starts with 0.\n",
    "\n",
    "For each subsequent row, look at the previous row:\n",
    "\n",
    "Replace 0 with 01\n",
    "\n",
    "Replace 1 with 10\n",
    "\n",
    "Goal: Given n and k, return the k-th symbol (1-indexed) in row n"
   ]
  },
  {
   "cell_type": "markdown",
   "id": "b35654b8",
   "metadata": {},
   "source": [
    "n = 3, k = 4\n",
    "\n",
    "Row 1: 0\n",
    "\n",
    "Row 2: 01\n",
    "\n",
    "Row 3: 0110\n",
    "\n",
    "Answer: 0  (4th element of row 3)\n",
    "Constraints:\n",
    "\n",
    "1 ≤ n ≤ 30\n",
    "\n",
    "1 ≤ k ≤ 2^(n-1)"
   ]
  },
  {
   "cell_type": "markdown",
   "id": "61e0e73d",
   "metadata": {},
   "source": [
    "# Recursive Insight \n",
    "\n",
    "Each element in row n comes from a parent element in row n-1.\n",
    "\n",
    "Parent index = (k + 1) // 2\n",
    "\n",
    "If k is odd → symbol = parent\n",
    "\n",
    "If k is even → symbol = 1 − parent"
   ]
  },
  {
   "cell_type": "code",
   "execution_count": 4,
   "id": "9e663790",
   "metadata": {},
   "outputs": [],
   "source": [
    "class Solution(object):\n",
    "    def kthGrammar(self, n, k):\n",
    "        # Base case: row 1 has only one element\n",
    "        if n == 1:\n",
    "            return 0\n",
    "        \n",
    "        # Find parent in previous row\n",
    "        parent = self.kthGrammar(n-1, (k+1)//2)\n",
    "        \n",
    "        # Odd k → same as parent\n",
    "        if k % 2 == 1:\n",
    "            return parent\n",
    "        # Even k → opposite of parent\n",
    "        else:\n",
    "            return 1 - parent\n"
   ]
  },
  {
   "cell_type": "markdown",
   "id": "9a9c264a",
   "metadata": {},
   "source": [
    "# Dry Run (Example n=3, k=4)\n",
    "\n",
    "kthGrammar(3, 4) → parent = kthGrammar(2, 2)\n",
    "\n",
    "kthGrammar(2, 2) → parent = kthGrammar(1, 1)\n",
    "\n",
    "kthGrammar(1, 1) → return 0 (base case)\n",
    "\n",
    "Back to (2,2) → k=2 even → 1 - 0 = 1\n",
    "\n",
    "Back to (3,4) → k=4 even → 1 - 1 = 0\n",
    "\n",
    "✅ Answer = 0"
   ]
  },
  {
   "cell_type": "markdown",
   "id": "d5b901b9",
   "metadata": {},
   "source": [
    "# Leetcode 50. Pow(x, n)"
   ]
  },
  {
   "cell_type": "code",
   "execution_count": 2,
   "id": "821ab65a",
   "metadata": {},
   "outputs": [],
   "source": [
    "class Solution:\n",
    "    def myPow(self, x: float, n: int) -> float:\n",
    "        # Base case\n",
    "        if n == 0:\n",
    "            return 1.0\n",
    "\n",
    "        # Handle negative powers\n",
    "        if n < 0:\n",
    "            return 1 / self.myPow(x, -n)\n",
    "\n",
    "        # Divide & conquer\n",
    "        half = self.myPow(x, n // 2)\n",
    "\n",
    "        if n % 2 == 0:   # if n is even\n",
    "            return half * half\n",
    "        else:            # if n is odd\n",
    "            return half * half * x\n"
   ]
  },
  {
   "cell_type": "markdown",
   "id": "305d38b4",
   "metadata": {},
   "source": [
    "🔎 How recursion works (example: x=2, n=10):\n",
    "\n",
    "myPow(2,10)\n",
    "→ calls myPow(2,5)\n",
    "\n",
    "myPow(2,5)\n",
    "→ calls myPow(2,2)\n",
    "\n",
    "myPow(2,2)\n",
    "→ calls myPow(2,1)\n",
    "\n",
    "myPow(2,1)\n",
    "→ calls myPow(2,0) = 1\n",
    "→ returns 1 * 2 = 2\n",
    "\n",
    "Backtracking multiplies results:\n",
    "\n",
    "myPow(2,2) = 2 * 2 = 4\n",
    "\n",
    "myPow(2,5) = 4 * 4 * 2 = 32\n",
    "\n",
    "myPow(2,10) = 32 * 32 = 1024"
   ]
  }
 ],
 "metadata": {
  "kernelspec": {
   "display_name": "Python 3",
   "language": "python",
   "name": "python3"
  },
  "language_info": {
   "codemirror_mode": {
    "name": "ipython",
    "version": 3
   },
   "file_extension": ".py",
   "mimetype": "text/x-python",
   "name": "python",
   "nbconvert_exporter": "python",
   "pygments_lexer": "ipython3",
   "version": "3.10.11"
  }
 },
 "nbformat": 4,
 "nbformat_minor": 5
}
