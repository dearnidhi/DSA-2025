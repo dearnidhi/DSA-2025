{
 "cells": [
  {
   "cell_type": "markdown",
   "id": "5c24d880",
   "metadata": {},
   "source": [
    "# 155. Min Stack"
   ]
  },
  {
   "cell_type": "code",
   "execution_count": 1,
   "id": "84fb3459",
   "metadata": {},
   "outputs": [],
   "source": [
    "class MinStack:\n",
    "    def __init__(self):\n",
    "        # Main stack to store values\n",
    "        self.stack = []\n",
    "        # Extra stack to store current minimum at each level\n",
    "        self.min_stack = []\n",
    "\n",
    "    def push(self, val: int) -> None:\n",
    "        self.stack.append(val)\n",
    "        # Agar min_stack empty hai ya naya value <= current min hai\n",
    "        if not self.min_stack or val <= self.min_stack[-1]:\n",
    "            self.min_stack.append(val)\n",
    "        else:\n",
    "            # Push the same minimum again (to keep lengths same)\n",
    "            self.min_stack.append(self.min_stack[-1])\n",
    "\n",
    "    def pop(self) -> None:\n",
    "        self.stack.pop()\n",
    "        self.min_stack.pop()\n",
    "\n",
    "    def top(self) -> int:\n",
    "        return self.stack[-1]\n",
    "\n",
    "    def getMin(self) -> int:\n",
    "        return self.min_stack[-1]\n"
   ]
  },
  {
   "cell_type": "code",
   "execution_count": 6,
   "id": "90a26e2a",
   "metadata": {},
   "outputs": [
    {
     "name": "stdout",
     "output_type": "stream",
     "text": [
      "-3\n",
      "0\n",
      "-2\n"
     ]
    }
   ],
   "source": [
    "# Example usage of MinStack\n",
    "minStack = MinStack()\n",
    "\n",
    "minStack.push(-2)   \n",
    "minStack.push(0)    \n",
    "minStack.push(-3)   \n",
    "\n",
    "print(minStack.getMin())  # Output: -3  (minimum in stack)\n",
    "minStack.pop()            # removes -3\n",
    "print(minStack.top())     # Output: 0   (top of stack now)\n",
    "print(minStack.getMin())  # Output: -2  (new minimum)\n"
   ]
  },
  {
   "cell_type": "markdown",
   "id": "f7349e52",
   "metadata": {},
   "source": [
    "# ✅ Dry Run Example:\n",
    "\n",
    "Input:\n",
    "\n",
    "# [\"MinStack\",\"push\",\"push\",\"push\",\"getMin\",\"pop\",\"top\",\"getMin\"]\n",
    "\n",
    "# [[],[-2],[0],[-3],[],[],[],[]]\n",
    "\n",
    "\n",
    "Step by Step:\n",
    "\n",
    "MinStack() → stack = [], min_stack = []\n",
    "\n",
    "push(-2) → stack = [-2], min_stack = [-2]\n",
    "\n",
    "push(0) → stack = [-2, 0], min_stack = [-2, -2] (minimum abhi bhi -2)\n",
    "\n",
    "push(-3) → stack = [-2, 0, -3], min_stack = [-2, -2, -3] (minimum -3 ho gaya)\n",
    "\n",
    "getMin() → return -3\n",
    "\n",
    "pop() → stack = [-2, 0], min_stack = [-2, -2]\n",
    "\n",
    "top() → return 0\n",
    "\n",
    "getMin() → return -2\n",
    "\n",
    "Output:\n",
    "\n",
    "# [null,null,null,null,-3,null,0,-2]"
   ]
  },
  {
   "cell_type": "markdown",
   "id": "f26182ae",
   "metadata": {},
   "source": [
    "# 1172. Dinner Plate Stacks"
   ]
  },
  {
   "cell_type": "code",
   "execution_count": 2,
   "id": "faed5773",
   "metadata": {},
   "outputs": [],
   "source": [
    "import heapq\n",
    "\n",
    "class DinnerPlates:\n",
    "    def __init__(self, capacity: int):\n",
    "        self.capacity = capacity\n",
    "        self.stacks = []          # list of stacks\n",
    "        self.available = []       # min-heap of indices with available space\n",
    "\n",
    "    def push(self, val: int) -> None:\n",
    "        # remove invalid indices from heap (out of range ya full ho gaye)\n",
    "        while self.available and self.available[0] < len(self.stacks) and len(self.stacks[self.available[0]]) == self.capacity:\n",
    "            heapq.heappop(self.available)\n",
    "\n",
    "        if self.available:\n",
    "            idx = heapq.heappop(self.available)\n",
    "            self.stacks[idx].append(val)\n",
    "            # if still not full, push index back\n",
    "            if len(self.stacks[idx]) < self.capacity:\n",
    "                heapq.heappush(self.available, idx)\n",
    "        else:\n",
    "            # create a new stack\n",
    "            self.stacks.append([val])\n",
    "            if self.capacity > 1:\n",
    "                heapq.heappush(self.available, len(self.stacks)-1)\n",
    "\n",
    "    def pop(self) -> int:\n",
    "        # remove empty stacks from right\n",
    "        while self.stacks and not self.stacks[-1]:\n",
    "            self.stacks.pop()\n",
    "        if not self.stacks:\n",
    "            return -1\n",
    "        val = self.stacks[-1].pop()\n",
    "        if len(self.stacks[-1]) < self.capacity:\n",
    "            heapq.heappush(self.available, len(self.stacks)-1)\n",
    "        # remove empty stacks again\n",
    "        while self.stacks and not self.stacks[-1]:\n",
    "            self.stacks.pop()\n",
    "        return val\n",
    "\n",
    "    def popAtStack(self, index: int) -> int:\n",
    "        if index >= len(self.stacks) or not self.stacks[index]:\n",
    "            return -1\n",
    "        val = self.stacks[index].pop()\n",
    "        if len(self.stacks[index]) < self.capacity:\n",
    "            heapq.heappush(self.available, index)\n",
    "        return val\n"
   ]
  },
  {
   "cell_type": "code",
   "execution_count": 3,
   "metadata": {},
   "outputs": [
    {
     "name": "stdout",
     "output_type": "stream",
     "text": [
      "2\n",
      "20\n",
      "21\n",
      "5\n",
      "4\n",
      "3\n",
      "1\n",
      "-1\n"
     ]
    }
   ],
   "source": [
    "D = DinnerPlates(2)\n",
    "D.push(1)\n",
    "D.push(2)\n",
    "D.push(3)\n",
    "D.push(4)\n",
    "D.push(5)\n",
    "print(D.popAtStack(0))  # 2\n",
    "D.push(20)\n",
    "D.push(21)\n",
    "print(D.popAtStack(0))  # 20\n",
    "print(D.popAtStack(2))  # 21\n",
    "print(D.pop())  # 5\n",
    "print(D.pop())  # 4\n",
    "print(D.pop())  # 3\n",
    "print(D.pop())  # 1\n",
    "print(D.pop())  # -1\n"
   ]
  },
  {
   "cell_type": "markdown",
   "id": "84bbf917",
   "metadata": {},
   "source": [
    "# 232. Implement Queue using Stacks"
   ]
  },
  {
   "cell_type": "code",
   "execution_count": 4,
   "id": "64579325",
   "metadata": {},
   "outputs": [],
   "source": [
    "class MyQueue(object):\n",
    "\n",
    "    def __init__(self):\n",
    "        self.stack_in = []   # stack used for push operations\n",
    "        self.stack_out = []  # stack used for pop/peek operations\n",
    "\n",
    "    def push(self, x):\n",
    "        \"\"\"\n",
    "        :type x: int\n",
    "        :rtype: None\n",
    "        \"\"\"\n",
    "        self.stack_in.append(x)\n",
    "\n",
    "    def pop(self):\n",
    "        \"\"\"\n",
    "        :rtype: int\n",
    "        \"\"\"\n",
    "        self.move()\n",
    "        return self.stack_out.pop()\n",
    "\n",
    "    def peek(self):\n",
    "        \"\"\"\n",
    "        :rtype: int\n",
    "        \"\"\"\n",
    "        self.move()\n",
    "        return self.stack_out[-1]\n",
    "\n",
    "    def empty(self):\n",
    "        \"\"\"\n",
    "        :rtype: bool\n",
    "        \"\"\"\n",
    "        return not self.stack_in and not self.stack_out\n",
    "\n",
    "    def move(self):\n",
    "        \"\"\"Helper function to move elements from stack_in to stack_out only when needed\"\"\"\n",
    "        if not self.stack_out:  # Only transfer if stack_out is empty\n",
    "            while self.stack_in:\n",
    "                self.stack_out.append(self.stack_in.pop())\n"
   ]
  },
  {
   "cell_type": "code",
   "execution_count": 5,
   "id": "a7f983c0",
   "metadata": {},
   "outputs": [
    {
     "name": "stdout",
     "output_type": "stream",
     "text": [
      "1\n",
      "1\n",
      "False\n",
      "2\n",
      "3\n",
      "3\n",
      "4\n",
      "True\n"
     ]
    }
   ],
   "source": [
    "# Example usage of MyQueue class\n",
    "q = MyQueue()\n",
    "\n",
    "q.push(1)       # queue = [1]\n",
    "q.push(2)       # queue = [1, 2]\n",
    "print(q.peek()) # Output: 1  (front of queue)\n",
    "print(q.pop())  # Output: 1  (removes 1, queue = [2])\n",
    "print(q.empty())# Output: False (queue still has [2])\n",
    "\n",
    "q.push(3)       # queue = [2, 3]\n",
    "q.push(4)       # queue = [2, 3, 4]\n",
    "print(q.pop())  # Output: 2  (removes 2, queue = [3, 4])\n",
    "print(q.peek()) # Output: 3  (front element)\n",
    "print(q.pop())  # Output: 3  (queue = [4])\n",
    "print(q.pop())  # Output: 4  (queue = [])\n",
    "print(q.empty())# Output: True (queue is empty now)\n"
   ]
  },
  {
   "cell_type": "markdown",
   "id": "4e2d49d2",
   "metadata": {},
   "source": [
    "# 🐾 Animal Shelter \n",
    "\n",
    "Design a system to manage an animal shelter that houses only cats (0) and dogs (1).\n",
    "Implement:\n",
    "\n",
    "enqueue([num, type]) → add animal (FIFO order)\n",
    "\n",
    "dequeueAny() → adopt oldest animal\n",
    "\n",
    "dequeueDog() → adopt oldest dog\n",
    "\n",
    "dequeueCat() → adopt oldest cat\n",
    "\n",
    "If no animal is available for adoption, return [-1, -1].\n",
    "\n",
    "Example:\n",
    "\n",
    "Input:\n",
    "[\"AnimalShelf\",\"enqueue\",\"enqueue\",\"enqueue\",\"dequeueDog\",\"dequeueCat\",\"dequeueAny\"]\n",
    "[[],[0,0],[1,0],[2,1],[],[],[]]\n",
    "\n",
    "Output:\n",
    "\n",
    "[null,null,null,null,[2,1],[0,0],[1,0]]"
   ]
  },
  {
   "cell_type": "markdown",
   "id": "b2d2262f",
   "metadata": {},
   "source": [
    "# 🐾 Animal Shelter\n",
    "\n",
    "You have an animal shelter that contains only dogs and cats.\n",
    "\n",
    "Each animal has two values:\n",
    "\n",
    "i → arrival number (indicates which animal came first)\n",
    "\n",
    "j → type (0 for cat, 1 for dog)\n",
    "\n",
    "Implement a class AnimalShelf that supports the following operations:\n",
    "\n",
    "# 1️⃣ enqueue(animal: List[int])\n",
    "\n",
    "Add a new animal to the shelter.\n",
    "\n",
    "# 2️⃣ dequeueAny() -> List[int]\n",
    "\n",
    "Return the oldest animal (whether dog or cat).\n",
    "If there are no animals, return [-1, -1].\n",
    "\n",
    "# 3️⃣ dequeueDog() -> List[int]\n",
    "\n",
    "Return the oldest dog.\n",
    "If there are no dogs, return [-1, -1].\n",
    "\n",
    "# 4️⃣ dequeueCat() -> List[int]\n",
    "\n",
    "Return the oldest cat.\n",
    "If there are no cats, return [-1, -1].\n",
    "\n",
    "# Constraints:\n",
    "\n",
    "1 ≤ number of operations ≤ 20,000\n",
    "\n",
    "Each animal has a unique arrival number, and arrival numbers are strictly increasing (0, 1, 2, ...)."
   ]
  },
  {
   "cell_type": "markdown",
   "id": "7585982e",
   "metadata": {},
   "source": [
    "✅ Imports\n",
    "\n",
    "deque → a special queue from Python’s collections module (fast append & pop from both ends).\n",
    "\n",
    "List → just for type hinting (not mandatory)."
   ]
  },
  {
   "cell_type": "markdown",
   "id": "f8f23586",
   "metadata": {},
   "source": [
    "✅ Constructor\n",
    "\n",
    "self.q is a list of two queues:\n",
    "\n",
    "q[0] → will store cats\n",
    "\n",
    "q[1] → will store dogs"
   ]
  },
  {
   "cell_type": "markdown",
   "id": "a6ca8999",
   "metadata": {},
   "source": [
    "✅ enqueue()\n",
    "\n",
    "animal is like [i, j] → [arrival_number, type].\n",
    "\n",
    "i = animal number, j = type.\n",
    "\n",
    "If j=0, it adds i to cats queue,\n",
    "If j=1, it adds i to dogs queue."
   ]
  },
  {
   "cell_type": "markdown",
   "id": "096978a9",
   "metadata": {},
   "source": [
    "✅ dequeueAny()\n",
    "\n",
    "This function decides which animal to adopt first:\n",
    "\n",
    "If there are no cats, take a dog.\n",
    "\n",
    "If there are dogs and the first dog came earlier than first cat, take a dog.\n",
    "\n",
    "Otherwise, take a cat."
   ]
  },
  {
   "cell_type": "markdown",
   "id": "22da6d3b",
   "metadata": {},
   "source": [
    "✅ dequeueDog()\n",
    "\n",
    "If no dogs available → return [-1, -1].\n",
    "\n",
    "Otherwise → remove (popleft) first dog and return [dog_number, 1]."
   ]
  },
  {
   "cell_type": "markdown",
   "id": "24feaf63",
   "metadata": {},
   "source": [
    "✅ dequeueCat()\n",
    "\n",
    "If no cats available → return [-1, -1].\n",
    "\n",
    "Otherwise → remove (popleft) first cat and return [cat_number, 0]."
   ]
  },
  {
   "cell_type": "code",
   "execution_count": 10,
   "id": "1ec43db3",
   "metadata": {},
   "outputs": [],
   "source": [
    "from collections import deque\n",
    "from typing import List\n",
    "class AnimalShelf:\n",
    "    def __init__(self):\n",
    "        self.q =  [deque(), deque()]   \n",
    "\n",
    "    def enqueue(self,animal):\n",
    "        i,j = animal \n",
    "        self.q[j].append(i)  \n",
    "\n",
    "    def dequeueAny(self):\n",
    "        if not self.q[0] or (self.q[1] and self.q[1][0] < self.q[0][0]):\n",
    "            return self.dequeueDog()\n",
    "        return self.dequeueCat()\n",
    "    def dequeueDog(self):\n",
    "        return [-1,-1] if not self.q[1] else [self.q[1].popleft(),1]\n",
    "    \n",
    "    def dequeueCat(self):\n",
    "        return [-1,-1] if not self.q[0] else [self.q[0].popleft(),1]\n",
    "                    "
   ]
  },
  {
   "cell_type": "code",
   "execution_count": 11,
   "id": "49cce399",
   "metadata": {},
   "outputs": [
    {
     "name": "stdout",
     "output_type": "stream",
     "text": [
      "[2, 1]\n",
      "[0, 1]\n",
      "[1, 1]\n",
      "[-1, -1]\n"
     ]
    }
   ],
   "source": [
    "shelter = AnimalShelf()\n",
    "\n",
    "shelter.enqueue([0, 0])  # Cat 0\n",
    "shelter.enqueue([1, 0])  # Cat 1\n",
    "shelter.enqueue([2, 1])  # Dog 2\n",
    "\n",
    "print(shelter.dequeueDog())  # Output: [2, 1]  (dog 2 adopted)\n",
    "print(shelter.dequeueCat())  # Output: [0, 0]  (cat 0 adopted)\n",
    "print(shelter.dequeueAny())  # Output: [1, 0]  (remaining cat adopted)\n",
    "print(shelter.dequeueAny())  # Output: [-1, -1] (no animals left)\n"
   ]
  },
  {
   "cell_type": "code",
   "execution_count": null,
   "id": "871becf5",
   "metadata": {},
   "outputs": [],
   "source": [
    "y"
   ]
  }
 ],
 "metadata": {
  "kernelspec": {
   "display_name": "Python 3",
   "language": "python",
   "name": "python3"
  },
  "language_info": {
   "codemirror_mode": {
    "name": "ipython",
    "version": 3
   },
   "file_extension": ".py",
   "mimetype": "text/x-python",
   "name": "python",
   "nbconvert_exporter": "python",
   "pygments_lexer": "ipython3",
   "version": "3.10.11"
  }
 },
 "nbformat": 4,
 "nbformat_minor": 5
}
