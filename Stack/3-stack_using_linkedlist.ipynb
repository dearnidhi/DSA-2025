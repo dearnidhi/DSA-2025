{
 "cells": [
  {
   "cell_type": "markdown",
   "id": "df6fd56c",
   "metadata": {},
   "source": [
    "# Stack With LinkedList"
   ]
  },
  {
   "cell_type": "markdown",
   "id": "5c73a4e2",
   "metadata": {},
   "source": [
    "# 🖼 Perfect-Length Explanation for Class\n",
    "\n",
    "[value | next]\n",
    "\n",
    "# 🔹 Step 1 → Empty Stack\n",
    "HEAD → None\n",
    "\n",
    "# 🔹 Step 2 → Push(1)\n",
    "HEAD → [1 | next=None]\n",
    "\n",
    "# 🔹 Step 3 → Push(2)\n",
    "HEAD → [2 | next] → [1 | None]\n",
    "\n",
    "# 🔹 Step 4 → Push(3)\n",
    "HEAD → [3 | next] → [2 | next] → [1 | None]\n",
    "\n",
    "# 📌 Step 5 → Peek()\n",
    "\n",
    "Look at head’s value → 3\n",
    "\n",
    "# 🔹 Step 6 → Pop()\n",
    "\n",
    "(Remove top → move HEAD forward)\n",
    "\n",
    "HEAD → [2 | next] → [1 | None]\n"
   ]
  },
  {
   "cell_type": "markdown",
   "id": "917d8a9d",
   "metadata": {},
   "source": [
    "# 🔑 Key Points\n",
    "\n",
    "HEAD always points to top element\n",
    "\n",
    "Push = create new node + attach it in front\n",
    "\n",
    "Pop = move HEAD to next node\n",
    "\n",
    "This keeps LIFO order (last inserted = first removed)"
   ]
  },
  {
   "cell_type": "code",
   "execution_count": 8,
   "id": "cc39b173",
   "metadata": {},
   "outputs": [
    {
     "name": "stdout",
     "output_type": "stream",
     "text": [
      "3\n"
     ]
    }
   ],
   "source": [
    "# (Stack using LinkedList)\n",
    "# (Stack using LinkedList Class)\n",
    "# ------------------------------------------------\n",
    "# This approach uses a separate LinkedList class to store nodes.\n",
    "# Helps students understand how a Linked List works internally.\n",
    "\n",
    "# Node class - represents a single element in the linked list\n",
    "class Node:\n",
    "    def __init__(self, value=None):\n",
    "        self.value = value   # Stores the value of the node\n",
    "        self.next = None     # Points to the next node (None by default)\n",
    "\n",
    "# LinkedList class - just manages nodes, not stack-specific\n",
    "class LinkedList:\n",
    "    def __init__(self):\n",
    "        self.head = None  # Start with an empty list (no head node)\n",
    "    \n",
    "    def __iter__(self):\n",
    "        # Allows us to iterate through the linked list easily\n",
    "        curNode = self.head\n",
    "        while curNode:\n",
    "            yield curNode  # Gives the current node\n",
    "            curNode = curNode.next  # Move to next node\n",
    "\n",
    "# Stack class - actual stack implementation using LinkedList\n",
    "class Stack:\n",
    "    def __init__(self):\n",
    "        self.LinkedList = LinkedList()  # Use linked list to store stack data\n",
    "    \n",
    "    def __str__(self):\n",
    "        # Converts stack to string for easy printing (top-to-bottom view)\n",
    "        values = [str(x.value) for x in self.LinkedList]\n",
    "        return '\\n'.join(values)\n",
    "    \n",
    "    def isEmpty(self):\n",
    "        # Returns True if stack has no elements\n",
    "        return self.LinkedList.head is None\n",
    "\n",
    "    def push(self, value):\n",
    "        # Push = add element at the top of the stack\n",
    "        node = Node(value)  # Create a new node\n",
    "        node.next = self.LinkedList.head  # New node points to current head\n",
    "        self.LinkedList.head = node  # New node becomes the head (top)\n",
    "\n",
    "    def pop(self):\n",
    "        # Pop = remove and return the top element\n",
    "        if self.isEmpty():\n",
    "            return \"Stack is empty\"\n",
    "        nodeValue = self.LinkedList.head.value  # Get top value\n",
    "        self.LinkedList.head = self.LinkedList.head.next  # Move head down\n",
    "        return nodeValue  # Return removed value\n",
    "\n",
    "    def peek(self):\n",
    "        # Peek = just check the top element without removing it\n",
    "        if self.isEmpty():\n",
    "            return \"Stack is empty\"\n",
    "        return self.LinkedList.head.value  # Return top value\n",
    "\n",
    "    def delete(self):\n",
    "        # Delete entire stack by removing head reference\n",
    "        self.LinkedList.head = None\n",
    "\n",
    "# Example usage:\n",
    "customStack = Stack()\n",
    "customStack.push(1)   # Stack: 1\n",
    "customStack.push(2)   # Stack: 2 -> 1\n",
    "customStack.push(3)   # Stack: 3 -> 2 -> 1\n",
    "print(customStack.peek())   # Shows 3 (top element)\n"
   ]
  },
  {
   "cell_type": "code",
   "execution_count": null,
   "id": "690ea3d1",
   "metadata": {},
   "outputs": [],
   "source": []
  }
 ],
 "metadata": {
  "kernelspec": {
   "display_name": "Python 3",
   "language": "python",
   "name": "python3"
  },
  "language_info": {
   "codemirror_mode": {
    "name": "ipython",
    "version": 3
   },
   "file_extension": ".py",
   "mimetype": "text/x-python",
   "name": "python",
   "nbconvert_exporter": "python",
   "pygments_lexer": "ipython3",
   "version": "3.10.11"
  }
 },
 "nbformat": 4,
 "nbformat_minor": 5
}
