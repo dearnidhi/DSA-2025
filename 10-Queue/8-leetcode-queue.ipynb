{
 "cells": [
  {
   "cell_type": "markdown",
   "id": "56b773d3",
   "metadata": {},
   "source": [
    "# LeetCode 622 – Design Circular Queue"
   ]
  },
  {
   "cell_type": "code",
   "execution_count": null,
   "id": "bea73ca8",
   "metadata": {},
   "outputs": [],
   "source": [
    "class MyCircularQueue:\n",
    "    def __init__(self, k: int):\n",
    "        # Initialize queue with size k\n",
    "        self.queue = [0] * k      # fixed size array\n",
    "        self.maxSize = k\n",
    "        self.front = 0           # index of front element\n",
    "        self.rear = -1           # index of last element\n",
    "        self.count = 0           # current number of elements\n",
    "\n",
    "    def enQueue(self, value: int) -> bool:\n",
    "        # Check if queue is full\n",
    "        if self.isFull():\n",
    "            return False\n",
    "        # Move rear to next position circularly\n",
    "        self.rear = (self.rear + 1) % self.maxSize\n",
    "        self.queue[self.rear] = value\n",
    "        self.count += 1\n",
    "        return True\n",
    "\n",
    "    def deQueue(self) -> bool:\n",
    "        # Check if queue is empty\n",
    "        if self.isEmpty():\n",
    "            return False\n",
    "        # Move front pointer circularly\n",
    "        self.front = (self.front + 1) % self.maxSize\n",
    "        self.count -= 1\n",
    "        return True\n",
    "\n",
    "    def Front(self) -> int:\n",
    "        if self.isEmpty():\n",
    "            return -1\n",
    "        return self.queue[self.front]\n",
    "\n",
    "    def Rear(self) -> int:\n",
    "        if self.isEmpty():\n",
    "            return -1\n",
    "        return self.queue[self.rear]\n",
    "\n",
    "    def isEmpty(self) -> bool:\n",
    "        return self.count == 0\n",
    "\n",
    "    def isFull(self) -> bool:\n",
    "        return self.count == self.maxSize\n"
   ]
  },
  {
   "cell_type": "markdown",
   "id": "7938282a",
   "metadata": {},
   "source": [
    "# 🔑 Explanation Step-by-Step\n",
    "\n",
    "Initialization\n",
    "\n",
    "self.queue → fixed-size array of size k\n",
    "\n",
    "front → points to the first element\n",
    "\n",
    "rear → points to the last element\n",
    "\n",
    "count → tracks how many elements are currently in queue\n",
    "\n",
    "* enQueue\n",
    "\n",
    "If queue is full, return False\n",
    "\n",
    "Otherwise move rear ahead (rear+1) % maxSize (circular)\n",
    "\n",
    "Insert element and increase count\n",
    "\n",
    "* deQueue\n",
    "\n",
    "If queue is empty, return False\n",
    "\n",
    "Otherwise move front ahead (front+1) % maxSize\n",
    "\n",
    "Decrease count\n",
    "\n",
    "* Front() / Rear()\n",
    "\n",
    "Return values at respective pointers if queue not empty\n",
    "\n",
    "Otherwise return -1\n",
    "\n",
    "* isEmpty / isFull\n",
    "\n",
    "Use count to check current state"
   ]
  },
  {
   "cell_type": "markdown",
   "id": "1432f1f4",
   "metadata": {},
   "source": [
    "# 933. Number of Recent Calls"
   ]
  },
  {
   "cell_type": "markdown",
   "id": "1f0a5e4f",
   "metadata": {},
   "source": [
    "# Problem:\n",
    "\n",
    "Ek class RecentCounter banao jo last 3000 milliseconds ke andar aayi calls count kare.\n",
    "\n",
    "ping(t) function call hoti hai with time t (milliseconds me)\n",
    "\n",
    "Return karo ki ab tak kitni calls hui jo t - 3000 aur t ke beech hui ho\n",
    "\n",
    "# Key Concept:\n",
    "\n",
    "Yeh sliding window problem hai\n",
    "\n",
    "Ek queue maintain karo aur jo purani calls 3000 ms se pehle hui ho unhe remove karo"
   ]
  },
  {
   "cell_type": "code",
   "execution_count": 1,
   "id": "656075c9",
   "metadata": {},
   "outputs": [],
   "source": [
    "from collections import deque\n",
    "class RecentCounter(object):\n",
    "\n",
    "    def __init__(self):\n",
    "        self.q = deque()\n",
    "\n",
    "    def ping(self, t):\n",
    "        \"\"\"\n",
    "        :type t: int\n",
    "        :rtype: int\n",
    "        \"\"\"\n",
    "        self.q.append(t)\n",
    "        \n",
    "        while self.q and self.q[0] < t- 3000:\n",
    "            self.q.popleft()\n",
    "\n",
    "        return len(self.q)        \n",
    "\n",
    "\n",
    "# Your RecentCounter object will be instantiated and called as such:\n",
    "# obj = RecentCounter()\n",
    "# param_1 = obj.ping(t)"
   ]
  },
  {
   "cell_type": "markdown",
   "id": "54ffec6a",
   "metadata": {},
   "source": []
  },
  {
   "cell_type": "code",
   "execution_count": null,
   "id": "54838da3",
   "metadata": {},
   "outputs": [],
   "source": [
    "z"
   ]
  }
 ],
 "metadata": {
  "kernelspec": {
   "display_name": "Python 3",
   "language": "python",
   "name": "python3"
  },
  "language_info": {
   "codemirror_mode": {
    "name": "ipython",
    "version": 3
   },
   "file_extension": ".py",
   "mimetype": "text/x-python",
   "name": "python",
   "nbconvert_exporter": "python",
   "pygments_lexer": "ipython3",
   "version": "3.10.11"
  }
 },
 "nbformat": 4,
 "nbformat_minor": 5
}
