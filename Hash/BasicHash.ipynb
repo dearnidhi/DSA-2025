{
 "cells": [
  {
   "cell_type": "markdown",
   "id": "2f3c9e1b",
   "metadata": {},
   "source": [
    "# 🔐 Hashing in Data Structures\n",
    "\n",
    "📌 What is Hashing?\n",
    "\n",
    "Hashing is a technique that maps data (keys) to a fixed-size index (hash code) using a hash function.\n",
    "The data is then stored in a hash table, allowing O(1) average time complexity for:\n",
    "\n",
    "🔍 Search\n",
    "\n",
    "➕ Insert\n",
    "\n",
    "➖ Delete\n",
    "\n",
    "📦 Why Use Hashing?\n",
    "\n",
    "Efficient lookup and modification\n",
    "\n",
    "Avoids linear or binary search overhead\n",
    "\n",
    "Excellent for large datasets and real-time lookups"
   ]
  },
  {
   "cell_type": "markdown",
   "id": "87697c07",
   "metadata": {},
   "source": [
    "🧮 Hash Table = Array + Hash Function"
   ]
  },
  {
   "cell_type": "code",
   "execution_count": 1,
   "id": "23bb0e48",
   "metadata": {},
   "outputs": [
    {
     "name": "stdout",
     "output_type": "stream",
     "text": [
      "10\n"
     ]
    }
   ],
   "source": [
    "# Example using Python dictionary (built-in hash table)\n",
    "\n",
    "hash_table = {}\n",
    "hash_table[\"apple\"] = 10\n",
    "print(hash_table[\"apple\"])  # Output: 10\n"
   ]
  },
  {
   "cell_type": "markdown",
   "id": "b788c2c9",
   "metadata": {},
   "source": [
    "# 🧠 Applications of Hashing\n",
    "Checking for duplicates\n",
    "\n",
    "Frequency counting\n",
    "\n",
    "Caching (LRU Cache)\n",
    "\n",
    "Dictionaries and sets\n",
    "\n",
    "Cryptography (not in basic DSA)\n",
    "\n",
    "Implementing map, set, unordered_map (C++), dict (Python)\n",
    "\n"
   ]
  },
  {
   "cell_type": "markdown",
   "id": "f697310a",
   "metadata": {},
   "source": [
    "# 🧰 Types of Hashing Collision Resolution Techniques\n",
    "1. Separate Chaining\n",
    "\n",
    "Uses linked lists at each index to handle collisions\n",
    "\n",
    "Multiple keys can map to the same bucket\n",
    "\n"
   ]
  },
  {
   "cell_type": "code",
   "execution_count": 2,
   "id": "a1b275b0",
   "metadata": {},
   "outputs": [],
   "source": [
    "# Conceptual structure in Python:\n",
    "hash_table = [[] for _ in range(10)]\n",
    "index = hash(\"key\") % 10\n",
    "hash_table[index].append((\"key\", \"value\"))\n"
   ]
  },
  {
   "cell_type": "markdown",
   "id": "be85661b",
   "metadata": {},
   "source": [
    "# 2. Open Addressing\n",
    "If a collision occurs, find another open slot using probing\n",
    "\n",
    "# Types:\n",
    "\n",
    "Linear Probing\n",
    "\n",
    "Quadratic Probing\n",
    "\n",
    "Double Hashing\n",
    "\n",
    "\n",
    "\n",
    "\n"
   ]
  },
  {
   "cell_type": "code",
   "execution_count": 3,
   "id": "be04d00b",
   "metadata": {},
   "outputs": [],
   "source": [
    "# 🔧 Custom Hash Function (Trivial Example)\n",
    "\n",
    "def simple_hash(key, table_size):\n",
    "    return sum(ord(c) for c in key) % table_size"
   ]
  },
  {
   "cell_type": "markdown",
   "id": "e04649cc",
   "metadata": {},
   "source": [
    "⚠️ Limitations of Hashing\n",
    "\n",
    "Hash collisions (multiple keys → same index)\n",
    "\n",
    "Needs good hash function for uniform distribution\n",
    "\n",
    "Doesn’t maintain order (unlike TreeMap in Java)\n",
    "\n",
    "Hashing is not suitable for range queries (use BST or Segment Tree instead)"
   ]
  },
  {
   "cell_type": "code",
   "execution_count": 4,
   "id": "2b517c85",
   "metadata": {},
   "outputs": [
    {
     "name": "stdout",
     "output_type": "stream",
     "text": [
      "Counter({2: 3, 1: 2, 3: 1})\n"
     ]
    }
   ],
   "source": [
    "# Frequency count\n",
    "from collections import Counter\n",
    "arr = [1, 2, 2, 3, 1, 2]\n",
    "freq = Counter(arr)\n",
    "print(freq)  # Output: {2: 3, 1: 2, 3: 1}\n"
   ]
  },
  {
   "cell_type": "code",
   "execution_count": 5,
   "id": "bb3de337",
   "metadata": {},
   "outputs": [
    {
     "name": "stdout",
     "output_type": "stream",
     "text": [
      "Counter({2: 3, 1: 2, 3: 1})\n"
     ]
    }
   ],
   "source": [
    "# Frequency count\n",
    "from collections import Counter\n",
    "arr = [1, 2, 2, 3, 1, 2]\n",
    "freq = Counter(arr)\n",
    "print(freq)  # Output: {2: 3, 1: 2, 3: 1}\n"
   ]
  },
  {
   "cell_type": "markdown",
   "id": "ec0a9e73",
   "metadata": {},
   "source": [
    "#  1️⃣ Hash Function\n",
    "\n",
    "📌 Definition: A function that maps input data of arbitrary size (like a string) to a fixed-size integer (usually an index in a hash table).\n",
    "\n",
    "💡 Example:\n",
    "\n",
    "hash(\"Apple\") → 18\n",
    "\n",
    "hash(\"Appmillers\") → 22\n",
    "\n",
    "✅ Used to determine the position where the data (key) will be stored in the hash table.\n",
    "\n",
    "# 2️⃣ Key\n",
    "\n",
    "📌 Definition: The input data provided by the user to the hash function.\n",
    "\n",
    "🧠 Examples:\n",
    "\n",
    "\"Apple\", \"Appmillers\" are keys in our previous lecture.\n",
    "\n",
    "In dict = {\"apple\": 10}, \"apple\" is the key.\n",
    "\n",
    "# 3️⃣ Hash Value (or Hash Code)\n",
    "\n",
    "📌 Definition: The integer returned by the hash function after processing the key.\n",
    "\n",
    "🧠 Also called:\n",
    "\n",
    "Hash Code\n",
    "\n",
    "Digest\n",
    "\n",
    "Hash\n",
    "\n",
    "💡 Example:\n",
    "\n",
    "hash(\"Application\") → 20\n",
    "\n",
    "# 4️⃣ Hash Table\n",
    "\n",
    "📌 Definition: A data structure that stores data in key-value pairs using the index returned by the hash function.\n",
    "\n",
    "🧠 Implemented as:\n",
    "\n",
    "Array or list\n",
    "\n",
    "Backed by hash function for index mapping\n",
    "\n",
    "💡 In Python, a dict is a built-in implementation of a hash table.\n",
    "\n",
    "my_dict = {\"apple\": 10}\n",
    "\n",
    "# internally uses hashing to store and retrieve\n",
    "\n",
    "# 5️⃣ Collision\n",
    "\n",
    "📌 Definition: A situation where two different keys generate the same hash value (i.e., the same index in the hash table).\n",
    "\n",
    "💥 Example:\n",
    "\n",
    "hash(\"Appmillers\") → 20\n",
    "\n",
    "hash(\"AnotherKey\") → 20\n",
    "\n",
    "🔁 Both try to occupy index 20 → this causes a collision.\n",
    "\n",
    "⚠️ In this case, one key cannot be inserted directly without handling the collision.\n",
    "\n",
    "\n"
   ]
  },
  {
   "cell_type": "markdown",
   "id": "f8218253",
   "metadata": {},
   "source": [
    "# 🔑 What is a Hash Function?\n",
    "A hash function converts input data (like numbers or strings) into a fixed-size index value, typically used to store or retrieve data in a hash table efficiently.\n",
    "\n",
    "# 🧮 Two Sample Hash Functions:\n",
    "\n",
    "1. Mod Hash Function (For Integers):\n",
    "\n",
    "Input: integer, number of cells (size of hash table)\n",
    "\n",
    "Formula: index = number % number_of_cells\n",
    "\n",
    "Example:\n",
    "\n",
    "400 % 24 = 16 → Store 400 at index 16\n",
    "\n",
    "700 % 24 = 4 → Store 700 at index 4\n",
    "\n",
    "Benefit: Simple and fast.\n",
    "\n",
    "Time Complexity to access: O(1)\n",
    "\n",
    "2. ASCII-Based Hash Function (For Strings):\n",
    "\n",
    "Input: string, number of cells\n",
    "\n",
    "Steps:\n",
    "\n",
    "Convert each character to its ASCII value using Python’s ord() function.\n",
    "\n",
    "Sum up all ASCII values.\n",
    "\n",
    "Use mod function to find index: sum % number_of_cells\n",
    "\n",
    "Example:\n",
    "\n",
    "\"ABC\" → ASCII: 65 + 66 + 67 = 198\n",
    "\n",
    "198 % 24 = 6 → Store \"ABC\" at index 6\n",
    "\n",
    "# ✅ Characteristics of a Good Hash Function:\n",
    "\n",
    "Uniform Distribution:\n",
    "\n",
    "Hash values should spread data evenly across all indices.\n",
    "\n",
    "Prevents clustering (many items going to same index → collisions).\n",
    "\n",
    "Uses All Input Data:\n",
    "\n",
    "Should consider all characters in the input, not just a subset.\n",
    "\n",
    "Example: If only first 3 characters are used, \"HELLO123\" and \"HELLO999\" may hash to the same value.\n",
    "\n",
    "Result: More collisions → Bad performance.\n",
    "\n",
    "# 🚫 What is a Collision?\n",
    "A collision occurs when two different inputs map to the same index in the hash table.\n",
    "\n",
    "Example: Both \"CAT\" and \"CAR\" return index 20 → collision occurs.\n"
   ]
  },
  {
   "cell_type": "markdown",
   "id": "10b26d3e",
   "metadata": {},
   "source": [
    "# 🧠 Scenario Setup:\n",
    "Suppose we have a hash table of size 7 (indexes: 0 to 6)\n",
    "\n",
    "# simple hash function:\n",
    "\n",
    "hash(key) = key % 7\n",
    "\n",
    "# 🎯 Keys to Insert: 10, 17, 24\n",
    "Now let’s apply each collision resolution technique"
   ]
  },
  {
   "cell_type": "markdown",
   "id": "fadfd15d",
   "metadata": {},
   "source": [
    "# 1. ✅ Direct Chaining (with Linked List)\n"
   ]
  },
  {
   "cell_type": "markdown",
   "id": "a7eff4cd",
   "metadata": {},
   "source": [
    "hash(10) = 10 % 7 = 3   → insert 10 at index 3\n",
    "\n",
    "hash(17) = 17 % 7 = 3   → collision! insert 17 in linked list at index 3\n",
    "\n",
    "hash(24) = 24 % 7 = 3   → collision! insert 24 in linked list at index 3\n"
   ]
  },
  {
   "cell_type": "markdown",
   "id": "949e1a8d",
   "metadata": {},
   "source": [
    "🧾 Table:\n",
    "\n",
    "Index | Values\n",
    "--------------\n",
    "  3   | 10 → 17 → 24"
   ]
  },
  {
   "cell_type": "markdown",
   "id": "2668da4b",
   "metadata": {},
   "source": [
    "# 📌 Example:\n",
    "\n",
    "Keys: [10, 20, 30], Size: 10\n",
    "\n",
    "Hash Function: key % 10\n",
    "\n",
    "10 % 10 = 0 → Bucket 0: [10]\n",
    "\n",
    "20 % 10 = 0 → Bucket 0: [10, 20]\n",
    "\n",
    "30 % 10 = 0 → Bucket 0: [10, 20, 30]"
   ]
  },
  {
   "cell_type": "code",
   "execution_count": 9,
   "id": "9104a3b9",
   "metadata": {},
   "outputs": [
    {
     "name": "stdout",
     "output_type": "stream",
     "text": [
      "Index | Chain\n",
      "-------------\n",
      "    0 | [10, 20, 30]\n"
     ]
    }
   ],
   "source": [
    "# Direct Chaining using dictionary of lists\n",
    "size = 10\n",
    "hash_table = {i: [] for i in range(size)}\n",
    "keys = [10, 20, 30]\n",
    "\n",
    "for key in keys:\n",
    "    index = key % size\n",
    "    hash_table[index].append(key)\n",
    "\n",
    "# Print hash table\n",
    "print(\"Index | Chain\")\n",
    "print(\"-------------\")\n",
    "for i in range(size):\n",
    "    if hash_table[i]:\n",
    "        print(f\"{i:>5} | {hash_table[i]}\")\n"
   ]
  },
  {
   "cell_type": "markdown",
   "id": "924b6e14",
   "metadata": {},
   "source": [
    "# 2. ✅ Linear Probing\n",
    "\n",
    "hash(10) = 3 → index 3 empty → insert 10\n",
    "\n",
    "hash(17) = 3 → collision! → try 4 → empty → insert 17\n",
    "\n",
    "hash(24) = 3 → collision! → 4 taken → try 5 → empty → insert 24\n",
    "\n",
    "🧾 Table:\n",
    "\n",
    "Index | Values\n",
    "--------------\n",
    "  3   | 10\n",
    "  4   | 17\n",
    "  5   | 24\n"
   ]
  },
  {
   "cell_type": "markdown",
   "id": "6516812b",
   "metadata": {},
   "source": [
    "# 📌 Example:\n",
    "\n",
    "Keys: [10, 20, 30], Size: 10\n",
    "\n",
    "Hash Function: key % 10\n",
    "\n",
    "10 % 10 = 0 → index 0: [10]\n",
    "\n",
    "20 % 10 = 0 → collision → check 1 → [20]\n",
    "\n",
    "30 % 10 = 0 → collision → check 1 (filled) → check 2 → [30]"
   ]
  },
  {
   "cell_type": "code",
   "execution_count": 10,
   "id": "f2030759",
   "metadata": {},
   "outputs": [
    {
     "name": "stdout",
     "output_type": "stream",
     "text": [
      "Index | Value\n",
      "--------------\n",
      "    0 | 10\n",
      "    1 | 20\n",
      "    2 | 30\n"
     ]
    }
   ],
   "source": [
    "# Linear Probing\n",
    "size = 10\n",
    "hash_table = [None] * size\n",
    "keys = [10, 20, 30]\n",
    "\n",
    "for key in keys:\n",
    "    index = key % size\n",
    "    while hash_table[index] is not None:\n",
    "        index = (index + 1) % size\n",
    "    hash_table[index] = key\n",
    "\n",
    "# Print hash table\n",
    "print(\"Index | Value\")\n",
    "print(\"--------------\")\n",
    "for i in range(size):\n",
    "    if hash_table[i] is not None:\n",
    "        print(f\"{i:>5} | {hash_table[i]}\")\n"
   ]
  },
  {
   "cell_type": "markdown",
   "id": "0dddeb90",
   "metadata": {},
   "source": [
    "# 3. ✅ . Quadratic Probing\n",
    "📌 Idea: Jab collision hota hai, toh agla index hum square jumps se dhoondhte hain:\n",
    "\n",
    "Jump by: 1², 2², 3², ...\n",
    "\n",
    "Formula:\n",
    "\n",
    "index = (hash(key) + i²) % table_size\n",
    "\n",
    "🔍 Example:\n",
    "\n",
    "Table size: 7, keys: [10, 17, 24]\n",
    "\n",
    "Hash function: key % 7\n",
    "\n",
    "10 % 7 = 3 → Put at index 3\n",
    "\n",
    "17 % 7 = 3 → Collision at 3 → try (3 + 1²) % 7 = 4 → OK → Put at 4\n",
    "\n",
    "24 % 7 = 3 → Collision at 3 → try 4 (collision) → (3 + 2²) % 7 = 7 → 0 → Put at 0\n",
    "\n",
    "👉 Final Table:\n",
    "\n",
    "Index | Values\n",
    "--------------\n",
    "  0   | 24\n",
    "  3   | 10\n",
    "  4   | 17"
   ]
  },
  {
   "cell_type": "code",
   "execution_count": 7,
   "id": "592ab2a5",
   "metadata": {},
   "outputs": [
    {
     "name": "stdout",
     "output_type": "stream",
     "text": [
      "Index | Values\n",
      "--------------\n",
      "  0   | 24\n",
      "  3   | 10\n",
      "  4   | 17\n"
     ]
    }
   ],
   "source": [
    "# Quadratic Probing\n",
    "size = 7\n",
    "hash_table = [None] * size\n",
    "keys = [10, 17, 24]\n",
    "\n",
    "for key in keys:\n",
    "    index = key % size\n",
    "    i = 1\n",
    "    while hash_table[index] is not None:\n",
    "        index = (key + i * i) % size\n",
    "        i += 1\n",
    "    hash_table[index] = key\n",
    "\n",
    "# Print table\n",
    "print(\"Index | Values\")\n",
    "print(\"--------------\")\n",
    "for i in range(size):\n",
    "    if hash_table[i] is not None:\n",
    "        print(f\"  {i}   | {hash_table[i]}\")\n"
   ]
  },
  {
   "cell_type": "markdown",
   "id": "3be19b00",
   "metadata": {},
   "source": [
    "# 4. ✅ Double Hashing\n",
    "\n",
    "📌 Idea: Collision ke time ek second hash function se step size nikaalte hain.\n",
    "\n",
    "Formula:\n",
    "\n",
    "h1 = key % size\n",
    "\n",
    "h2 = prime - (key % prime)   ← second hash\n",
    "\n",
    "index = (h1 + i*h2) % size\n",
    "\n",
    "🔍 Example:\n",
    "\n",
    "Keys: [10, 17, 24], Size: 7, Prime: 5\n",
    "\n",
    "10 % 7 = 3 → OK → Put at 3\n",
    "\n",
    "17 % 7 = 3 → Collision → h2 = 5 - (17 % 5) = 3 → (3 + 1×3) % 7 = 6 → Put at 6\n",
    "\n",
    "24 % 7 = 3 → Collision → h2 = 5 - (24 % 5) = 1 → (3 + 1×1) % 7 = 4 → Put at 4\n",
    "\n",
    "👉 Final Table:\n",
    "\n",
    "Index | Values\n",
    "--------------\n",
    "  3   | 10\n",
    "  4   | 24\n",
    "  6   | 17"
   ]
  },
  {
   "cell_type": "code",
   "execution_count": 8,
   "id": "9d4423b8",
   "metadata": {},
   "outputs": [
    {
     "name": "stdout",
     "output_type": "stream",
     "text": [
      "Index | Values\n",
      "--------------\n",
      "  3   | 10\n",
      "  4   | 24\n",
      "  6   | 17\n"
     ]
    }
   ],
   "source": [
    "# Double Hashing\n",
    "size = 7\n",
    "prime = 5\n",
    "hash_table = [None] * size\n",
    "keys = [10, 17, 24]\n",
    "\n",
    "for key in keys:\n",
    "    h1 = key % size\n",
    "    h2 = prime - (key % prime)\n",
    "    i = 0\n",
    "    index = h1\n",
    "    while hash_table[index] is not None:\n",
    "        i += 1\n",
    "        index = (h1 + i * h2) % size\n",
    "    hash_table[index] = key\n",
    "\n",
    "# Print table\n",
    "print(\"Index | Values\")\n",
    "print(\"--------------\")\n",
    "for i in range(size):\n",
    "    if hash_table[i] is not None:\n",
    "        print(f\"  {i}   | {hash_table[i]}\")\n"
   ]
  },
  {
   "cell_type": "markdown",
   "id": "fbd7dcda",
   "metadata": {},
   "source": []
  }
 ],
 "metadata": {
  "kernelspec": {
   "display_name": "env",
   "language": "python",
   "name": "python3"
  },
  "language_info": {
   "codemirror_mode": {
    "name": "ipython",
    "version": 3
   },
   "file_extension": ".py",
   "mimetype": "text/x-python",
   "name": "python",
   "nbconvert_exporter": "python",
   "pygments_lexer": "ipython3",
   "version": "3.12.10"
  }
 },
 "nbformat": 4,
 "nbformat_minor": 5
}
