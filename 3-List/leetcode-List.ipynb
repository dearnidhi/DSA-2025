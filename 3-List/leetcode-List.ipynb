{
 "cells": [
  {
   "cell_type": "markdown",
   "id": "6f17cae6",
   "metadata": {},
   "source": [
    "# 1929. Concatenation of Array"
   ]
  },
  {
   "cell_type": "code",
   "execution_count": 1,
   "id": "ee9daafd",
   "metadata": {},
   "outputs": [
    {
     "name": "stdout",
     "output_type": "stream",
     "text": [
      "[1, 2, 1, 1, 2, 1]\n",
      "[1, 3, 2, 1, 1, 3, 2, 1]\n"
     ]
    }
   ],
   "source": [
    "from typing import List\n",
    "\n",
    "class Solution:\n",
    "    def getConcatenation(self, nums: List[int]) -> List[int]:\n",
    "        return nums + nums\n",
    "sol = Solution()\n",
    "\n",
    "print(sol.getConcatenation([1,2,1]))   # [1,2,1,1,2,1]\n",
    "print(sol.getConcatenation([1,3,2,1])) # [1,3,2,1,1,3,2,1]\n"
   ]
  },
  {
   "cell_type": "markdown",
   "id": "8a1d84ff",
   "metadata": {},
   "source": [
    "# 2011. Final Value of Variable After Performing Operations"
   ]
  },
  {
   "cell_type": "code",
   "execution_count": 3,
   "id": "f1ac02e2",
   "metadata": {},
   "outputs": [
    {
     "name": "stdout",
     "output_type": "stream",
     "text": [
      "1\n",
      "3\n",
      "0\n"
     ]
    }
   ],
   "source": [
    "from typing import List\n",
    "\n",
    "class Solution:\n",
    "    def finalValueAfterOperations(self, operations: List[str]) -> int:\n",
    "        X = 0\n",
    "        for op in operations:\n",
    "            if \"++\" in op:\n",
    "                X += 1\n",
    "            else:\n",
    "                X -= 1\n",
    "        return X\n",
    "sol = Solution()\n",
    "\n",
    "print(sol.finalValueAfterOperations([\"--X\",\"X++\",\"X++\"]))   # 1\n",
    "print(sol.finalValueAfterOperations([\"++X\",\"++X\",\"X++\"]))   # 3\n",
    "print(sol.finalValueAfterOperations([\"X++\",\"++X\",\"--X\",\"X--\"])) # 0\n"
   ]
  },
  {
   "cell_type": "markdown",
   "id": "200a4d30",
   "metadata": {},
   "source": [
    "📝 Explanation\n",
    "\n",
    "Start with X = 0.\n",
    "\n",
    "If the operation contains \"++\", increase X by 1.\n",
    "\n",
    "Otherwise (\"--\"), decrease X by 1."
   ]
  },
  {
   "cell_type": "markdown",
   "id": "ab76d539",
   "metadata": {},
   "source": [
    "# 1480. Running Sum of 1d Array"
   ]
  },
  {
   "cell_type": "code",
   "execution_count": 5,
   "id": "157d8679",
   "metadata": {},
   "outputs": [
    {
     "name": "stdout",
     "output_type": "stream",
     "text": [
      "[1, 3, 6, 10]\n",
      "[1, 2, 3, 4, 5]\n",
      "[3, 4, 6, 16, 17]\n"
     ]
    }
   ],
   "source": [
    "from typing import List\n",
    "\n",
    "class Solution:\n",
    "    def runningSum(self, nums: List[int]) -> List[int]:\n",
    "        for i in range(1, len(nums)):\n",
    "            nums[i] += nums[i-1]\n",
    "        return nums\n",
    "\n",
    "sol = Solution()\n",
    "\n",
    "print(sol.runningSum([1,2,3,4]))      # [1,3,6,10]\n",
    "print(sol.runningSum([1,1,1,1,1]))    # [1,2,3,4,5]\n",
    "print(sol.runningSum([3,1,2,10,1]))   # [3,4,6,16,17]\n"
   ]
  },
  {
   "cell_type": "markdown",
   "id": "2535164c",
   "metadata": {},
   "source": [
    "# nums = [2, 5]\n",
    "\n",
    "Step-by-Step Dry Run\n",
    "\n",
    "Initial:\n",
    "\n",
    "\n",
    "nums = [2, 5]\n",
    "\n",
    "Loop: for i in range(1, len(nums))\n",
    "\n",
    "👉 Here len(nums) = 2, so the loop will run only for i = 1.\n",
    "\n",
    "🔹 Iteration 1 (i = 1):\n",
    "\n",
    "nums[1] += nums[0]\n",
    "\n",
    "nums[1] = 5 + 2 = 7\n",
    "\n",
    "Now nums = [2, 7]\n",
    "\n",
    "✅ Final Output:\n",
    "\n",
    "[2, 7]"
   ]
  },
  {
   "cell_type": "markdown",
   "id": "7a6ed24b",
   "metadata": {},
   "source": [
    "# 1512. Number of Good Pairs"
   ]
  },
  {
   "cell_type": "code",
   "execution_count": 6,
   "id": "5e693342",
   "metadata": {},
   "outputs": [],
   "source": [
    "from typing import List\n",
    "from collections import Counter\n",
    "\n",
    "class Solution:\n",
    "    def numIdenticalPairs(self, nums: List[int]) -> int:\n",
    "        freq = Counter(nums)\n",
    "        count = 0\n",
    "        for val in freq.values():\n",
    "            count += (val * (val - 1)) // 2   # formula nC2\n",
    "        return count\n"
   ]
  },
  {
   "cell_type": "markdown",
   "id": "1712cf50",
   "metadata": {},
   "source": [
    "# 🔹 Dry Run of numIdenticalPairs\n",
    "\n",
    "Example Input\n",
    "\n",
    "nums = [1, 1, 2]\n",
    "\n",
    "# Step 1: Count frequencies\n",
    "freq = Counter(nums)  \n",
    "# freq = {1: 2, 2: 1}\n",
    "\n",
    "# Step 2: Loop over frequencies\n",
    "\n",
    "For val = 2 (because there are 2 occurrences of 1):\n",
    "\n",
    "count += (2 * (2 - 1)) // 2\n",
    "\n",
    "count += (2 * 1) // 2\n",
    "\n",
    "count += 1\n",
    "\n",
    "→ count = 1\n",
    "\n",
    "\n",
    "For val = 1 (because there is 1 occurrence of 2):\n",
    "\n",
    "count += (1 * (1 - 1)) // 2\n",
    "\n",
    "count += 0\n",
    "\n",
    "→ count = 1\n",
    "\n",
    "✅ Final Answer\n",
    "\n",
    "count = 1\n",
    "\n",
    "\n",
    "Which makes sense ✅ because the only good pair is (0,1) → both are 1."
   ]
  },
  {
   "cell_type": "markdown",
   "id": "4263faac",
   "metadata": {},
   "source": [
    "# 1365. How Many Numbers Are Smaller Than the Current Number\n"
   ]
  },
  {
   "cell_type": "code",
   "execution_count": 9,
   "id": "5500b010",
   "metadata": {},
   "outputs": [
    {
     "name": "stdout",
     "output_type": "stream",
     "text": [
      "[4, 0, 1, 1, 3]\n",
      "[2, 1, 0, 3]\n",
      "[0, 0, 0, 0]\n"
     ]
    }
   ],
   "source": [
    "from typing import List\n",
    "\n",
    "class Solution:\n",
    "    def smallerNumbersThanCurrent(self, nums: List[int]) -> List[int]:\n",
    "        sorted_nums = sorted(nums)\n",
    "        # map number → index of its first occurrence in sorted list\n",
    "        rank = {}\n",
    "        for i, num in enumerate(sorted_nums):\n",
    "            if num not in rank:   # store only first occurrence\n",
    "                rank[num] = i\n",
    "        # build answer using the rank\n",
    "        return [rank[num] for num in nums]\n",
    "sol = Solution()\n",
    "\n",
    "print(sol.smallerNumbersThanCurrent([8,1,2,2,3]))  # [4,0,1,1,3]\n",
    "print(sol.smallerNumbersThanCurrent([6,5,4,8]))    # [2,1,0,3]\n",
    "print(sol.smallerNumbersThanCurrent([7,7,7,7]))    # [0,0,0,0]\n",
    "    \n"
   ]
  },
  {
   "cell_type": "markdown",
   "id": "391a60d6",
   "metadata": {},
   "source": [
    "📝 Explanation (for [8,1,2,2,3])\n",
    "\n",
    "Sorted array = [1,2,2,3,8]\n",
    "\n",
    "First indices (rank): {1:0, 2:1, 3:3, 8:4}\n",
    "\n",
    "Build answer: [4,0,1,1,3]"
   ]
  },
  {
   "cell_type": "code",
   "execution_count": 4,
   "id": "f86edb6c",
   "metadata": {},
   "outputs": [
    {
     "name": "stdout",
     "output_type": "stream",
     "text": [
      "[1, 2, 3, 4, 5, 1, 2, 3, 4, 5]\n"
     ]
    }
   ],
   "source": [
    "def flatten_list(nested_list):\n",
    "    \"\"\"Flatten a nested list recursively\"\"\"\n",
    "    result = []\n",
    "    for item in nested_list:\n",
    "        if isinstance(item, list):\n",
    "            result.extend(flatten_list(item))\n",
    "        else:\n",
    "            result.append(item)\n",
    "    return result\n",
    "\n",
    "a = [1,2,3,[4,5]]\n",
    "b = [1,2,3,4,5]\n",
    "c = flatten_list(a) + flatten_list(b)\n",
    "\n",
    "print(c)"
   ]
  },
  {
   "cell_type": "code",
   "execution_count": 6,
   "id": "c8b7d2d7",
   "metadata": {},
   "outputs": [
    {
     "name": "stdout",
     "output_type": "stream",
     "text": [
      "[2, 3, 4, 8, 9, 0, 1, 1, 5, 6]\n"
     ]
    }
   ],
   "source": [
    "def flatten_list(nested_list):\n",
    "    result= []\n",
    "    for item in nested_list:\n",
    "        if isinstance(item, list):\n",
    "            result.extend(flatten_list(item))\n",
    "        else:\n",
    "            result.append(item)\n",
    "    return result        \n",
    "a = [2,3,4,[8,9,0]]\n",
    "b = [1,1,5,6]\n",
    "c = flatten_list(a) + flatten_list(b)\n",
    "print(c)                "
   ]
  },
  {
   "cell_type": "code",
   "execution_count": null,
   "id": "d046da16",
   "metadata": {},
   "outputs": [],
   "source": []
  }
 ],
 "metadata": {
  "kernelspec": {
   "display_name": "Python 3",
   "language": "python",
   "name": "python3"
  },
  "language_info": {
   "codemirror_mode": {
    "name": "ipython",
    "version": 3
   },
   "file_extension": ".py",
   "mimetype": "text/x-python",
   "name": "python",
   "nbconvert_exporter": "python",
   "pygments_lexer": "ipython3",
   "version": "3.10.11"
  }
 },
 "nbformat": 4,
 "nbformat_minor": 5
}
