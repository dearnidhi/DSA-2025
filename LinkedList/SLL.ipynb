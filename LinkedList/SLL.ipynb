{
 "cells": [
  {
   "cell_type": "markdown",
   "id": "bff51756",
   "metadata": {},
   "source": [
    "# What is a Linked List?\n",
    "\n",
    "A Linked List is a data structure that stores data in nodes.\n",
    "\n",
    "# Each node has:\n",
    "\n",
    "* Data (value of the node)\n",
    "\n",
    "* Next pointer (address/reference of the next node)\n",
    "\n",
    "👉 Unlike arrays/lists, elements are not stored in continuous memory locations.\n",
    "\n",
    "Example (visual):\n",
    "\n",
    "Head → [10|Next] → [20|Next] → [30|Next] → None"
   ]
  },
  {
   "cell_type": "markdown",
   "id": "ec214fe1",
   "metadata": {},
   "source": [
    "# Linked List vs Array/List\n",
    "# Array (Python list)\n",
    "\n",
    "arr = [10, 20, 30]\n",
    "\n",
    "memory contiguous -> indexing fast (arr[1] = 20)\n",
    "\n",
    "Linked List -> scattered in memory\n",
    "\n",
    "head -> [10|next] -> [20|next] -> [30|None]\n",
    "\n",
    "\n",
    "Array → fast indexing (O(1)), slow insert/delete (O(n))\n",
    "\n",
    "Linked List → slow indexing (O(n)), fast insert/delete (O(1) if node reference known)"
   ]
  },
  {
   "cell_type": "markdown",
   "id": "fb27f77c",
   "metadata": {},
   "source": [
    "Use Array if you need fast access.\n",
    "\n",
    "Use Linked List if you need frequent insertions/deletions."
   ]
  },
  {
   "cell_type": "markdown",
   "id": "46006506",
   "metadata": {},
   "source": [
    "# Types of Linked List\n",
    "\n",
    "# Singly Linked List\n",
    "Each node points to the next node only.\n",
    "\n",
    "10 → 20 → 30 → None\n",
    "\n",
    "\n",
    "# Doubly Linked List\n",
    "Each node has two pointers: prev and next.\n",
    "\n",
    "None ← 10 ⇆ 20 ⇆ 30 → None\n",
    "\n",
    "\n",
    "# Circular Linked List\n",
    "\n",
    "Last node points back to the head (forms a circle).\n",
    "\n",
    "10 → 20 → 30 → back to 10"
   ]
  },
  {
   "cell_type": "markdown",
   "id": "c04d9dd7",
   "metadata": {},
   "source": [
    "# 🔹 Arrays in Memory\n",
    "\n",
    "Array elements are stored **contiguously** (side by side) in memory.\n",
    "\n",
    "**Example:**\n",
    "\n",
    "| Index  | 0  | 1  | 2  | 3  |\n",
    "|--------|----|----|----|----|\n",
    "| Value  | 10 | 20 | 30 | 40 |\n",
    "| Address|100 |104 |108 |112 |\n",
    "\n",
    "👉 This is why accessing an element like `arr[3]` is very fast **O(1)**.  \n",
    "We just do:  \n"
   ]
  },
  {
   "cell_type": "markdown",
   "id": "c6a2a4a0",
   "metadata": {},
   "source": [
    "Address of arr[i] = Base address + (i * size of element)"
   ]
  },
  {
   "cell_type": "markdown",
   "id": "f4c23917",
   "metadata": {},
   "source": [
    "\n",
    "---\n",
    "\n",
    "# 🔹 Linked List in Memory\n",
    "\n",
    "In a **Linked List**, elements are stored as **nodes**.  \n",
    "Each node has two parts:\n",
    "\n",
    "- **Data** → the actual value (like 10, 20, 30 …)  \n",
    "- **Pointer (next)** → the memory address of the next node  \n",
    "\n",
    "👉 A node looks like:\n"
   ]
  },
  {
   "cell_type": "markdown",
   "id": "8f317b27",
   "metadata": {},
   "source": [
    "[ Data | Next ]"
   ]
  },
  {
   "cell_type": "markdown",
   "id": "0c017f38",
   "metadata": {},
   "source": [
    "\n",
    "**Example Linked List:**\n",
    "Head → [1|] → [2|] → [4|*] → [5|None]"
   ]
  },
  {
   "cell_type": "markdown",
   "id": "76db11ac",
   "metadata": {},
   "source": [
    "\n",
    "- **Head** points to the first node.  \n",
    "- Each node points to the **next node**.  \n",
    "- The **last node** points to `None` (Tail).  \n",
    "\n",
    "---\n",
    "\n",
    "# 🔹 Important Points\n",
    "\n",
    "- Nodes are **not stored contiguously**.  \n",
    "- When you create a node, it gets memory from **any free space** in RAM.  \n",
    "\n",
    "**Example (scattered nodes):**\n"
   ]
  },
  {
   "cell_type": "markdown",
   "id": "e6189cbb",
   "metadata": {},
   "source": [
    "Node1 (data=1) → Address 200\n",
    "\n",
    "Node2 (data=2) → Address 540\n",
    "\n",
    "Node3 (data=4) → Address 120\n",
    "\n",
    "Node4 (data=5) → Address 999"
   ]
  },
  {
   "cell_type": "markdown",
   "id": "6b1351a4",
   "metadata": {},
   "source": [
    "(They are scattered but linked using the **Next pointer**)\n",
    "\n",
    "- **Extra memory** is needed for storing the pointer.  \n",
    "- **Dynamic sizing** → Unlike arrays, we don’t fix the size at the start.  \n",
    "- **Access is slower** → Must traverse from **Head → Node1 → Node2 → …** (O(n)).  \n",
    "\n",
    "---\n",
    "\n",
    "# 🔹 Difference from Arrays\n",
    "\n",
    "- **Arrays** → Fast access (**O(1)**), fixed size.  \n",
    "- **Linked List** → Slow access (**O(n)**), dynamic size.  \n"
   ]
  },
  {
   "cell_type": "markdown",
   "id": "2fe97005",
   "metadata": {},
   "source": [
    "# 1. Node Class"
   ]
  },
  {
   "cell_type": "code",
   "execution_count": 2,
   "id": "47f3497d",
   "metadata": {},
   "outputs": [
    {
     "name": "stdout",
     "output_type": "stream",
     "text": [
      "Node created with value: 10\n",
      "Next pointer: None\n"
     ]
    }
   ],
   "source": [
    "# Node class for Linked List\n",
    "class Node:\n",
    "    def __init__(self, value):\n",
    "        self.value = value      # store data\n",
    "        self.next = None        # initially no next node\n",
    "\n",
    "# Example: creating a new node\n",
    "new_node = Node(10)\n",
    "\n",
    "print(\"Node created with value:\", new_node.value)\n",
    "print(\"Next pointer:\", new_node.next)\n"
   ]
  },
  {
   "cell_type": "markdown",
   "id": "60743ab0",
   "metadata": {},
   "source": [
    "- The Node class represents a single element in the linked list.\n",
    "\n",
    "- Each node has:\n",
    "\n",
    "      - value: The data stored in the node.\n",
    "\n",
    "      - next: A pointer/reference to the next node in the list (initialized as None)."
   ]
  },
  {
   "cell_type": "markdown",
   "id": "f843dc8b",
   "metadata": {},
   "source": [
    "# 2. LinkedList Class"
   ]
  },
  {
   "cell_type": "code",
   "execution_count": 2,
   "id": "edc02072",
   "metadata": {},
   "outputs": [],
   "source": [
    "class LinkedList:\n",
    "    def __init__(self):\n",
    "        self.head = None  # Points to the first node\n",
    "        self.tail = None  # Points to the last node\n",
    "        self.length = 0   # Tracks the number of nodes"
   ]
  },
  {
   "cell_type": "markdown",
   "id": "4da3bef9",
   "metadata": {},
   "source": [
    "- The LinkedList class manages the nodes.\n",
    "\n",
    "- Initial state:\n",
    "\n",
    "      - head and tail are None (empty list).\n",
    "\n",
    "      - length is 0."
   ]
  },
  {
   "cell_type": "markdown",
   "id": "585e8af0",
   "metadata": {},
   "source": [
    "# 3. __str__ Method"
   ]
  },
  {
   "cell_type": "code",
   "execution_count": 3,
   "id": "ddbbcb47",
   "metadata": {},
   "outputs": [],
   "source": [
    "def __str__(self):\n",
    "    temp_node = self.head\n",
    "    result = ''\n",
    "    while temp_node is not None:\n",
    "        result += str(temp_node.value)\n",
    "        if temp_node.next is not None:\n",
    "            result += ' -> '\n",
    "        temp_node = temp_node.next\n",
    "    return result"
   ]
  },
  {
   "cell_type": "markdown",
   "id": "91d1a669",
   "metadata": {},
   "source": [
    "- Returns a string representation of the linked list (e.g., 10 -> 20 -> 30).\n",
    "\n",
    "- Traverses the list from head to tail, appending each node's value and an arrow (->) between values."
   ]
  },
  {
   "cell_type": "markdown",
   "id": "620e48f1",
   "metadata": {},
   "source": [
    "# 4. append Method"
   ]
  },
  {
   "cell_type": "code",
   "execution_count": 4,
   "id": "492998b4",
   "metadata": {},
   "outputs": [],
   "source": [
    "def append(self, value):\n",
    "    new_node = Node(value)\n",
    "    if self.head is None:\n",
    "        self.head = new_node\n",
    "        self.tail = new_node\n",
    "    else:\n",
    "        self.tail.next = new_node\n",
    "        self.tail = new_node\n",
    "    self.length += 1"
   ]
  },
  {
   "cell_type": "markdown",
   "id": "7e974d68",
   "metadata": {},
   "source": [
    "- Adds a new node at the end of the list.\n",
    "\n",
    "- If the list is empty, the new node becomes both head and tail.\n",
    "\n",
    "- Otherwise:\n",
    "\n",
    "        - The current tail's next points to the new node.\n",
    "\n",
    "        - The new node becomes the new tail.\n",
    "\n",
    "        - Increments length."
   ]
  },
  {
   "cell_type": "markdown",
   "id": "76fadb21",
   "metadata": {},
   "source": [
    "# 5. prepend Method"
   ]
  },
  {
   "cell_type": "code",
   "execution_count": 5,
   "id": "6a2ac5cc",
   "metadata": {},
   "outputs": [],
   "source": [
    "def prepend(self, value):\n",
    "    new_node = Node(value)\n",
    "    if self.head is None:\n",
    "        self.head = new_node\n",
    "        self.tail = new_node\n",
    "    else:\n",
    "        new_node.next = self.head\n",
    "        self.head = new_node\n",
    "    self.length += 1"
   ]
  },
  {
   "cell_type": "markdown",
   "id": "180d522f",
   "metadata": {},
   "source": [
    "- Adds a new node at the beginning of the list.\n",
    "\n",
    "- If the list is empty, the new node becomes both head and tail.\n",
    "\n",
    "- Otherwise:\n",
    "\n",
    "        -  The new node's next points to the current head.\n",
    "\n",
    "        -   The new node becomes the new head.\n",
    "\n",
    "        -  Increments length.\n",
    "\n"
   ]
  },
  {
   "cell_type": "markdown",
   "id": "27282b54",
   "metadata": {},
   "source": [
    "# 6. insert Method"
   ]
  },
  {
   "cell_type": "code",
   "execution_count": 6,
   "id": "fc33a281",
   "metadata": {},
   "outputs": [],
   "source": [
    "def insert(self, index, value):\n",
    "    new_node = Node(value)\n",
    "    if self.head is None:\n",
    "        self.head = new_node\n",
    "        self.tail = new_node\n",
    "    elif index == 0:\n",
    "        new_node.next = self.head\n",
    "        self.head = new_node\n",
    "    else:\n",
    "        temp_node = self.head\n",
    "        for _ in range(index-1):\n",
    "            temp_node = temp_node.next\n",
    "        new_node.next = temp_node.next\n",
    "        temp_node.next = new_node\n",
    "    self.length += 1"
   ]
  },
  {
   "cell_type": "markdown",
   "id": "fb32ca5b",
   "metadata": {},
   "source": [
    "- Inserts a new node at a specific index.\n",
    "\n",
    "- If the list is empty, the new node becomes both head and tail.\n",
    "\n",
    "- If index is 0, it works like prepend.\n",
    "\n",
    "- Otherwise:\n",
    "\n",
    "          - Traverse to the node at index-1.\n",
    "\n",
    "          - The new node's next points to the next node.\n",
    "\n",
    "          - The previous node's next points to the new node.\n",
    "\n",
    "- Increments length."
   ]
  },
  {
   "cell_type": "markdown",
   "id": "4284f459",
   "metadata": {},
   "source": [
    "# 7. traverse Method\n"
   ]
  },
  {
   "cell_type": "code",
   "execution_count": 7,
   "id": "2fd1fd51",
   "metadata": {},
   "outputs": [],
   "source": [
    "def traverse(self):\n",
    "    current = self.head\n",
    "    while current is not None:\n",
    "        print(current.value)\n",
    "        current = current.next"
   ]
  },
  {
   "cell_type": "markdown",
   "id": "1de7d3f3",
   "metadata": {},
   "source": [
    "- Prints all values in the list from head to tail.\n",
    "\n"
   ]
  },
  {
   "cell_type": "markdown",
   "id": "27539f2e",
   "metadata": {},
   "source": [
    "# 8. search Method (Returns Index)\n"
   ]
  },
  {
   "cell_type": "code",
   "execution_count": 8,
   "id": "6244cdac",
   "metadata": {},
   "outputs": [],
   "source": [
    "def search(self, target):\n",
    "    current = self.head\n",
    "    index = 0\n",
    "    while current is not None:\n",
    "        if current.value == target:\n",
    "            return index\n",
    "        current = current.next\n",
    "        index += 1\n",
    "    return -1"
   ]
  },
  {
   "cell_type": "markdown",
   "id": "b7bc2790",
   "metadata": {},
   "source": [
    "- Searches for a target value and returns its index (or -1 if not found).\n",
    "\n"
   ]
  },
  {
   "cell_type": "markdown",
   "id": "05a2a011",
   "metadata": {},
   "source": [
    "# 9. get Method\n"
   ]
  },
  {
   "cell_type": "code",
   "execution_count": 9,
   "id": "42dc623c",
   "metadata": {},
   "outputs": [],
   "source": [
    "def get(self, index):\n",
    "    if index == -1:\n",
    "        return self.tail\n",
    "    elif index < -1 or index >= self.length:\n",
    "        return None\n",
    "    current = self.head\n",
    "    for _ in range(index):\n",
    "        current = current.next\n",
    "    return current"
   ]
  },
  {
   "cell_type": "markdown",
   "id": "39d37228",
   "metadata": {},
   "source": [
    "Returns the node at a given index.\n",
    "\n",
    "Handles negative indices (e.g., -1 for the tail).\n",
    "\n",
    "Returns None for invalid indices."
   ]
  },
  {
   "cell_type": "markdown",
   "id": "b25259ea",
   "metadata": {},
   "source": [
    "# 10. set_value Method\n"
   ]
  },
  {
   "cell_type": "code",
   "execution_count": 10,
   "id": "1336fd29",
   "metadata": {},
   "outputs": [],
   "source": [
    "def set_value(self, index, value):\n",
    "    temp = self.get(index)\n",
    "    if temp:\n",
    "        temp.value = value\n",
    "        return True\n",
    "    return False"
   ]
  },
  {
   "cell_type": "markdown",
   "id": "cb36325e",
   "metadata": {},
   "source": [
    "Updates the value of the node at index.\n",
    "\n",
    "Returns True if successful, False otherwise."
   ]
  },
  {
   "cell_type": "markdown",
   "id": "06ec8632",
   "metadata": {},
   "source": [
    "# 11. pop_first Method\n",
    "\n",
    "Removes and returns the first node (head).\n",
    "\n",
    "Handles empty lists and single-node lists.\n",
    "\n",
    "Updates head and length."
   ]
  },
  {
   "cell_type": "code",
   "execution_count": 11,
   "id": "1bf35b16",
   "metadata": {},
   "outputs": [],
   "source": [
    "\n",
    "def pop_first(self):\n",
    "    if self.length == 0:\n",
    "        return None\n",
    "    popped_node = self.head\n",
    "    if self.length == 1:\n",
    "        self.head = None\n",
    "        self.tail = None\n",
    "    else:\n",
    "        self.head = self.head.next\n",
    "        popped_node.next = None\n",
    "    self.length -= 1\n",
    "    return popped_node"
   ]
  },
  {
   "cell_type": "markdown",
   "id": "9c834bc6",
   "metadata": {},
   "source": [
    "\n",
    "# 12. pop Method\n",
    "Removes and returns the last node (tail).\n",
    "\n",
    "Handles empty lists and single-node lists.\n",
    "\n",
    "Traverses to the second-last node to update tail."
   ]
  },
  {
   "cell_type": "code",
   "execution_count": 12,
   "id": "892bdc2f",
   "metadata": {},
   "outputs": [],
   "source": [
    "\n",
    "def pop(self):\n",
    "    if self.length == 0:\n",
    "        return None\n",
    "    popped_node = self.tail\n",
    "    if self.length == 1:\n",
    "        self.head = self.tail = None\n",
    "    else:\n",
    "        temp = self.head\n",
    "        while temp.next is not self.tail:\n",
    "            temp = temp.next\n",
    "        temp.next = None\n",
    "        self.tail = temp\n",
    "    self.length -= 1\n",
    "    return popped_node\n"
   ]
  },
  {
   "cell_type": "markdown",
   "id": "22ee87e5",
   "metadata": {},
   "source": [
    "# 13. remove Method (Corrected)\n"
   ]
  },
  {
   "cell_type": "code",
   "execution_count": 13,
   "id": "5b99be33",
   "metadata": {},
   "outputs": [],
   "source": [
    "def remove(self, index):\n",
    "    if index < -1 or index >= self.length:\n",
    "        return None\n",
    "    if index == 0:\n",
    "        return self.pop_first()\n",
    "    if index == -1 or index == self.length-1:\n",
    "        return self.pop()\n",
    "    prev_node = self.get(index-1)\n",
    "    popped_node = prev_node.next\n",
    "    prev_node.next = popped_node.next\n",
    "    popped_node.next = None\n",
    "    self.length -= 1\n",
    "    return popped_node"
   ]
  },
  {
   "cell_type": "markdown",
   "id": "e0ce541e",
   "metadata": {},
   "source": [
    "Removes and returns the node at index.\n",
    "\n",
    "Handles edge cases:\n",
    "\n",
    "index = 0: Uses pop_first.\n",
    "\n",
    "index = -1 or last index: Uses pop.\n",
    "\n",
    "For other indices:\n",
    "\n",
    "Gets the previous node (prev_node).\n",
    "\n",
    "Updates prev_node.next to skip the removed node.\n",
    "\n",
    "Decrements length."
   ]
  },
  {
   "cell_type": "code",
   "execution_count": null,
   "id": "9869aa8c",
   "metadata": {},
   "outputs": [],
   "source": []
  }
 ],
 "metadata": {
  "kernelspec": {
   "display_name": "Python 3",
   "language": "python",
   "name": "python3"
  },
  "language_info": {
   "codemirror_mode": {
    "name": "ipython",
    "version": 3
   },
   "file_extension": ".py",
   "mimetype": "text/x-python",
   "name": "python",
   "nbconvert_exporter": "python",
   "pygments_lexer": "ipython3",
   "version": "3.10.11"
  }
 },
 "nbformat": 4,
 "nbformat_minor": 5
}
