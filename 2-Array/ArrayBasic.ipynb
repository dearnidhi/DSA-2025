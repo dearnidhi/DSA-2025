{
 "cells": [
  {
   "cell_type": "markdown",
   "id": "b5057f24",
   "metadata": {},
   "source": [
    "### 📘 Array in DSA\n",
    "### ✅ What is an Array?\n",
    "An array is a collection of elements (of same data type) stored at contiguous memory locations."
   ]
  },
  {
   "cell_type": "code",
   "execution_count": 1,
   "id": "b5d00c3b",
   "metadata": {},
   "outputs": [],
   "source": [
    "arr = [10, 20, 30, 40]  # Python array (list)\n"
   ]
  },
  {
   "cell_type": "markdown",
   "id": "904bb330",
   "metadata": {},
   "source": [
    "# ✅ Why Use Arrays?\n",
    "\n",
    "Easy to access elements by index.\n",
    "\n",
    "Efficient for storing multiple values.\n",
    "\n",
    "Useful in building complex data structures (stacks, queues, etc.)."
   ]
  },
  {
   "cell_type": "markdown",
   "id": "bfe1cd18",
   "metadata": {},
   "source": [
    "# ✅ Properties of Array (with Code)\n",
    "\n",
    "* Fixed Size (in low-level languages)\n",
    "Python lists grow dynamically, but in C/C++, array size is fixed.\n",
    "\n",
    "* Same Data Type\n",
    "Python allows mixed types, but in DSA logic, we assume same types.\n",
    "\n",
    "* Index-based Access "
   ]
  },
  {
   "cell_type": "code",
   "execution_count": 3,
   "id": "ef9de768",
   "metadata": {},
   "outputs": [
    {
     "name": "stdout",
     "output_type": "stream",
     "text": [
      "15\n"
     ]
    }
   ],
   "source": [
    "arr = [5, 10, 15, 20]\n",
    "print(arr[2])  # Output: 15"
   ]
  },
  {
   "cell_type": "markdown",
   "id": "0e2b9913",
   "metadata": {},
   "source": [
    "* Contiguous Memory Allocation (C/C++ specific)\n",
    "\n"
   ]
  },
  {
   "cell_type": "markdown",
   "id": "a7fc63d7",
   "metadata": {},
   "source": [
    "# ✅ Types of Arrays\n",
    "Type\tDescription\n",
    "\n",
    "1D Array\tSimple list of elements\n",
    "\n",
    "2D Array\tMatrix (rows × cols)\n",
    "\n",
    "Multidimensional\tArray within array (3D, 4D etc.)"
   ]
  },
  {
   "cell_type": "code",
   "execution_count": 4,
   "id": "e92c92c0",
   "metadata": {},
   "outputs": [
    {
     "name": "stdout",
     "output_type": "stream",
     "text": [
      "3\n"
     ]
    }
   ],
   "source": [
    "# 1D Array\n",
    "arr1d = [1, 2, 3]\n",
    "\n",
    "# 2D Array\n",
    "arr2d = [[1, 2], [3, 4]]\n",
    "print(arr2d[1][0])  # Output: 3\n"
   ]
  },
  {
   "cell_type": "markdown",
   "id": "e04a25e3",
   "metadata": {},
   "source": [
    "# ✅ Operations on Array\n",
    "\n",
    "Operation\t     \n",
    "\n",
    "* Traverse\t -  Loop through array\t\n",
    "* Insertion\t -  Add element\t\n",
    "* Deletion   -  Remove element\t\n",
    "* Search\t -  Find an element\t\n",
    "* Update\t -  Modify element"
   ]
  },
  {
   "cell_type": "markdown",
   "id": "40b448ac",
   "metadata": {},
   "source": [
    "# ✅ Advantages\n",
    "Easy to implement.\n",
    "\n",
    "Index-based access (O(1) time).\n",
    "\n",
    "Better cache locality.\n",
    "\n",
    "# ✅ Disadvantages\n",
    "\n",
    "Fixed size (in some languages).\n",
    "\n",
    "Costly insertion/deletion (O(n) time).\n",
    "\n",
    "Wastes memory if partially filled."
   ]
  },
  {
   "cell_type": "markdown",
   "id": "269730a4",
   "metadata": {},
   "source": [
    "## 🔍 What is Traversal in Array?\n",
    "Traversal means visiting each element of an array one by one, usually to:\n",
    "\n",
    "Print\n",
    "\n",
    "Search\n",
    "\n",
    "Modify\n",
    "\n",
    "Apply operations (like sort, sum, etc.)"
   ]
  },
  {
   "cell_type": "markdown",
   "id": "da61f3b0",
   "metadata": {},
   "source": [
    "📌 Examples"
   ]
  },
  {
   "cell_type": "code",
   "execution_count": 6,
   "id": "cf0b128a",
   "metadata": {},
   "outputs": [],
   "source": [
    "arr = [10, 20, 30, 40, 50]\n",
    "# Output: 10 20 30 40 50\n"
   ]
  },
  {
   "cell_type": "markdown",
   "id": "70d12e96",
   "metadata": {},
   "source": [
    "# 📂 Types of Array Traversal\n",
    "# ✅ 1. Linear Traversal\n",
    "\n",
    "➡️ Visiting elements from start to end."
   ]
  },
  {
   "cell_type": "code",
   "execution_count": 7,
   "id": "c4b03510",
   "metadata": {},
   "outputs": [
    {
     "name": "stdout",
     "output_type": "stream",
     "text": [
      "Linear Traversal: 1 2 3 4 5 "
     ]
    }
   ],
   "source": [
    "arr = [1, 2, 3, 4, 5]\n",
    "print(\"Linear Traversal:\", end=\" \")\n",
    "for i in arr:\n",
    "    print(i , end = \" \")"
   ]
  },
  {
   "cell_type": "markdown",
   "id": "50489666",
   "metadata": {},
   "source": [
    "📌 Time Complexity: O(n)\n",
    "\n",
    "📌 Space Complexity: O(1)"
   ]
  },
  {
   "cell_type": "markdown",
   "id": "bcd2ecd1",
   "metadata": {},
   "source": [
    "# 🔁 2. Reverse Traversal\n",
    "\n",
    "➡️ Visiting elements from end to start."
   ]
  },
  {
   "cell_type": "code",
   "execution_count": 8,
   "id": "65b4f7e4",
   "metadata": {},
   "outputs": [
    {
     "name": "stdout",
     "output_type": "stream",
     "text": [
      "Reverse Traversal: 5 4 3 2 1 "
     ]
    }
   ],
   "source": [
    "arr = [1, 2, 3, 4, 5] \n",
    "print(\"Reverse Traversal: \", end=\"\") \n",
    "for i in range(len(arr) - 1, -1, -1): \n",
    "    print(arr[i], end=\" \")\n"
   ]
  },
  {
   "cell_type": "code",
   "execution_count": 13,
   "id": "b4ccc4de",
   "metadata": {},
   "outputs": [
    {
     "name": "stdout",
     "output_type": "stream",
     "text": [
      "Reverse Traversal: 5 4 3 2 1 "
     ]
    }
   ],
   "source": [
    "arr = [1, 2, 3, 4, 5]\n",
    "print(\"Reverse Traversal:\", end=\" \")\n",
    "for i in range(len(arr) -1, -1, -1):\n",
    "    print(arr[i], end=\" \")\n"
   ]
  },
  {
   "cell_type": "markdown",
   "id": "8e031c88",
   "metadata": {},
   "source": [
    "📌 Time Complexity: O(n)\n",
    "\n",
    "📌 Space Complexity: O(1)"
   ]
  },
  {
   "cell_type": "markdown",
   "id": "fe8329f6",
   "metadata": {},
   "source": [
    "# 🔄 Methods to Traverse an Array\n"
   ]
  },
  {
   "cell_type": "markdown",
   "id": "d7be4479",
   "metadata": {},
   "source": [
    "# 🌀 1. Using For Loop\n"
   ]
  },
  {
   "cell_type": "code",
   "execution_count": 16,
   "id": "05362b72",
   "metadata": {},
   "outputs": [
    {
     "name": "stdout",
     "output_type": "stream",
     "text": [
      "Traversal using for loop: 10 20 30 40 50 "
     ]
    }
   ],
   "source": [
    "arr = [10, 20, 30, 40, 50]\n",
    "print(\"Traversal using for loop:\", end=\" \")\n",
    "for i in range(len(arr)):\n",
    "    print(arr[i] , end = \" \")"
   ]
  },
  {
   "cell_type": "markdown",
   "id": "3ffe1d19",
   "metadata": {},
   "source": [
    "# 🔁 2. Using While Loop"
   ]
  },
  {
   "cell_type": "code",
   "execution_count": 17,
   "id": "f2496bee",
   "metadata": {},
   "outputs": [
    {
     "name": "stdout",
     "output_type": "stream",
     "text": [
      "10 20 30 40 50 "
     ]
    }
   ],
   "source": [
    "arr = [10, 20, 30, 40, 50]\n",
    "i = 0\n",
    "while i < len(arr):\n",
    "    print(arr[i], end=\" \")\n",
    "    i += 1\n"
   ]
  },
  {
   "cell_type": "code",
   "execution_count": 28,
   "id": "1832ba1e",
   "metadata": {},
   "outputs": [
    {
     "name": "stdout",
     "output_type": "stream",
     "text": [
      "10 20 30 40 50 "
     ]
    }
   ],
   "source": [
    "arr = [10, 20, 30, 40, 50]\n",
    "i = 0\n",
    "while i <len(arr):\n",
    "    \n",
    "    print(arr[i], end=\" \")\n",
    "    i += 1\n"
   ]
  },
  {
   "cell_type": "markdown",
   "id": "43998766",
   "metadata": {},
   "source": [
    "# 🧾 3. Using Foreach Loop (in Python: for value in arr)"
   ]
  },
  {
   "cell_type": "code",
   "execution_count": 29,
   "id": "26ce089d",
   "metadata": {},
   "outputs": [
    {
     "name": "stdout",
     "output_type": "stream",
     "text": [
      "10 20 30 40 50 "
     ]
    }
   ],
   "source": [
    "arr = [10, 20, 30, 40, 50]\n",
    "for value in arr:\n",
    "    print(value, end=\" \")\n"
   ]
  },
  {
   "cell_type": "markdown",
   "id": "ee86c0e6",
   "metadata": {},
   "source": [
    "All of the above have:\n",
    "\n",
    "⏱️ Time Complexity: O(n)\n",
    "\n",
    "📦 Auxiliary Space: O(1)"
   ]
  },
  {
   "cell_type": "markdown",
   "id": "9882d068",
   "metadata": {},
   "source": [
    "# 🛠️ Inserting Elements in an Array\n"
   ]
  },
  {
   "cell_type": "markdown",
   "id": "a7f45d35",
   "metadata": {},
   "source": [
    "# ✅ 1. Inserting at the Beginning\n"
   ]
  },
  {
   "cell_type": "code",
   "execution_count": 30,
   "id": "5ede0042",
   "metadata": {},
   "outputs": [
    {
     "name": "stdout",
     "output_type": "stream",
     "text": [
      "After Insertion: [50, 10, 20, 30, 40]\n"
     ]
    }
   ],
   "source": [
    "arr = [10, 20, 30, 40]\n",
    "ele = 50\n",
    "\n",
    "arr.insert(0, ele)\n",
    "print(\"After Insertion:\", arr)\n"
   ]
  },
  {
   "cell_type": "markdown",
   "id": "6fbc4ae1",
   "metadata": {},
   "source": [
    "🕒 Time Complexity: O(n) (because all elements are shifted)\n",
    "\n",
    "📦 Auxiliary Space: O(1) (in-place operation)"
   ]
  },
  {
   "cell_type": "markdown",
   "id": "bd4b5d84",
   "metadata": {},
   "source": [
    "# 🎯 2. Inserting at a Given Position"
   ]
  },
  {
   "cell_type": "code",
   "execution_count": 32,
   "id": "1c022144",
   "metadata": {},
   "outputs": [
    {
     "name": "stdout",
     "output_type": "stream",
     "text": [
      "After Insertion: [10, 50, 20, 30, 40]\n"
     ]
    }
   ],
   "source": [
    "arr = [10, 20, 30, 40]\n",
    "pos = 2\n",
    "ele = 50\n",
    "\n",
    "arr.insert(pos - 1, ele)\n",
    "print(\"After Insertion:\", arr)\n"
   ]
  },
  {
   "cell_type": "markdown",
   "id": "f22f271a",
   "metadata": {},
   "source": [
    "# 🚀 3. Inserting at the End"
   ]
  },
  {
   "cell_type": "code",
   "execution_count": 33,
   "id": "5602ec3d",
   "metadata": {},
   "outputs": [
    {
     "name": "stdout",
     "output_type": "stream",
     "text": [
      "After Insertion: [10, 20, 30, 40, 50]\n"
     ]
    }
   ],
   "source": [
    "arr = [10, 20, 30, 40]\n",
    "ele = 50\n",
    "\n",
    "arr.append(ele)\n",
    "print(\"After Insertion:\", arr)\n"
   ]
  },
  {
   "cell_type": "markdown",
   "id": "deb11f68",
   "metadata": {},
   "source": [
    "### 📋 Array Insertion – Time & Space Complexity Table\n",
    "\n",
    "| Operation                | Time Complexity | Space Complexity | Method Used            |\n",
    "|--------------------------|-----------------|------------------|------------------------|\n",
    "| Insert at Beginning      | O(n)            | O(1)             | `arr.insert(0, ele)`   |\n",
    "| Insert at Given Position | O(n)            | O(1)             | `arr.insert(pos-1, ele)` |\n",
    "| Insert at End            | O(1)            | O(1)             | `arr.append(ele)`      |\n"
   ]
  },
  {
   "cell_type": "markdown",
   "id": "cfe81596",
   "metadata": {},
   "source": [
    "# 4. Searching in Array\n",
    "\n"
   ]
  },
  {
   "cell_type": "code",
   "execution_count": 34,
   "id": "b97e307c",
   "metadata": {},
   "outputs": [
    {
     "name": "stdout",
     "output_type": "stream",
     "text": [
      "Element Found at position: 5\n"
     ]
    }
   ],
   "source": [
    "# 🔍 Linear Search in Unsorted Array\n",
    "\n",
    "def findElement(arr, n, key):\n",
    "    for i in range(n):\n",
    "        if arr[i] == key:\n",
    "            return i\n",
    "    return -1\n",
    "\n",
    "arr = [12, 34, 10, 6, 40]\n",
    "key = 40\n",
    "n = len(arr)\n",
    "\n",
    "index = findElement(arr, n, key)\n",
    "if index != -1:\n",
    "    print(\"Element Found at position:\", index + 1)\n",
    "else:\n",
    "    print(\"Element not found\")\n"
   ]
  },
  {
   "cell_type": "markdown",
   "id": "0578e235",
   "metadata": {},
   "source": [
    "🕒 Time: O(n)\n",
    "\n",
    "📦 Space: O(1)"
   ]
  },
  {
   "cell_type": "code",
   "execution_count": 35,
   "id": "a80ec876",
   "metadata": {},
   "outputs": [
    {
     "name": "stdout",
     "output_type": "stream",
     "text": [
      "Element Found at position: 6\n"
     ]
    }
   ],
   "source": [
    "# 🔍 Linear Search in Sorted Array\n",
    "\n",
    "def findElement(arr, n, key):\n",
    "    for i in range(n):\n",
    "        if arr[i] == key:\n",
    "            return i\n",
    "    return -1\n",
    "\n",
    "arr = [5, 6, 7, 8, 9, 10]\n",
    "key = 10\n",
    "n = len(arr)\n",
    "\n",
    "index = findElement(arr, n, key)\n",
    "if index != -1:\n",
    "    print(\"Element Found at position:\", index + 1)\n",
    "else:\n",
    "    print(\"Element not found\")\n"
   ]
  },
  {
   "cell_type": "markdown",
   "id": "d0a25f23",
   "metadata": {},
   "source": [
    "🕒 Time: O(n)\n",
    "\n",
    "📦 Space: O(1)"
   ]
  },
  {
   "cell_type": "code",
   "execution_count": 36,
   "id": "c32ac1da",
   "metadata": {},
   "outputs": [
    {
     "name": "stdout",
     "output_type": "stream",
     "text": [
      "Element found at index 5\n"
     ]
    }
   ],
   "source": [
    "# 🔍 Binary Search (Recursive)\n",
    "\n",
    "def binary_search(arr, start, end, key):\n",
    "    if start <= end:\n",
    "        mid = (start + end) // 2\n",
    "\n",
    "        if arr[mid] == key:\n",
    "            return mid\n",
    "        elif key < arr[mid]:\n",
    "            return binary_search(arr, start, mid - 1, key)\n",
    "        else:\n",
    "            return binary_search(arr, mid + 1, end, key)\n",
    "    else:\n",
    "        return -1\n",
    "\n",
    "arr = [5, 6, 7, 8, 9, 10]\n",
    "key = 10\n",
    "index = binary_search(arr, 0, len(arr) - 1, key)\n",
    "\n",
    "if index != -1:\n",
    "    print(f\"Element found at index {index}\")\n",
    "else:\n",
    "    print(\"Element not found\")\n"
   ]
  },
  {
   "cell_type": "markdown",
   "id": "95382b79",
   "metadata": {},
   "source": [
    "🕒 Time: O(log n)\n",
    "\n",
    "📦 Space: O(log n) (recursion)"
   ]
  },
  {
   "cell_type": "code",
   "execution_count": 37,
   "id": "6adbd622",
   "metadata": {},
   "outputs": [
    {
     "name": "stdout",
     "output_type": "stream",
     "text": [
      "Element found at index: 11\n"
     ]
    }
   ],
   "source": [
    "# 🔍 Fibonacci Search\n",
    "\n",
    "def fibonacci_search(arr, x, n):\n",
    "    fibMMm2 = 0\n",
    "    fibMMm1 = 1\n",
    "    fibM = fibMMm1 + fibMMm2\n",
    "\n",
    "    while fibM < n:\n",
    "        fibMMm2 = fibMMm1\n",
    "        fibMMm1 = fibM\n",
    "        fibM = fibMMm1 + fibMMm2\n",
    "\n",
    "    offset = -1\n",
    "\n",
    "    while fibM > 1:\n",
    "        i = min(offset + fibMMm2, n - 1)\n",
    "\n",
    "        if arr[i] < x:\n",
    "            fibM = fibMMm1\n",
    "            fibMMm1 = fibMMm2\n",
    "            fibMMm2 = fibM - fibMMm1\n",
    "            offset = i\n",
    "        elif arr[i] > x:\n",
    "            fibM = fibMMm2\n",
    "            fibMMm1 -= fibMMm2\n",
    "            fibMMm2 = fibM - fibMMm1\n",
    "        else:\n",
    "            return i\n",
    "\n",
    "    if fibMMm1 and arr[n - 1] == x:\n",
    "        return n - 1\n",
    "\n",
    "    return -1\n",
    "\n",
    "arr = [10, 22, 35, 40, 45, 50, 80, 82, 85, 90, 100, 235]\n",
    "x = 235\n",
    "n = len(arr)\n",
    "\n",
    "index = fibonacci_search(arr, x, n)\n",
    "if index >= 0:\n",
    "    print(\"Element found at index:\", index)\n",
    "else:\n",
    "    print(x, \"isn't present in the array\")\n"
   ]
  },
  {
   "cell_type": "markdown",
   "id": "932fbf0c",
   "metadata": {},
   "source": [
    "### 🔍 Searching in Arrays – Summary Table\n",
    "\n",
    "| Method               | Array Type | Time Complexity | Space Complexity |\n",
    "|----------------------|------------|------------------|------------------|\n",
    "| Linear Search        | Unsorted   | O(n)             | O(1)             |\n",
    "| Linear Search        | Sorted     | O(n)             | O(1)             |\n",
    "| Binary Search        | Sorted     | O(log n)         | O(log n) or O(1) |\n",
    "| Fibonacci Search     | Sorted     | O(log n)         | O(1)             |\n"
   ]
  },
  {
   "cell_type": "markdown",
   "id": "62318608",
   "metadata": {},
   "source": [
    "# 3. Deletion in Array\n"
   ]
  },
  {
   "cell_type": "code",
   "execution_count": 38,
   "id": "7d3904c1",
   "metadata": {},
   "outputs": [
    {
     "name": "stdout",
     "output_type": "stream",
     "text": [
      "After Deletion at Beginning: [20, 30, 40, 50]\n"
     ]
    }
   ],
   "source": [
    "arr = [10, 20, 30, 40, 50]\n",
    "\n",
    "# Delete first element\n",
    "del arr[0]\n",
    "\n",
    "print(\"After Deletion at Beginning:\", arr)\n"
   ]
  },
  {
   "cell_type": "markdown",
   "id": "781d64a6",
   "metadata": {},
   "source": [
    "🧠 Time Complexity: O(n)\n",
    "\n",
    "All n-1 elements have to be shifted."
   ]
  },
  {
   "cell_type": "code",
   "execution_count": 40,
   "id": "976e98e5",
   "metadata": {},
   "outputs": [
    {
     "name": "stdout",
     "output_type": "stream",
     "text": [
      "After Deletion at Index 2: [10, 20, 40, 50]\n"
     ]
    }
   ],
   "source": [
    "# ⚙️ 2. Deletion at a Specific Index\n",
    "\n",
    "arr = [10, 20, 30, 40, 50]\n",
    "index_to_delete = 2  # Deletes 30\n",
    "\n",
    "if 0 <= index_to_delete < len(arr):\n",
    "    del arr[index_to_delete]\n",
    "\n",
    "print(\"After Deletion at Index 2:\", arr)"
   ]
  },
  {
   "cell_type": "code",
   "execution_count": 43,
   "id": "cfa4065e",
   "metadata": {},
   "outputs": [
    {
     "name": "stdout",
     "output_type": "stream",
     "text": [
      "[23, 45, 56, 11]\n"
     ]
    }
   ],
   "source": [
    "afr = [23,45,56,22,11]\n",
    "index_to_delete = 3\n",
    "if 0 <= index_to_delete < len(afr):\n",
    "    del afr[index_to_delete]\n",
    "print(afr)    "
   ]
  },
  {
   "cell_type": "markdown",
   "id": "19551786",
   "metadata": {},
   "source": [
    "🧠 Time Complexity: O(n)\n",
    "\n",
    "All elements after the deleted one need to shift."
   ]
  },
  {
   "cell_type": "code",
   "execution_count": 44,
   "id": "b7a14dba",
   "metadata": {},
   "outputs": [
    {
     "name": "stdout",
     "output_type": "stream",
     "text": [
      "After Deletion at End: [10, 20, 30, 40]\n"
     ]
    }
   ],
   "source": [
    "# ⚙️ 3. Deletion at the End\n",
    "\n",
    "arr = [10, 20, 30, 40, 50]\n",
    "\n",
    "# Delete last element\n",
    "arr.pop()\n",
    "\n",
    "print(\"After Deletion at End:\", arr)"
   ]
  },
  {
   "cell_type": "markdown",
   "id": "d9ca8aa1",
   "metadata": {},
   "source": [
    "🧠 Time Complexity: O(1)\n",
    "\n",
    "No shifting is needed."
   ]
  },
  {
   "cell_type": "code",
   "execution_count": null,
   "id": "feababcd",
   "metadata": {},
   "outputs": [],
   "source": []
  }
 ],
 "metadata": {
  "kernelspec": {
   "display_name": "env",
   "language": "python",
   "name": "python3"
  },
  "language_info": {
   "codemirror_mode": {
    "name": "ipython",
    "version": 3
   },
   "file_extension": ".py",
   "mimetype": "text/x-python",
   "name": "python",
   "nbconvert_exporter": "python",
   "pygments_lexer": "ipython3",
   "version": "3.12.10"
  }
 },
 "nbformat": 4,
 "nbformat_minor": 5
}
