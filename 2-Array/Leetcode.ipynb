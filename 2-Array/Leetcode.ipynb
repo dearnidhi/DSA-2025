{
 "cells": [
  {
   "cell_type": "markdown",
   "id": "ca0d7cd9",
   "metadata": {},
   "source": [
    "# LeetCode Practice Questions\n",
    "\n",
    "## 1. Missing Number\n",
    "- **LeetCode:** 268  \n",
    "- **Problem:** Given an array containing `n` distinct numbers taken from `0, 1, 2, ..., n`, find the **missing number**.  \n",
    "- **Link:** [Missing Number](https://leetcode.com/problems/missing-number/)\n",
    "\n",
    "---\n",
    "\n",
    "## 2. Two Sum\n",
    "- **LeetCode:** 1  \n",
    "- **Problem:** Given an array of integers `nums` and an integer `target`, return indices of the two numbers such that they add up to `target`.  \n",
    "- **Link:** [Two Sum](https://leetcode.com/problems/two-sum/)\n",
    "\n",
    "---\n",
    "\n",
    "## 3. Best Time to Buy and Sell Stock\n",
    "- **LeetCode:** 121  \n",
    "- **Problem:** Given an array `prices`, find the maximum profit by choosing a single day to buy and a different day to sell.  \n",
    "- **Link:** [Best Time to Buy and Sell Stock](https://leetcode.com/problems/best-time-to-buy-and-sell-stock/)\n",
    "\n",
    "---\n",
    "\n",
    "## 4. Find a Number (Linear Search)\n",
    "- **LeetCode:** N/A (Basic array search)  \n",
    "- **Problem:** Find the index of a number in a given array.  \n",
    "\n",
    "---\n",
    "\n",
    "## 5. Maximum Product of Two Integers\n",
    "- **LeetCode:** 1464 (similar variant)  \n",
    "- **Problem:** Given an array of integers, find the **maximum product** of any two numbers.  \n",
    "- **Link:** [Maximum Product of Two Elements in an Array](https://leetcode.com/problems/maximum-product-of-two-elements-in-an-array/)\n",
    "\n",
    "---\n",
    "\n",
    "## 6. Middle of List\n",
    "- **LeetCode:** N/A  \n",
    "- **Problem:** Return a new list containing all elements from the original list, excluding the first and last elements.  \n",
    "\n",
    "---\n",
    "\n",
    "## 7. 2D List Diagonal Sum\n",
    "- **LeetCode:** 1572  \n",
    "- **Problem:** Given a square matrix, return the sum of its **primary diagonal elements**.  \n",
    "- **Link:** [Matrix Diagonal Sum](https://leetcode.com/problems/matrix-diagonal-sum/)\n",
    "\n",
    "---\n",
    "\n",
    "## 8. First & Second Max (Best Score)\n",
    "- **LeetCode:** 414 (variant)  \n",
    "- **Problem:** Find the first and second largest numbers in an array.  \n",
    "- **Link:** [Third Maximum Number](https://leetcode.com/problems/third-maximum-number/)\n",
    "\n",
    "---\n",
    "\n",
    "## 9. Remove Duplicates from Array\n",
    "- **LeetCode:** 26  \n",
    "- **Problem:** Remove duplicates from a **sorted array** in-place and return the new length.  \n",
    "- **Link:** [Remove Duplicates from Sorted Array](https://leetcode.com/problems/remove-duplicates-from-sorted-array/)\n",
    "\n",
    "---\n",
    "\n",
    "## 10. Pair Sum\n",
    "- **LeetCode:** Variant of 1  \n",
    "- **Problem:** Find all pairs of numbers in an array that add up to a **target sum**.  \n",
    "- **Link:** [Two Sum](https://leetcode.com/problems/two-sum/)\n",
    "\n",
    "---\n",
    "\n",
    "## 11. Contains Duplicate\n",
    "- **LeetCode:** 217  \n",
    "- **Problem:** Given an array of integers, return `true` if any value appears **at least twice**.  \n",
    "- **Link:** [Contains Duplicate](https://leetcode.com/problems/contains-duplicate/)\n",
    "\n",
    "---\n",
    "\n",
    "## 12. Permutation Check\n",
    "- **LeetCode:** 567  \n",
    "- **Problem:** Given two strings `s1` and `s2`, check if `s2` contains a **permutation** of `s1`.  \n",
    "- **Link:** [Permutation in String](https://leetcode.com/problems/permutation-in-string/)\n",
    "\n",
    "---\n",
    "\n",
    "## 13. Rotate Matrix\n",
    "- **LeetCode:** 48  \n",
    "- **Problem:** Given an `n x n` 2D matrix, rotate it **90 degrees clockwise** in-place.  \n",
    "- **Link:** [Rotate Image](https://leetcode.com/problems/rotate-image/)\n"
   ]
  },
  {
   "cell_type": "markdown",
   "id": "1fe83d42",
   "metadata": {},
   "source": [
    "# 1. Missing Number\n"
   ]
  },
  {
   "cell_type": "markdown",
   "id": "59549679",
   "metadata": {},
   "source": [
    "# Dry Run\n",
    "\n",
    "Array: [3, 0, 1]\n",
    "\n",
    "Length n = 3 \n",
    "\n",
    "total_sum = 3*(3+1)/2 = 6 = n*(n+1)//2\n",
    "\n",
    "Sum of array = 3+0+1 = 4 = sum_arr\n",
    "\n",
    "Missing = 6 - 4 = 2 ✅-> total_sum - sum_arr"
   ]
  },
  {
   "cell_type": "code",
   "execution_count": 100,
   "id": "39ce9add",
   "metadata": {},
   "outputs": [],
   "source": [
    "from typing import List\n",
    "\n",
    "class Solution:\n",
    "    def missingNumber(self, nums: List[int]) -> int:   # List[int] use kiya\n",
    "        n = len(nums)\n",
    "        total = n * (n + 1) // 2\n",
    "        arr = sum(nums)\n",
    "        missing = total - arr\n",
    "        return missing\n"
   ]
  },
  {
   "cell_type": "code",
   "execution_count": 99,
   "id": "c9cb5fbc",
   "metadata": {},
   "outputs": [
    {
     "name": "stdout",
     "output_type": "stream",
     "text": [
      "2\n"
     ]
    }
   ],
   "source": [
    "\n",
    "arr = [3,0,1]\n",
    "print(Solution().missingNumber(arr))  "
   ]
  },
  {
   "cell_type": "markdown",
   "id": "1b62ac25",
   "metadata": {},
   "source": [
    "# 2.Two Sum\n"
   ]
  },
  {
   "cell_type": "markdown",
   "id": "6c45f608",
   "metadata": {},
   "source": [
    "## 🔹 Step-by-Step Dry Run\n",
    "\n",
    "### Outer Loop → i = 0 (nums[0] = 2)\n",
    "Inner loop starts from j = i+1 = 1.\n",
    "\n",
    "| i | j | nums[i] | nums[j] | nums[i] + nums[j] | Target | Match? | Result     |\n",
    "|---|---|---------|---------|-------------------|--------|--------|------------|\n",
    "| 0 | 1 | 2       | 7       | 2 + 7 = 9         | 9      | ✅ Yes  | Return [0,1] |\n",
    "\n",
    "---\n",
    "\n",
    "## 🔹 Visual Flow (Narration for Video)\n",
    "\n",
    "1. Start: `nums = [2,7,11,15]`, `target = 9`.  \n",
    "2. Outer loop `i = 0` → `nums[i] = 2`.  \n",
    "3. Inner loop `j = 1` → `nums[j] = 7`.  \n",
    "4. Check: `nums[i] + nums[j] = 2 + 7 = 9`.  \n",
    "5. Condition satisfied ✅ → return indices `[0, 1]`.  \n",
    "6. Execution stops here.\n"
   ]
  },
  {
   "cell_type": "code",
   "execution_count": 89,
   "id": "32c55a59",
   "metadata": {},
   "outputs": [
    {
     "name": "stdout",
     "output_type": "stream",
     "text": [
      "[0, 1]\n"
     ]
    }
   ],
   "source": [
    "class Solution:\n",
    "    def twoSum(self, nums, target):\n",
    "        n = len(nums)\n",
    "        for i in range(n):\n",
    "            for j in range(i+1, n):\n",
    "                if nums[i] + nums[j] == target:\n",
    "                    return [i,j]\n",
    "# Object banakar function call karo\n",
    "sol = Solution()\n",
    "print(sol.twoSum([2,7,11,15], 9))   # Output: [0, 1]\n",
    "                \n"
   ]
  },
  {
   "cell_type": "markdown",
   "id": "762e0b5a",
   "metadata": {},
   "source": [
    "# 3. Best Time to Buy and Sell Stock (LeetCode 121)"
   ]
  },
  {
   "cell_type": "markdown",
   "id": "69147ae2",
   "metadata": {},
   "source": [
    "# Profit Calculation\n",
    "Profit = Sell Price - Buy Price\n",
    "\n",
    "---\n",
    "\n",
    "## 🔹 Dry Run: Brute-Force Method (Example: [7,1,5])\n",
    "\n",
    "**Example:** [7, 1, 5]\n",
    "\n",
    "**Prices:**  7   1   5  \n",
    "**Days:**    1   2   3\n",
    "\n",
    "### Step by Step Check (Buy → Sell)\n",
    "\n",
    "**Buy Day 1 (Price 7)**  \n",
    "- Sell Day 2 (Price 1) → Profit = 1 - 7 = -6 ❌ (loss)  \n",
    "- Sell Day 3 (Price 5) → Profit = 5 - 7 = -2 ❌ (loss)  \n",
    "\n",
    "**Buy Day 2 (Price 1)**  \n",
    "- Sell Day 3 (Price 5) → Profit = 5 - 1 = 4 ✅ (profit)  \n",
    "\n",
    "---\n",
    "\n",
    "✅ **Final Max Profit = 4** (Buy at 1, Sell at 5)\n"
   ]
  },
  {
   "cell_type": "code",
   "execution_count": 90,
   "id": "5338f67f",
   "metadata": {},
   "outputs": [
    {
     "name": "stdout",
     "output_type": "stream",
     "text": [
      "4\n"
     ]
    }
   ],
   "source": [
    "class Solution:\n",
    "    def maxProfit(self, prices):\n",
    "        max_profit = 0\n",
    "        n = len(prices)\n",
    "\n",
    "        # Check every possible buy-sell pair\n",
    "        for i in range(n):           # Buy day\n",
    "            for j in range(i + 1, n):  # Sell day\n",
    "                profit = prices[j] - prices[i]\n",
    "                if profit > max_profit:\n",
    "                    max_profit = profit\n",
    "\n",
    "        return max_profit\n",
    "\n",
    "# Example test\n",
    "sol = Solution()\n",
    "print(sol.maxProfit([7,1,5]))  # Output: 4\n"
   ]
  },
  {
   "cell_type": "code",
   "execution_count": 91,
   "id": "0043fba8",
   "metadata": {},
   "outputs": [
    {
     "name": "stdout",
     "output_type": "stream",
     "text": [
      "4\n"
     ]
    }
   ],
   "source": [
    "\n",
    "# Example test\n",
    "sol = Solution()\n",
    "print(sol.maxProfit([7,1,5]))  # Output: 4"
   ]
  },
  {
   "cell_type": "markdown",
   "id": "43506a95",
   "metadata": {},
   "source": [
    "## 🔹 Dry Run: Optimized Method (Example: [7,1,5,3,6,4])\n",
    "\n",
    "| Day | Price | Min Price so far | Profit if Sell Today | Max Profit so far |\n",
    "|-----|-------|-----------------|--------------------|-----------------|\n",
    "| 1   | 7     | 7               | 7 - 7 = 0          | 0               |\n",
    "| 2   | 1     | 1               | 1 - 1 = 0          | 0               |\n",
    "| 3   | 5     | 1               | 5 - 1 = 4          | 4               |\n",
    "| 4   | 3     | 1               | 3 - 1 = 2          | 4               |\n",
    "| 5   | 6     | 1               | 6 - 1 = 5          | 5               |\n",
    "| 6   | 4     | 1               | 4 - 1 = 3          | 5               |\n",
    "\n",
    "✅ **Final Max Profit = 5** (Buy at 1, Sell at 6)\n"
   ]
  },
  {
   "cell_type": "code",
   "execution_count": 92,
   "id": "f312ccbd",
   "metadata": {},
   "outputs": [
    {
     "name": "stdout",
     "output_type": "stream",
     "text": [
      "5\n"
     ]
    }
   ],
   "source": [
    "class Solution:\n",
    "    def maxProfit(self, prices):\n",
    "        min_price = float('inf')  # Cheapest buy so far\n",
    "        max_profit = 0\n",
    "\n",
    "        for price in prices:\n",
    "            if price < min_price:\n",
    "                min_price = price  # Update cheapest buy\n",
    "            elif price - min_price > max_profit:\n",
    "                max_profit = price - min_price  # Update max profit\n",
    "\n",
    "        return max_profit\n",
    "\n",
    "# Example test\n",
    "sol = Solution()\n",
    "print(sol.maxProfit([7,1,5,3,6,4]))  # Output: 5\n"
   ]
  },
  {
   "cell_type": "markdown",
   "id": "075a8f78",
   "metadata": {},
   "source": [
    "# 4 Find Number"
   ]
  },
  {
   "cell_type": "markdown",
   "id": "365ec5c5",
   "metadata": {},
   "source": [
    "### Dry Run\n",
    "\n",
    "Input:  \n",
    "array = [1,2,3,4,5,6,7,8,9,10], target = 7\n",
    "\n",
    "| Step | i  | array[i] | Comparison          | Result / Action       |\n",
    "|------|----|----------|-------------------|---------------------|\n",
    "| 1    | 0  | 1        | 1 == 7 → False     | Continue             |\n",
    "| 2    | 1  | 2        | 2 == 7 → False     | Continue             |\n",
    "| 3    | 2  | 3        | 3 == 7 → False     | Continue             |\n",
    "| 4    | 3  | 4        | 4 == 7 → False     | Continue             |\n",
    "| 5    | 4  | 5        | 5 == 7 → False     | Continue             |\n",
    "| 6    | 5  | 6        | 6 == 7 → False     | Continue             |\n",
    "| 7    | 6  | 7        | 7 == 7 → True      | Return 6             |\n",
    "\n",
    "Output: 6\n"
   ]
  },
  {
   "cell_type": "code",
   "execution_count": 140,
   "id": "b67300f7",
   "metadata": {},
   "outputs": [],
   "source": [
    "class Solution:\n",
    "    def findNumber(self, array, target):\n",
    "        for i in range(len(array)):\n",
    "            if array[i] == target:\n",
    "                return i\n",
    "        return -1  # अगर number array में नहीं है"
   ]
  },
  {
   "cell_type": "code",
   "execution_count": 139,
   "id": "7cd4bdfd",
   "metadata": {},
   "outputs": [
    {
     "name": "stdout",
     "output_type": "stream",
     "text": [
      "6\n"
     ]
    }
   ],
   "source": [
    "\n",
    "# Example test\n",
    "sol = Solution()\n",
    "my_array = [1,2,3,4,5,6,7,8,9,10]\n",
    "print(sol.findNumber(my_array, 7))  # Output: 6"
   ]
  },
  {
   "cell_type": "markdown",
   "id": "23740b44",
   "metadata": {},
   "source": [
    "# 5 Max Product of two integer"
   ]
  },
  {
   "cell_type": "markdown",
   "id": "12e96976",
   "metadata": {},
   "source": [
    "## 🔹 Dry Run: Optimized Maximum Product (Example: [3,4,2])\n",
    "\n",
    "| Step | num | max1 | max2 | Explanation                      |\n",
    "| ---- | --- | ---- | ---- | -------------------------------- |\n",
    "| 1    | 3   | 3    | 0    | First number → max1 updated      |\n",
    "| 2    | 4   | 4    | 3    | 4 > max1 → max2 = max1, max1 = 4 |\n",
    "| 3    | 2   | 4    | 3    | 2 < max2 → no change             |\n",
    "\n",
    "✅ Final Max Product = (4-1)*(3-1) = 3*2 = 6\n"
   ]
  },
  {
   "cell_type": "code",
   "execution_count": 94,
   "id": "09783973",
   "metadata": {},
   "outputs": [
    {
     "name": "stdout",
     "output_type": "stream",
     "text": [
      "6\n"
     ]
    }
   ],
   "source": [
    "def maxProduct(nums):\n",
    "    max1, max2 = 0,0\n",
    "    for num in nums:\n",
    "        if num > max1:\n",
    "            max2 = max1\n",
    "            max1 = num\n",
    "        elif num > max2:\n",
    "            max2 = num\n",
    "    return (max1 - 1) * (max2 - 1) \n",
    "print(maxProduct(nums = [3,4,1] ))         "
   ]
  },
  {
   "cell_type": "markdown",
   "id": "a28c4723",
   "metadata": {},
   "source": [
    "# 6 Middle of list\n"
   ]
  },
  {
   "cell_type": "code",
   "execution_count": 95,
   "id": "0f9ee015",
   "metadata": {},
   "outputs": [
    {
     "name": "stdout",
     "output_type": "stream",
     "text": [
      "[2, 3]\n"
     ]
    }
   ],
   "source": [
    "def middle(lst):\n",
    "    return lst[1: -1]\n",
    "lista = [1,2,3,4]\n",
    "print(middle(lista))"
   ]
  },
  {
   "cell_type": "markdown",
   "id": "0eb27978",
   "metadata": {},
   "source": [
    "# 7 - 2D Diagonal List"
   ]
  },
  {
   "cell_type": "code",
   "execution_count": 96,
   "id": "a8078801",
   "metadata": {},
   "outputs": [],
   "source": [
    "from typing import List\n",
    "\n",
    "class Solution:\n",
    "    def diagonalSum(self, mat: List[List[int]]) -> int:\n",
    "        n = len(mat)\n",
    "        total = 0\n",
    "        for i in range(n):\n",
    "            total += mat[i][i]\n",
    "            total += mat[i][n-1-i]\n",
    "        if n % 2 == 1:\n",
    "            total -= mat[n//2][n//2]\n",
    "        return total   \n"
   ]
  },
  {
   "cell_type": "code",
   "execution_count": 97,
   "id": "2e524577",
   "metadata": {},
   "outputs": [
    {
     "name": "stdout",
     "output_type": "stream",
     "text": [
      "25\n"
     ]
    }
   ],
   "source": [
    "\n",
    "# Example test\n",
    "sol = Solution()\n",
    "print(sol.diagonalSum([[1,2,3],\n",
    "                       [4,5,6],\n",
    "                       [7,8,9]]))  # Output: 25"
   ]
  },
  {
   "cell_type": "markdown",
   "id": "446a447b",
   "metadata": {},
   "source": [
    "\n",
    "**Formula:** `mat[i][n-1-i]` → picks elements from top-right → bottom-left\n",
    "\n",
    "| i (row) | n-1-i (col) | mat[i][n-1-i] | Explanation                  |\n",
    "|----------|------------|----------------|------------------------------|\n",
    "| 0        | 2          | 3              | Top-right element             |\n",
    "| 1        | 1          | 5              | Middle element                |\n",
    "| 2        | 0          | 7              | Bottom-left element           |\n",
    "\n",
    "✅ Secondary diagonal elements: 3, 5, 7  \n"
   ]
  },
  {
   "cell_type": "markdown",
   "id": "2fa48bae",
   "metadata": {},
   "source": [
    "\n",
    "- Primary diagonal → top-left → bottom-right → `mat[i][i]` → 1, 5, 9  \n",
    "- Secondary diagonal → top-right → bottom-left → `mat[i][n-1-i]` → 3, 5, 7  \n",
    "\n",
    "| i (row) | Primary mat[i][i] | Secondary mat[i][n-1-i] | Total so far |\n",
    "|----------|-----------------|-------------------------|-------------|\n",
    "| 0        | 1               | 3                       | 4           |\n",
    "| 1        | 5               | 5                       | 14          |\n",
    "| 2        | 9               | 7                       | 30          |\n",
    "\n",
    "- n = 3 (odd) → middle element `mat[1][1] = 5` counted twice → subtract once  \n",
    "✅ Final Sum = 30 - 5 = 25  \n",
    "\n",
    "**Notes:**  \n",
    "- Primary diagonal → `mat[i][i]`  \n",
    "- Secondary diagonal → `mat[i][n-1-i]`   \n"
   ]
  },
  {
   "cell_type": "markdown",
   "id": "60e5e808",
   "metadata": {},
   "source": [
    "# 8 Third Maximum Number"
   ]
  },
  {
   "cell_type": "markdown",
   "id": "b13c4b82",
   "metadata": {},
   "source": [
    "| Step | Operation          | Array/Value | Explanation                       |\n",
    "| ---- | ------------------ | ----------- | --------------------------------- |\n",
    "| 1    | Remove duplicates  | `[3,2,1]`   | No duplicates                     |\n",
    "| 2    | Sort descending    | `[3,2,1]`   | Sorted in reverse order           |\n",
    "| 3    | Check length >= 3  | Yes         | Enough elements to pick third max |\n",
    "| 4    | Return 3rd element | `1`         | Third maximum number              |\n"
   ]
  },
  {
   "cell_type": "code",
   "execution_count": 85,
   "id": "368a66e9",
   "metadata": {},
   "outputs": [
    {
     "name": "stdout",
     "output_type": "stream",
     "text": [
      "1\n",
      "2\n",
      "1\n"
     ]
    }
   ],
   "source": [
    "from typing import List\n",
    "\n",
    "class Solution:\n",
    "    def thirdMax(self, nums: List[int]) -> int:\n",
    "        # Rename list() to something else to avoid conflict\n",
    "        unique_nums = __builtins__.list(__builtins__.set(nums))\n",
    "        unique_nums.sort(reverse=True)\n",
    "        return unique_nums[2] if len(unique_nums) >= 3 else unique_nums[0]\n",
    "\n",
    "sol = Solution()\n",
    "print(sol.thirdMax([3,2,1]))   # 1\n",
    "print(sol.thirdMax([1,2]))     # 2 \n",
    "print(sol.thirdMax([2,2,3,1])) # 1\n"
   ]
  },
  {
   "cell_type": "markdown",
   "id": "e4109dce",
   "metadata": {},
   "source": [
    "# 9 Remove Duplicates from Sorted Array\n"
   ]
  },
  {
   "cell_type": "code",
   "execution_count": 103,
   "id": "dceaa18c",
   "metadata": {},
   "outputs": [
    {
     "name": "stdout",
     "output_type": "stream",
     "text": [
      "5\n"
     ]
    }
   ],
   "source": [
    "from typing import List\n",
    "\n",
    "class Solution:\n",
    "    def removeDuplicates(self, nums: List[int]) -> int:\n",
    "        if not nums:\n",
    "            return 0\n",
    "        i = 0\n",
    "        for j in range(1, len(nums)):\n",
    "            if nums[j]!= nums[i]:\n",
    "                 i+=1\n",
    "                 nums[i] = nums[j]\n",
    "        return i+1         \n",
    "sol = Solution()\n",
    "print(sol.removeDuplicates([0,0,1,1,1,2,2,3,3,4]))"
   ]
  },
  {
   "cell_type": "markdown",
   "id": "2c67efad",
   "metadata": {},
   "source": [
    "# 🔹 Dry Run Example:\n",
    "\n",
    "Input: nums = [0,0,1,1,1,2,2,3,3,4]\n",
    "\n",
    "Start: i = 0, nums = [0,0,1,1,1,2,2,3,3,4]\n",
    "\n",
    "j = 1 → nums[1] == nums[0] → skip\n",
    "\n",
    "j = 2 → nums[2] != nums[0] → i=1, nums[1] = 1 → [0,1,1,1,1,2,2,3,3,4]\n",
    "\n",
    "j = 3,4 → duplicate → skip\n",
    "\n",
    "j = 5 → nums[5] != nums[1] → i=2, nums[2] = 2 → [0,1,2,1,1,2,2,3,3,4]\n",
    "\n",
    "j = 7 → nums[7] != nums[2] → i=3, nums[3] = 3 → [0,1,2,3,1,2,2,3,3,4]\n",
    "\n",
    "j = 9 → nums[9] != nums[3] → i=4, nums[4] = 4 → [0,1,2,3,4,2,2,3,3,4]\n",
    "\n",
    "Final: i = 4 → return i+1 = 5\n",
    "\n",
    "Modified nums = [0,1,2,3,4,_,_,_,_,_]"
   ]
  },
  {
   "cell_type": "markdown",
   "id": "3b1d6d42",
   "metadata": {},
   "source": [
    "# 10 Piar Sum"
   ]
  },
  {
   "cell_type": "code",
   "execution_count": 111,
   "id": "fa0343ca",
   "metadata": {},
   "outputs": [
    {
     "name": "stdout",
     "output_type": "stream",
     "text": [
      "['2+8']\n"
     ]
    }
   ],
   "source": [
    "\n",
    "def twoSum(arr, target):\n",
    "    result = []\n",
    "    n = len(arr)\n",
    "    for i in range(n):\n",
    "        for j in range(i+1, n):\n",
    "            if arr[i] + arr[j] == target:\n",
    "                result.append(f\"{arr[i]}+{arr[j]}\")\n",
    "                return result\n",
    "            \n",
    "print(twoSum([2,4,3,5,6,-2,4,7,8,9], 10))            \n"
   ]
  },
  {
   "cell_type": "markdown",
   "id": "8219cdf4",
   "metadata": {},
   "source": [
    "# 11 . contain Duplicates"
   ]
  },
  {
   "cell_type": "code",
   "execution_count": 112,
   "id": "e21c8f7d",
   "metadata": {},
   "outputs": [],
   "source": [
    "class Solution:\n",
    "    def containsDuplicate(self, nums: List[int]) -> bool:\n",
    "        seen = set()\n",
    "        for n in nums:\n",
    "            if n in seen:   # agar pehle se set me hai\n",
    "                return True\n",
    "            seen.add(n)\n",
    "        return False\n"
   ]
  },
  {
   "cell_type": "markdown",
   "id": "95fc114c",
   "metadata": {},
   "source": [
    "Dry Run\n",
    "\n",
    "nums = [1,2,3,1]\n",
    "\n",
    "Start: seen = {}\n",
    "\n",
    "n=1 → not in set → add → seen={1}\n",
    "\n",
    "n=2 → not in set → add → seen={1,2}\n",
    "\n",
    "n=3 → not in set → add → seen={1,2,3}\n",
    "\n",
    "n=1 → already in set → return True"
   ]
  },
  {
   "cell_type": "markdown",
   "id": "8f948dfa",
   "metadata": {},
   "source": [
    "# 12 Permutation Check"
   ]
  },
  {
   "cell_type": "markdown",
   "id": "c1c172d9",
   "metadata": {},
   "source": [
    "Problem:\n",
    "\n",
    "Given two strings s1 and s2, check if s2 contains a permutation of s1.\n",
    "\n",
    "Return True if yes, otherwise False.\n",
    "\n",
    "Example:\n",
    "\n",
    "s1 = \"ab\"\n",
    "\n",
    "s2 = \"eidbaooo\"\n",
    "\n",
    "\n",
    "Algorithm:\n",
    "\n",
    "Sort s1 → s1_sorted = ['a','b']\n",
    "\n",
    "Slide a window of length len(s1) over s2.\n",
    "\n",
    "Check if the sorted substring matches s1_sorted."
   ]
  },
  {
   "cell_type": "markdown",
   "id": "0656903b",
   "metadata": {},
   "source": [
    "### Dry Run: Permutation in String\n",
    "\n",
    "**Input:**  \n",
    "s1 = \"ab\"  \n",
    "s2 = \"eidbaooo\"\n",
    "\n",
    "| Step | i | substring (`s2[i:i+len(s1)]`) | sorted(substring) | Comparison with `s1_sorted` | Result / Action                  |\n",
    "|------|---|-------------------------------|-----------------|-----------------------------|---------------------------------|\n",
    "| 1    | 0 | \"ei\"                          | ['e','i']       | ['e','i'] != ['a','b']      | No match, continue               |\n",
    "| 2    | 1 | \"id\"                          | ['d','i']       | ['d','i'] != ['a','b']      | No match, continue               |\n",
    "| 3    | 2 | \"db\"                          | ['b','d']       | ['b','d'] != ['a','b']      | No match, continue               |\n",
    "| 4    | 3 | \"ba\"                          | ['a','b']       | ['a','b'] == ['a','b']      | Match found → return True        |\n",
    "\n",
    "**Explanation:**  \n",
    "- Humne `s2` ke har substring of length 2 (same as `s1`) ko check kiya.  \n",
    "- Jab i = 3 pe substring `\"ba\"` mili, jo sorted hone ke baad `['a','b']` ban gayi.  \n",
    "- Ye `s1_sorted` ke equal hai → permutation exists → **return True**.\n"
   ]
  },
  {
   "cell_type": "code",
   "execution_count": 121,
   "id": "4ac27cf1",
   "metadata": {},
   "outputs": [],
   "source": [
    "class Solution:\n",
    "    def checkInclusion(self, s1: str, s2: str) -> bool:\n",
    "        s1_sorted = sorted(s1)\n",
    "        len_s1 = len(s1)\n",
    "        for i in range(len(s2) - len_s1 + 1):\n",
    "            sub_string = s2[i: i + len_s1]\n",
    "            if sorted(sub_string)  == s1_sorted:\n",
    "                return True\n",
    "        return False    \n"
   ]
  },
  {
   "cell_type": "code",
   "execution_count": 122,
   "id": "c108ae34",
   "metadata": {},
   "outputs": [
    {
     "name": "stdout",
     "output_type": "stream",
     "text": [
      "True\n",
      "False\n"
     ]
    }
   ],
   "source": [
    "# Test\n",
    "sol = Solution()\n",
    "print(sol.checkInclusion(\"ab\", \"eidbaooo\"))  # True\n",
    "print(sol.checkInclusion(\"ab\", \"eidboaoo\"))  # False"
   ]
  },
  {
   "cell_type": "markdown",
   "id": "53b7da55",
   "metadata": {},
   "source": [
    "#  13 Rotate Matrix"
   ]
  },
  {
   "cell_type": "markdown",
   "id": "1bca723a",
   "metadata": {},
   "source": [
    "### Input Matrix:\n",
    "\n",
    "matrix = \n",
    "\n",
    "[\n",
    " [1, 2, 3],\n",
    "\n",
    " [4, 5, 6],\n",
    "\n",
    " [7, 8, 9]\n",
    "]\n",
    "\n",
    "---\n",
    "\n",
    "### Step 1: Transpose\n",
    "\n",
    "Swap matrix[i][j] with matrix[j][i] (i <= j)\n",
    "\n",
    "| i | j | Matrix after swap       |\n",
    "|---|---|------------------------|\n",
    "| 0 | 1 | [[1,4,3],[2,5,6],[7,8,9]] |\n",
    "| 0 | 2 | [[1,4,7],[2,5,6],[3,8,9]] |\n",
    "| 1 | 2 | [[1,4,7],[2,5,8],[3,6,9]] |\n",
    "\n",
    "**Matrix after transpose:**\n",
    "\n",
    "[\n",
    " [1, 4, 7],\n",
    " [2, 5, 8],\n",
    " [3, 6, 9]\n",
    "]\n",
    "\n",
    "---\n",
    "\n",
    "### Step 2: Reverse each row\n",
    "\n",
    "| Row before | Row after reverse |\n",
    "|------------|-----------------|\n",
    "| [1,4,7]    | [7,4,1]         |\n",
    "| [2,5,8]    | [8,5,2]         |\n",
    "| [3,6,9]    | [9,6,3]         |\n",
    "\n",
    "---\n",
    "\n",
    "### Final Rotated Matrix (90° Clockwise):\n",
    "[\n",
    " [7, 4, 1],\n",
    "\n",
    " [8, 5, 2],\n",
    " \n",
    " [9, 6, 3]\n",
    "]\n"
   ]
  },
  {
   "cell_type": "code",
   "execution_count": 135,
   "id": "b57f8177",
   "metadata": {},
   "outputs": [],
   "source": [
    "class Solution:\n",
    "    def rotate(self, matrix: List[List[int]]) -> None:\n",
    "        \"\"\"\n",
    "        Do not return anything, modify matrix in-place instead.\n",
    "        \"\"\"\n",
    "        n = len(matrix)\n",
    "        for i in range(n):\n",
    "            for j in range(i, n):\n",
    "                matrix[i][j], matrix[j][i] = matrix[j][i], matrix[i][j]\n",
    "\n",
    "        for row in matrix:\n",
    "            row.reverse()        \n"
   ]
  },
  {
   "cell_type": "code",
   "execution_count": 136,
   "id": "571f7572",
   "metadata": {},
   "outputs": [
    {
     "name": "stdout",
     "output_type": "stream",
     "text": [
      "[7, 4, 1]\n",
      "[8, 5, 2]\n",
      "[9, 6, 3]\n"
     ]
    }
   ],
   "source": [
    "# Example usage\n",
    "matrix = [\n",
    "    [1, 2, 3],\n",
    "    [4, 5, 6],\n",
    "    [7, 8, 9]\n",
    "]\n",
    "\n",
    "sol = Solution()\n",
    "sol.rotate(matrix)\n",
    "\n",
    "# Print final rotated matrix\n",
    "for row in matrix:\n",
    "    print(row)"
   ]
  },
  {
   "cell_type": "code",
   "execution_count": 125,
   "id": "c3093ff5",
   "metadata": {},
   "outputs": [],
   "source": [
    "class Solution:\n",
    "    def rotate(self, matrix: List[List[int]]) -> None:\n",
    "        \"\"\"\n",
    "        Do not return anything, modify matrix in-place instead.\n",
    "        \"\"\"\n",
    "        n = len(matrix)\n",
    "\n",
    "        # Transpose the matrix\n",
    "        for i in range(n):  # Iterate over the rows\n",
    "            for j in range(i, n):  # Iterate over the columns starting from the current row 'i'\n",
    "                # Swap the elements at positions (i, j) and (j, i)\n",
    "                matrix[i][j], matrix[j][i] = matrix[j][i], matrix[i][j]\n",
    "\n",
    "        # Reverse each row\n",
    "        for row in matrix:  # Iterate over each row in the matrix\n",
    "            row.reverse()  # Reverse the elements in the current row"
   ]
  },
  {
   "cell_type": "code",
   "execution_count": null,
   "id": "0cf95d12",
   "metadata": {},
   "outputs": [],
   "source": []
  }
 ],
 "metadata": {
  "kernelspec": {
   "display_name": "Python 3",
   "language": "python",
   "name": "python3"
  },
  "language_info": {
   "codemirror_mode": {
    "name": "ipython",
    "version": 3
   },
   "file_extension": ".py",
   "mimetype": "text/x-python",
   "name": "python",
   "nbconvert_exporter": "python",
   "pygments_lexer": "ipython3",
   "version": "3.10.11"
  }
 },
 "nbformat": 4,
 "nbformat_minor": 5
}
