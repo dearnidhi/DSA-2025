{
 "cells": [
  {
   "cell_type": "markdown",
   "id": "9abc4cf5",
   "metadata": {},
   "source": [
    "# 1. Two Sum\n",
    "\n",
    "Given an array of integers nums and an integer target, return indices of the two numbers such that they add up to target."
   ]
  },
  {
   "cell_type": "code",
   "execution_count": 2,
   "id": "ac69f4fc",
   "metadata": {},
   "outputs": [
    {
     "name": "stdout",
     "output_type": "stream",
     "text": [
      "[0, 1]\n"
     ]
    }
   ],
   "source": [
    "class Solution(object):\n",
    "    def twoSum(self, nums, target):\n",
    "        for i in range(len(nums)):\n",
    "            for j in range(i+1, len(nums)):\n",
    "                if nums[i] + nums[j] == target:\n",
    "                    return [i,j]\n",
    "\n",
    "# Test\n",
    "s = Solution()\n",
    "result = s.twoSum([2, 7, 11, 15], 9)\n",
    "print(result)  # Output: [0, 1]\n"
   ]
  },
  {
   "cell_type": "markdown",
   "id": "6890af63",
   "metadata": {},
   "source": [
    "# 121. Best Time to Buy and Sell Stock"
   ]
  },
  {
   "cell_type": "markdown",
   "id": "c51c4fa1",
   "metadata": {},
   "source": [
    "Given an array prices where prices[i] is the price of a stock on the i-th day, find the maximum profit you can achieve by buying on one day and selling on a later day."
   ]
  },
  {
   "cell_type": "code",
   "execution_count": 3,
   "id": "f9f6cd7f",
   "metadata": {},
   "outputs": [],
   "source": [
    "from typing import List\n",
    "class Solution:\n",
    "    def maxProfit(self, prices: List[int]) -> int:\n",
    "        min_price = float('inf')\n",
    "        max_profit = 0\n",
    "        \n",
    "        # Array के सभी elements process करें\n",
    "        for price in prices:\n",
    "            # Current minimum price track करें\n",
    "            min_price = min(min_price, price)\n",
    "            \n",
    "            # Current profit calculate करें\n",
    "            current_profit = price - min_price\n",
    "            \n",
    "            # Maximum profit update करें\n",
    "            max_profit = max(max_profit, current_profit)\n",
    "        \n",
    "        return max_profit\n",
    "    "
   ]
  },
  {
   "cell_type": "code",
   "execution_count": 4,
   "id": "cd6313e7",
   "metadata": {},
   "outputs": [
    {
     "name": "stdout",
     "output_type": "stream",
     "text": [
      "Maximum profit: 4\n"
     ]
    }
   ],
   "source": [
    "# You can test it with this code:\n",
    "prices = [3, 1, 4, 2, 5]\n",
    "solution = Solution()\n",
    "print(f\"Maximum profit: {solution.maxProfit(prices)}\")\n",
    "# Output: Maximum profit: 4"
   ]
  },
  {
   "cell_type": "markdown",
   "id": "b5ee67d7",
   "metadata": {},
   "source": [
    "🔍 **Dry Run with Example**: `prices = [3, 1, 4, 2, 5]`"
   ]
  },
  {
   "cell_type": "markdown",
   "id": "28f6f3b3",
   "metadata": {},
   "source": [
    "min_price = infinity\n",
    "\n",
    "max_profit = 0"
   ]
  },
  {
   "cell_type": "markdown",
   "id": "49422f8f",
   "metadata": {},
   "source": [
    "## 🧮 Step-by-Step Dry Run\n",
    "\n",
    "| Day | Price | Operation               | min_price | current_profit | max_profit |\n",
    "|-----|-------|--------------------------|-----------|----------------|------------|\n",
    "| 0   | 3     | `min(∞, 3) = 3`          | 3         | 3-3 = 0        | max(0, 0) = 0 |\n",
    "| 1   | 1     | `min(3, 1) = 1`          | 1         | 1-1 = 0        | max(0, 0) = 0 |\n",
    "| 2   | 4     | `min(1, 4) = 1`          | 1         | 4-1 = 3        | max(0, 3) = 3 |\n",
    "| 3   | 2     | `min(1, 2) = 1`          | 1         | 2-1 = 1        | max(3, 1) = 3 |\n",
    "| 4   | 5     | `min(1, 5) = 1`          | 1         | 5-1 = 4        | max(3, 4) = 4 |\n",
    "\n",
    "✅ **Final Result**: `4`\n",
    "\n",
    "---\n",
    "\n",
    "## 📈 Transaction Details:\n",
    "- **Buy**: Day 1 at price **₹1** (cheapest day)\n",
    "- **Sell**: Day 4 at price **₹5**\n",
    "- **Profit**: ₹5 - ₹1 = **₹4**"
   ]
  },
  {
   "cell_type": "markdown",
   "id": "8184aba2",
   "metadata": {},
   "source": [
    "# 🧪  `containsDuplicate` — LeetCode 217 (Array)\n",
    "\n",
    "> **Problem**: Given an integer array `nums`, return `True` if any value appears at least twice, else `False`.\n",
    "\n",
    "---\n",
    "\n",
    "## ✅ Test Case 1: `nums = [1, 2, 3, 1]` → Expected Output: `True`\n",
    "\n",
    "### 🔁 Step-by-Step Execution\n",
    "\n",
    "| Step | Index | `num` | `seen` (before check) | Is `num` in `seen`? | Action             | Return Value |\n",
    "|------|-------|-------|------------------------|---------------------|--------------------|--------------|\n",
    "| 1    | 0     | 1     | `{}`                   | ❌ No               | Add `1` → `{1}`    | —            |\n",
    "| 2    | 1     | 2     | `{1}`                  | ❌ No               | Add `2` → `{1,2}`  | —            |\n",
    "| 3    | 2     | 3     | `{1,2}`                | ❌ No               | Add `3` → `{1,2,3}`| —            |\n",
    "| 4    | 3     | 1     | `{1,2,3}`              | ✅ **Yes**          | → **Return `True`**| **`True`**   |\n",
    "\n",
    "✅ **Function exits early at Step 4** — duplicate `1` found.\n",
    "\n",
    "---\n",
    "\n",
    "## ✅ Test Case 2: `nums = [1, 2, 3, 4]` → Expected Output: `False`\n",
    "\n",
    "### 🔁 Step-by-Step Execution\n",
    "\n",
    "| Step | Index | `num` | `seen` (before check) | Is `num` in `seen`? | Action               | Return Value |\n",
    "|------|-------|-------|------------------------|---------------------|----------------------|--------------|\n",
    "| 1    | 0     | 1     | `{}`                   | ❌ No               | Add `1` → `{1}`      | —            |\n",
    "| 2    | 1     | 2     | `{1}`                  | ❌ No               | Add `2` → `{1,2}`    | —            |\n",
    "| 3    | 2     | 3     | `{1,2}`                | ❌ No               | Add `3` → `{1,2,3}`  | —            |\n",
    "| 4    | 3     | 4     | `{1,2,3}`              | ❌ No               | Add `4` → `{1,2,3,4}`| —            |\n",
    "| 5    | —     | —     | —                      | —                   | Loop ends → return `False` | **`False`** |\n",
    "\n",
    "✅ **No duplicates found** — returns `False` after full traversal.\n",
    "\n",
    "---"
   ]
  },
  {
   "cell_type": "code",
   "execution_count": 7,
   "id": "99fbbf14",
   "metadata": {},
   "outputs": [
    {
     "name": "stdout",
     "output_type": "stream",
     "text": [
      "True\n",
      "False\n"
     ]
    }
   ],
   "source": [
    "class Solution:\n",
    "    def containsDuplicate(self, nums: List[int]) -> bool:\n",
    "        # Array traversal with set\n",
    "        seen = set()\n",
    "        for num in nums:\n",
    "            if num in seen:\n",
    "                return True\n",
    "            seen.add(num)\n",
    "        return False\n",
    "\n",
    "# ✅ Test as LeetCode would\n",
    "sol = Solution()\n",
    "print(sol.containsDuplicate([1,2,3,1]))    # True\n",
    "print(sol.containsDuplicate([1,2,3,4]))    # False"
   ]
  },
  {
   "cell_type": "markdown",
   "id": "1fe83d42",
   "metadata": {},
   "source": []
  }
 ],
 "metadata": {
  "kernelspec": {
   "display_name": "Python 3",
   "language": "python",
   "name": "python3"
  },
  "language_info": {
   "codemirror_mode": {
    "name": "ipython",
    "version": 3
   },
   "file_extension": ".py",
   "mimetype": "text/x-python",
   "name": "python",
   "nbconvert_exporter": "python",
   "pygments_lexer": "ipython3",
   "version": "3.10.11"
  }
 },
 "nbformat": 4,
 "nbformat_minor": 5
}
