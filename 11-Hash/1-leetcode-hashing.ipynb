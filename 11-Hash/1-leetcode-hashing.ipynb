{
 "cells": [
  {
   "cell_type": "markdown",
   "id": "73a878f1",
   "metadata": {},
   "source": [
    "# ✅ HashMap – Solved Problems\n",
    "\n",
    "1. **Two Sum** – LeetCode [1]  \n",
    "2. **Contains Duplicate** – LeetCode [217]  \n",
    "3. **Product of Array Except Self** – LeetCode [238]  \n",
    "4. **Group Anagrams** – LeetCode [49]  \n",
    "5. **Count Elements With Maximum Frequency** – LeetCode [3541]  \n",
    "\n",
    "---\n",
    "\n"
   ]
  },
  {
   "cell_type": "markdown",
   "id": "7c5b812b",
   "metadata": {},
   "source": [
    "# 1️⃣ Hashing Numbers"
   ]
  },
  {
   "cell_type": "code",
   "execution_count": 1,
   "id": "c1362c01",
   "metadata": {},
   "outputs": [],
   "source": [
    "def mod(number, cellnumber):\n",
    "    return number % cellnumber"
   ]
  },
  {
   "cell_type": "markdown",
   "id": "35b51e33",
   "metadata": {},
   "source": [
    "% means remainder.\n",
    "\n",
    "This always gives a result between 0 and cellNumber - 1.\n",
    "\n",
    "If you have cellNumber buckets, it picks which one to use.\n",
    "\n",
    "Example:\n",
    "\n",
    "mod(400, 24)\n",
    "\n",
    "→ 400 % 24 = 16\n",
    "\n",
    "✅ Store it in bucket 16."
   ]
  },
  {
   "cell_type": "markdown",
   "id": "570e89bb",
   "metadata": {},
   "source": [
    "# 2️⃣ Hashing Strings"
   ]
  },
  {
   "cell_type": "code",
   "execution_count": 5,
   "id": "e99d38c4",
   "metadata": {},
   "outputs": [
    {
     "name": "stdout",
     "output_type": "stream",
     "text": [
      "64\n"
     ]
    }
   ],
   "source": [
    "def modASCII(string, cellnumber):\n",
    "    total = 0\n",
    "    for i in string:\n",
    "        total += ord(i)\n",
    "    return total % cellnumber  \n",
    "print(modASCII(\"ABC\", 67))  "
   ]
  },
  {
   "cell_type": "markdown",
   "id": "09ee13b3",
   "metadata": {},
   "source": [
    "ord(i) gives you the ASCII code for a character.\n",
    "\n",
    "Add up all ASCII codes → you get a number.\n",
    "\n",
    "Then take % cellNumber → you get a bucket index.\n",
    "\n",
    "Example:\n",
    "\n",
    "For \"ABC\":\n",
    "\n",
    "ord('A') = 65, ord('B') = 66, ord('C') = 67\n",
    "\n",
    "Total = 65 + 66 + 67 = 198\n",
    "\n",
    "198 % 24 = 6\n",
    "\n",
    "✅ Store in bucket 6."
   ]
  },
  {
   "cell_type": "markdown",
   "id": "c7ad57b3",
   "metadata": {},
   "source": [
    "# ✅ 238. Find the First Non-Repeating Character"
   ]
  },
  {
   "cell_type": "markdown",
   "id": "0bf48f0a",
   "metadata": {},
   "source": [
    "Input:\n",
    "\n",
    "s = \"leetcode\"\n",
    "\n",
    "Counter:\n",
    "\n",
    "{'l':1, 'e':3, 't':1, 'c':1, 'o':1, 'd':1}\n",
    "\n",
    "Loop:\n",
    "\n",
    "i=0, char='l', count=1 → return 0\n",
    "\n",
    "Output:\n",
    "\n",
    "0 ✅"
   ]
  },
  {
   "cell_type": "code",
   "execution_count": 16,
   "id": "74b8ac23",
   "metadata": {},
   "outputs": [],
   "source": [
    "from collections import Counter\n",
    "\n",
    "class Solution:\n",
    "    def firstUniqChar(self, s: str) -> int:\n",
    "        count = Counter(s)\n",
    "        for i, char in enumerate(s):\n",
    "            if count[char] == 1:\n",
    "                return i\n",
    "        return -1"
   ]
  },
  {
   "cell_type": "markdown",
   "id": "095648c6",
   "metadata": {},
   "source": [
    "# 217. Contains Duplicate"
   ]
  },
  {
   "cell_type": "markdown",
   "id": "8f41f6fb",
   "metadata": {},
   "source": [
    "Input:\n",
    "\n",
    "nums = [1, 2, 3, 1]\n",
    "\n",
    "Steps:\n",
    "\n",
    "seen = {}\n",
    "\n",
    "n=1 → not in seen → add → seen = {1}\n",
    "\n",
    "n=2 → not in seen → add → seen = {1,2}\n",
    "\n",
    "n=3 → not in seen → add → seen = {1,2,3}\n",
    "\n",
    "n=1 → already in seen → return True ✅\n",
    "\n",
    "Output:\n",
    "\n",
    "True"
   ]
  },
  {
   "cell_type": "code",
   "execution_count": 1,
   "id": "c7b648c8",
   "metadata": {},
   "outputs": [],
   "source": [
    "from typing import List\n",
    "class Solution:\n",
    "    def containsDuplicate(self, nums: List[int]) -> bool:\n",
    "        seen = set()\n",
    "        for n in nums:\n",
    "            if n in seen:\n",
    "                return True\n",
    "            seen.add(n)\n",
    "        return False"
   ]
  },
  {
   "cell_type": "markdown",
   "id": "94884449",
   "metadata": {},
   "source": [
    "# 1. Two Sum"
   ]
  },
  {
   "cell_type": "code",
   "execution_count": 19,
   "id": "23c02e3c",
   "metadata": {},
   "outputs": [],
   "source": [
    "from typing import List\n",
    "\n",
    "class Solution:\n",
    "    def twoSum(self, nums: List[int], target: int) -> List[int]:\n",
    "        hashmap = {}\n",
    "        for i, num in enumerate(nums):\n",
    "            comp = target - num\n",
    "            if comp in hashmap:\n",
    "                return [hashmap[comp], i]\n",
    "            hashmap[num] = i"
   ]
  },
  {
   "cell_type": "markdown",
   "id": "60125270",
   "metadata": {},
   "source": [
    "# Dry Run:\n",
    "nums = [3,2,4], target=6\n",
    "\n",
    "i=0, num=3 → comp=3 → not in hashmap → store {3:0}\n",
    "\n",
    "i=1, num=2 → comp=4 → not in hashmap → store {3:0, 2:1}\n",
    "\n",
    "i=2, num=4 → comp=2 → FOUND at index 1 → return [1,2] ✅"
   ]
  },
  {
   "cell_type": "markdown",
   "id": "b37e6ad5",
   "metadata": {},
   "source": [
    "# 49. Group Anagrams"
   ]
  },
  {
   "cell_type": "code",
   "execution_count": null,
   "id": "e3d3d772",
   "metadata": {},
   "outputs": [],
   "source": [
    "from collections import defaultdict\n",
    "from typing import List\n",
    "\n",
    "class Solution:\n",
    "    def groupAnagrams(self, strs: List[str]) -> List[List[str]]:\n",
    "        hashmap = defaultdict(list)\n",
    "        for word in strs:\n",
    "            sorted_word = ''.join(sorted(word))\n",
    "            hashmap[sorted_word].append(word)\n",
    "        return list(hashmap.values())"
   ]
  },
  {
   "cell_type": "markdown",
   "id": "ab598e68",
   "metadata": {},
   "source": [
    "# Dry Run:\n",
    "\n",
    "\n",
    "Input: [\"eat\",\"tea\",\"tan\",\"ate\",\"nat\",\"bat\"]\n",
    "\n",
    "\"eat\" → sort → \"aet\" → Group 1: [\"eat\"]\n",
    "\n",
    "\"tea\" → sort → \"aet\" → Group 1: [\"eat\", \"tea\"]\n",
    "\n",
    "\"tan\" → sort → \"ant\" → Group 2: [\"tan\"]\n",
    "\n",
    "\"ate\" → sort → \"aet\" → Group 1: [\"eat\",\"tea\",\"ate\"]\n",
    "\n",
    "\"nat\" → sort → \"ant\" → Group 2: [\"tan\",\"nat\"]\n",
    "\n",
    "\"bat\" → sort → \"abt\" → Group 3: [\"bat\"]\n",
    "\n",
    "# Final Output:\n",
    "\n",
    "\n",
    "[\n",
    "  [\"eat\",\"tea\",\"ate\"],   ← Group 1 (sorted key = \"aet\")\n",
    "\n",
    "  [\"tan\",\"nat\"],         ← Group 2 (sorted key = \"ant\") \n",
    "\n",
    "  [\"bat\"]                ← Group 3 (sorted key = \"abt\")\n",
    "]"
   ]
  },
  {
   "cell_type": "markdown",
   "id": "9de9a557",
   "metadata": {},
   "source": [
    "output= [[\"eat\",\"tea\",\"ate\"],   [\"tan\",\"nat\"], [\"bat\"]  ]"
   ]
  },
  {
   "cell_type": "markdown",
   "id": "09682374",
   "metadata": {},
   "source": [
    "# 3541. Find Most Frequent Vowel and Consonant"
   ]
  },
  {
   "cell_type": "code",
   "execution_count": 1,
   "id": "8340e80e",
   "metadata": {},
   "outputs": [],
   "source": [
    "from collections import Counter\n",
    "\n",
    "class Solution:\n",
    "    def maxFreqSum(self, s: str) -> int:\n",
    "        freq = Counter(s)\n",
    "        vowels = set(\"aeiou\")\n",
    "        \n",
    "        max_vowel = 0\n",
    "        max_consonant = 0\n",
    "        \n",
    "        for ch, count in freq.items():\n",
    "            if ch in vowels:\n",
    "                max_vowel = max(max_vowel, count)\n",
    "            else:\n",
    "                max_consonant = max(max_consonant, count)\n",
    "        \n",
    "        return max_vowel + max_consonant\n"
   ]
  },
  {
   "cell_type": "markdown",
   "id": "6681095f",
   "metadata": {},
   "source": [
    "🧪 Example Run\n",
    "# Example 1\n",
    "s = \"successes\"\n",
    "\n",
    "\n",
    "Vowels: u=1, e=2 → max_vowel = 2\n",
    "\n",
    "Consonants: s=4, c=2 → max_consonant = 4\n",
    "\n",
    "Result = 2 + 4 = 6\n",
    "\n",
    "# Example 2\n",
    "s = \"aeiaeia\"\n",
    "\n",
    "\n",
    "Vowels: a=3, e=2, i=2 → max_vowel = 3\n",
    "\n",
    "Consonants: none → max_consonant = 0\n",
    "\n",
    "Result = 3 + 0 = 3"
   ]
  },
  {
   "cell_type": "markdown",
   "id": "bbca5a01",
   "metadata": {},
   "source": []
  }
 ],
 "metadata": {
  "kernelspec": {
   "display_name": "Python 3",
   "language": "python",
   "name": "python3"
  },
  "language_info": {
   "codemirror_mode": {
    "name": "ipython",
    "version": 3
   },
   "file_extension": ".py",
   "mimetype": "text/x-python",
   "name": "python",
   "nbconvert_exporter": "python",
   "pygments_lexer": "ipython3",
   "version": "3.10.11"
  }
 },
 "nbformat": 4,
 "nbformat_minor": 5
}
