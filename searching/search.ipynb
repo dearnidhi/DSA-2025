{
 "cells": [
  {
   "cell_type": "markdown",
   "id": "1a8d613e",
   "metadata": {},
   "source": [
    "## ✅ What is Linear Search?\n",
    "Linear Search is a sequential search algorithm that goes through each element of an array one by one to find a target value.\n",
    "\n",
    "## ✅ Time & Space Complexity\n",
    "Case\tTime Complexity\n",
    "\n",
    "Best Case\t-  O(1)\n",
    "\n",
    "Average\t- O(n)\n",
    "\n",
    "Worst Case\t- O(n)\n",
    "\n",
    "Space Complexity: O(1)\n",
    "\n",
    "## ✅ When to Use Linear Search\n",
    "\n",
    "Array is unsorted\n",
    "\n",
    "Small datasets\n",
    "\n",
    "Searching in Linked List\n",
    "\n",
    "Simplicity is a priority\n"
   ]
  },
  {
   "cell_type": "code",
   "execution_count": null,
   "id": "82d97a04",
   "metadata": {},
   "outputs": [],
   "source": [
    "\n",
    "# ✅ Python Code (Simple):\n",
    "\n",
    "def linear_search(arr, x):\n",
    "    for i in range(len(arr)):\n",
    "        if arr[i] == x:\n",
    "            return i\n",
    "    return -1"
   ]
  },
  {
   "cell_type": "markdown",
   "id": "5f1887a7",
   "metadata": {},
   "source": [
    "## 🔍 Binary Search Algorithm Overview\n",
    "Binary Search is an efficient algorithm used to find the position of a target value in a sorted array. It works by dividing the search interval in half repeatedly until the element is found or the interval becomes empty.\n",
    "\n",
    "## ✅ Conditions to Use Binary Search\n",
    "\n",
    "The array/data structure must be sorted.\n",
    "\n",
    "You must be able to access elements in constant time (like arrays, not linked lists).\n",
    "\n",
    "## 📌 Step-by-Step Working\n",
    "\n",
    "Find the middle index.\n",
    "\n",
    "Compare the target with the middle element:\n",
    "\n",
    "If equal → return index.\n",
    "\n",
    "If smaller → search in the left half.\n",
    "\n",
    "If larger → search in the right half.\n",
    "\n",
    "Repeat steps until found or bounds are crossed."
   ]
  },
  {
   "cell_type": "markdown",
   "id": "115a329c",
   "metadata": {},
   "source": [
    "## 🧠 Example\n"
   ]
  },
  {
   "cell_type": "code",
   "execution_count": 1,
   "id": "1bdad177",
   "metadata": {},
   "outputs": [],
   "source": [
    "arr = [2, 5, 8, 12, 16, 23, 38, 56, 72, 91]\n",
    "target = 23\n"
   ]
  },
  {
   "cell_type": "markdown",
   "id": "34337836",
   "metadata": {},
   "source": [
    "# Binary Search would narrow down like:\n",
    "\n",
    "Middle = 23 → Match Found ✅"
   ]
  },
  {
   "cell_type": "markdown",
   "id": "cdd756fd",
   "metadata": {},
   "source": [
    "# 🛠️ Implementations in Python\n",
    "\n",
    "✅ Iterative Binary Search"
   ]
  },
  {
   "cell_type": "code",
   "execution_count": 2,
   "id": "6fad7f52",
   "metadata": {},
   "outputs": [
    {
     "name": "stdout",
     "output_type": "stream",
     "text": [
      "Element is present at index 3\n"
     ]
    }
   ],
   "source": [
    "def binarySearch(arr, low, high, x):\n",
    "    while low <= high:\n",
    "        mid = low + (high - low) // 2\n",
    "\n",
    "        if arr[mid] == x:\n",
    "            return mid\n",
    "        elif arr[mid] < x:\n",
    "            low = mid + 1\n",
    "        else:\n",
    "            high = mid - 1\n",
    "    return -1\n",
    "\n",
    "# Example\n",
    "arr = [2, 3, 4, 10, 40]\n",
    "x = 10\n",
    "result = binarySearch(arr, 0, len(arr) - 1, x)\n",
    "print(\"Element is present at index\", result if result != -1 else \"not present\")\n"
   ]
  },
  {
   "cell_type": "markdown",
   "id": "6ab03069",
   "metadata": {},
   "source": [
    "# ✅ Recursive Binary Search\n"
   ]
  },
  {
   "cell_type": "code",
   "execution_count": 3,
   "id": "0d6451ca",
   "metadata": {},
   "outputs": [
    {
     "name": "stdout",
     "output_type": "stream",
     "text": [
      "Element is present at index 3\n"
     ]
    }
   ],
   "source": [
    "def binarySearch(arr, low, high, x):\n",
    "    if high >= low:\n",
    "        mid = low + (high - low) // 2\n",
    "\n",
    "        if arr[mid] == x:\n",
    "            return mid\n",
    "        elif arr[mid] > x:\n",
    "            return binarySearch(arr, low, mid - 1, x)\n",
    "        else:\n",
    "            return binarySearch(arr, mid + 1, high, x)\n",
    "    else:\n",
    "        return -1\n",
    "\n",
    "# Example\n",
    "arr = [2, 3, 4, 10, 40]\n",
    "x = 10\n",
    "result = binarySearch(arr, 0, len(arr) - 1, x)\n",
    "print(\"Element is present at index\", result if result != -1 else \"not present\")\n"
   ]
  },
  {
   "cell_type": "markdown",
   "id": "0c80d4d3",
   "metadata": {},
   "source": [
    "# 📈 Applications\n",
    "\n",
    "Searching in databases\n",
    "\n",
    "Optimization problems (e.g., binary search on answer)\n",
    "\n",
    "Machine learning: hyperparameter tuning\n",
    "\n",
    "Computer graphics: ray tracing, texture mapping\n",
    "\n",
    "Version control systems (e.g., finding first bad commit)"
   ]
  },
  {
   "cell_type": "code",
   "execution_count": 5,
   "id": "d895341f",
   "metadata": {},
   "outputs": [
    {
     "name": "stdout",
     "output_type": "stream",
     "text": [
      "Case            Time Complexity      Space Complexity\n",
      "-----------------------------------------------------------------\n",
      "Best            O(1)                 O(1)\n",
      "Average/Worst   O(log N)             O(1) iterative, O(log N) recursive (call stack)\n"
     ]
    }
   ],
   "source": [
    "print(\"{:<15} {:<20} {}\".format(\"Case\", \"Time Complexity\", \"Space Complexity\"))\n",
    "print(\"-\" * 65)\n",
    "print(\"{:<15} {:<20} {}\".format(\"Best\", \"O(1)\", \"O(1)\"))\n",
    "print(\"{:<15} {:<20} {}\".format(\"Average/Worst\", \"O(log N)\", \"O(1) iterative, O(log N) recursive (call stack)\"))\n"
   ]
  },
  {
   "cell_type": "markdown",
   "id": "236bcc3b",
   "metadata": {},
   "source": []
  }
 ],
 "metadata": {
  "kernelspec": {
   "display_name": "env",
   "language": "python",
   "name": "python3"
  },
  "language_info": {
   "codemirror_mode": {
    "name": "ipython",
    "version": 3
   },
   "file_extension": ".py",
   "mimetype": "text/x-python",
   "name": "python",
   "nbconvert_exporter": "python",
   "pygments_lexer": "ipython3",
   "version": "3.12.10"
  }
 },
 "nbformat": 4,
 "nbformat_minor": 5
}
