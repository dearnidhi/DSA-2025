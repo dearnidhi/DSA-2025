{
 "cells": [
  {
   "cell_type": "markdown",
   "id": "2ffde8a9",
   "metadata": {},
   "source": [
    "# Leetcode-704-Binary Search"
   ]
  },
  {
   "cell_type": "markdown",
   "id": "b0737708",
   "metadata": {},
   "source": [
    "# Dry Run\n",
    "nums = [1, 3, 5, 7]\n",
    "\n",
    "target = 5\n",
    "\n",
    "# Step 1\n",
    "left = 0, right = 3\n",
    "\n",
    "mid = (0+3)//2 = 1 → nums[1] = 3\n",
    "\n",
    "3 < 5 → move right\n",
    "\n",
    "left = 2\n",
    "\n",
    "# Step 2\n",
    "left = 2, right = 3\n",
    "\n",
    "mid = (2+3)//2 = 2 → nums[2] = 5\n",
    "\n",
    "Found target ✅ return 2\n",
    "\n",
    "# Output\n",
    "\n",
    "Index = 2\n"
   ]
  },
  {
   "cell_type": "code",
   "execution_count": 3,
   "id": "51aa3cb6",
   "metadata": {},
   "outputs": [],
   "source": [
    "from typing import List\n",
    "class Solution:\n",
    "    def search(self, nums: List[int], target: int) -> int:\n",
    "        left, right = 0, len(nums) - 1\n",
    "        \n",
    "        while left <= right:\n",
    "            mid = (left + right) // 2  # middle index निकालते हैं\n",
    "            if nums[mid] == target:\n",
    "                return mid\n",
    "            elif nums[mid] < target:\n",
    "                left = mid + 1\n",
    "            else:\n",
    "                right = mid - 1\n",
    "        \n",
    "        return -1\n"
   ]
  },
  {
   "cell_type": "markdown",
   "id": "b289b30d",
   "metadata": {},
   "source": [
    "# Leetcode 35. Search Insert Position"
   ]
  },
  {
   "cell_type": "markdown",
   "id": "b60bbe43",
   "metadata": {},
   "source": [
    "🔹 Dry Run \n",
    "\n",
    "# Example 1\n",
    "nums = [1,3,5,6], target = 5\n",
    "\n",
    "\n",
    "left=0, right=3 → mid=1 → nums[1]=3 < 5 → go right (left=2)\n",
    "\n",
    "left=2, right=3 → mid=2 → nums[2]=5 == target → return 2 ✅\n",
    "\n",
    "Output: 2\n",
    "\n",
    "# Example 2\n",
    "nums = [1,3,5,6], target = 2\n",
    "\n",
    "\n",
    "left=0, right=3 → mid=1 → nums[1]=3 > 2 → go left (right=0)\n",
    "\n",
    "left=0, right=0 → mid=0 → nums[0]=1 < 2 → go right (left=1)\n",
    "\n",
    "loop ends → return left=1 ✅\n",
    "\n",
    "Output: 1\n",
    "\n",
    "# Example 3\n",
    "nums = [1,3,5,6], target = 7\n",
    "\n",
    "\n",
    "left=0, right=3 → mid=1 → nums[1]=3 < 7 → left=2\n",
    "\n",
    "left=2, right=3 → mid=2 → nums[2]=5 < 7 → left=3\n",
    "\n",
    "left=3, right=3 → mid=3 → nums[3]=6 < 7 → left=4\n",
    "\n",
    "loop ends → return left=4 ✅\n",
    "\n",
    "Output: 4"
   ]
  },
  {
   "cell_type": "code",
   "execution_count": 4,
   "id": "4c075d71",
   "metadata": {},
   "outputs": [],
   "source": [
    "class Solution:\n",
    "    def searchInsert(self, nums: List[int], target: int) -> int:\n",
    "        left, right = 0, len(nums) - 1\n",
    "\n",
    "        while left <= right:\n",
    "            mid = (left + right) // 2\n",
    "            if nums[mid] == target:\n",
    "                return mid\n",
    "            elif nums[mid] < target:\n",
    "                left = mid + 1\n",
    "            else:\n",
    "                right = mid - 1\n",
    "        \n",
    "        return left\n"
   ]
  },
  {
   "cell_type": "markdown",
   "id": "d1fb9670",
   "metadata": {},
   "source": [
    "# Leetcode - 34. Find First and Last Position of Element in Sorted Array"
   ]
  },
  {
   "cell_type": "markdown",
   "id": "f4d926d3",
   "metadata": {},
   "source": [
    "🔹 Idea\n",
    "\n",
    "Use binary search twice:\n",
    "\n",
    "Once to find the first occurrence (move left when nums[mid] == target).\n",
    "\n",
    "Once to find the last occurrence (move right when nums[mid] == target).\n",
    "\n",
    "If the target is not found, return [-1, -1]."
   ]
  },
  {
   "cell_type": "markdown",
   "id": "2f397eca",
   "metadata": {},
   "source": [
    "# Dry Run\n",
    "\n",
    "Input:\n",
    "\n",
    "nums = [5,7,7,8,8,10], target = 8\n",
    "\n",
    "\n",
    "# findFirst →\n",
    "mid moves until we get first = 3\n",
    "\n",
    "# findLast →\n",
    "mid moves until we get last = 4\n",
    "\n",
    "# Output:\n",
    "\n",
    "[3, 4]"
   ]
  },
  {
   "cell_type": "code",
   "execution_count": 5,
   "id": "497a9b6e",
   "metadata": {},
   "outputs": [],
   "source": [
    "from typing import List\n",
    "\n",
    "class Solution:\n",
    "    def searchRange(self, nums: List[int], target: int) -> List[int]:\n",
    "        def findFirst(nums, target):\n",
    "            left, right = 0, len(nums) - 1\n",
    "            first = -1\n",
    "            while left <= right:\n",
    "                mid = (left + right) // 2\n",
    "                if nums[mid] == target:\n",
    "                    first = mid\n",
    "                    right = mid - 1  # keep searching left\n",
    "                elif nums[mid] < target:\n",
    "                    left = mid + 1\n",
    "                else:\n",
    "                    right = mid - 1\n",
    "            return first\n",
    "\n",
    "        def findLast(nums, target):\n",
    "            left, right = 0, len(nums) - 1\n",
    "            last = -1\n",
    "            while left <= right:\n",
    "                mid = (left + right) // 2\n",
    "                if nums[mid] == target:\n",
    "                    last = mid\n",
    "                    left = mid + 1  # keep searching right\n",
    "                elif nums[mid] < target:\n",
    "                    left = mid + 1\n",
    "                else:\n",
    "                    right = mid - 1\n",
    "            return last\n",
    "\n",
    "        return [findFirst(nums, target), findLast(nums, target)]\n"
   ]
  },
  {
   "cell_type": "code",
   "execution_count": null,
   "id": "5ee9c294",
   "metadata": {},
   "outputs": [],
   "source": []
  }
 ],
 "metadata": {
  "kernelspec": {
   "display_name": "Python 3",
   "language": "python",
   "name": "python3"
  },
  "language_info": {
   "codemirror_mode": {
    "name": "ipython",
    "version": 3
   },
   "file_extension": ".py",
   "mimetype": "text/x-python",
   "name": "python",
   "nbconvert_exporter": "python",
   "pygments_lexer": "ipython3",
   "version": "3.10.11"
  }
 },
 "nbformat": 4,
 "nbformat_minor": 5
}
