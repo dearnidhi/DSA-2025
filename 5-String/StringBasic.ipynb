{
 "cells": [
  {
   "cell_type": "markdown",
   "id": "cf773aed",
   "metadata": {},
   "source": [
    "# 🔠 Introduction to Strings in Python (For DSA)\n",
    "\n",
    "Strings are sequences of characters. In Python, strings are:\n",
    "\n",
    "Immutable (cannot be changed after creation).\n",
    "\n",
    "Declared using single '...', double \"...\", or triple quotes '''...''' or \"\"\"...\"\"\"."
   ]
  },
  {
   "cell_type": "code",
   "execution_count": null,
   "id": "7c89a190",
   "metadata": {},
   "outputs": [],
   "source": [
    "# Examples of String creation\n",
    "s1 = 'Hello'\n",
    "s2 = \"World\"\n",
    "s3 = '''Multiline\n",
    "String'''\n"
   ]
  },
  {
   "cell_type": "markdown",
   "id": "f6f697ee",
   "metadata": {},
   "source": [
    "# 🧠 Memory Representation\n",
    "In Python, strings are stored as arrays of characters in contiguous memory locations, but being immutable, modifications require creating a new string."
   ]
  },
  {
   "cell_type": "markdown",
   "id": "d417132f",
   "metadata": {},
   "source": [
    "🔍 Common String Operations (with Examples)"
   ]
  },
  {
   "cell_type": "code",
   "execution_count": 12,
   "id": "833bddee",
   "metadata": {},
   "outputs": [
    {
     "name": "stdout",
     "output_type": "stream",
     "text": [
      "6\n"
     ]
    }
   ],
   "source": [
    "# 1️⃣ Length of String\n",
    "\n",
    "s = \"Nidhii\"\n",
    "print(len(s))  # Output: 13"
   ]
  },
  {
   "cell_type": "code",
   "execution_count": 14,
   "id": "8c087224",
   "metadata": {},
   "outputs": [
    {
     "name": "stdout",
     "output_type": "stream",
     "text": [
      "1\n",
      "2\n"
     ]
    }
   ],
   "source": [
    "# 2️⃣ Search a Character\n",
    "\n",
    "s = \"geeks\"\n",
    "print(s.find('e'))      # Output: 1 (first occurrence)\n",
    "print(s.rfind('e'))     # Output: 2 (last occurrence)"
   ]
  },
  {
   "cell_type": "code",
   "execution_count": 3,
   "id": "9c613232",
   "metadata": {},
   "outputs": [
    {
     "name": "stdout",
     "output_type": "stream",
     "text": [
      "False\n",
      "True\n",
      "True\n"
     ]
    }
   ],
   "source": [
    "# 3️⃣ Check for Substring\n",
    "\n",
    "s = \"Hyedrabada\"\n",
    "print(\"for\" in s)       # Output: True\n",
    "print(s.startswith(\"Hye\"))  # True\n",
    "print(s.endswith(\"a\"))       # True"
   ]
  },
  {
   "cell_type": "code",
   "execution_count": 4,
   "id": "2c9d6e80",
   "metadata": {},
   "outputs": [
    {
     "name": "stdout",
     "output_type": "stream",
     "text": [
      "GeXeks\n"
     ]
    }
   ],
   "source": [
    "#4️⃣ Insert a Character\n",
    "#Since strings are immutable, use slicing:\n",
    "\n",
    "s = \"Geeks\"\n",
    "s = s[:2] + 'X' + s[2:]\n",
    "print(s)  # Output: GeXeks"
   ]
  },
  {
   "cell_type": "code",
   "execution_count": 5,
   "id": "eb335454",
   "metadata": {},
   "outputs": [
    {
     "name": "stdout",
     "output_type": "stream",
     "text": [
      "Geks\n"
     ]
    }
   ],
   "source": [
    "# 5️⃣ Delete a Character\n",
    "\n",
    "s = \"Geeks\"\n",
    "s = s[:1] + s[2:]\n",
    "print(s)  #"
   ]
  },
  {
   "cell_type": "code",
   "execution_count": 6,
   "id": "7ed93644",
   "metadata": {},
   "outputs": [
    {
     "name": "stdout",
     "output_type": "stream",
     "text": [
      "True\n"
     ]
    }
   ],
   "source": [
    "# 6️⃣ Compare Strings\n",
    "\n",
    "a = \"hello\"\n",
    "b = \"hello\"\n",
    "print(a == b)   # Output: True"
   ]
  },
  {
   "cell_type": "code",
   "execution_count": 7,
   "id": "9a0f04c1",
   "metadata": {},
   "outputs": [
    {
     "name": "stdout",
     "output_type": "stream",
     "text": [
      "Hello World\n"
     ]
    }
   ],
   "source": [
    "# 7️⃣ String Concatenation\n",
    "\n",
    "a = \"Hello\"\n",
    "b = \"World\"\n",
    "print(a + \" \" + b)  # Output: Hello World"
   ]
  },
  {
   "cell_type": "code",
   "execution_count": 8,
   "id": "ae396e3d",
   "metadata": {},
   "outputs": [
    {
     "name": "stdout",
     "output_type": "stream",
     "text": [
      "skeeG\n"
     ]
    }
   ],
   "source": [
    "# 8️⃣ Reverse a String\n",
    "\n",
    "s = \"Geeks\"\n",
    "print(s[::-1])   # Output: skeeG"
   ]
  },
  {
   "cell_type": "code",
   "execution_count": 10,
   "id": "29bf5ea2",
   "metadata": {},
   "outputs": [
    {
     "name": "stdout",
     "output_type": "stream",
     "text": [
      "cdeab\n",
      "deabc\n"
     ]
    }
   ],
   "source": [
    "# 9️⃣ Rotate a String\n",
    "\n",
    "\n",
    "s = \"abcde\"\n",
    "rotated = s[2:] + s[:2]\n",
    "print(rotated)  # Output: cdeab\n",
    "\n",
    "# Right Rotation by 2:\n",
    "rotated = s[-2:] + s[:-2]\n",
    "print(rotated)  # Output: deabc\n"
   ]
  },
  {
   "cell_type": "code",
   "execution_count": 11,
   "id": "91be881a",
   "metadata": {},
   "outputs": [
    {
     "name": "stdout",
     "output_type": "stream",
     "text": [
      "True\n",
      "False\n"
     ]
    }
   ],
   "source": [
    "# 🔟 Check for Palindrome\n",
    "\n",
    "def is_palindrome(s):\n",
    "    return s == s[::-1]\n",
    "\n",
    "print(is_palindrome(\"madam\"))  # True\n",
    "print(is_palindrome(\"hello\"))  # False"
   ]
  }
 ],
 "metadata": {
  "kernelspec": {
   "display_name": "env",
   "language": "python",
   "name": "python3"
  },
  "language_info": {
   "codemirror_mode": {
    "name": "ipython",
    "version": 3
   },
   "file_extension": ".py",
   "mimetype": "text/x-python",
   "name": "python",
   "nbconvert_exporter": "python",
   "pygments_lexer": "ipython3",
   "version": "3.12.10"
  }
 },
 "nbformat": 4,
 "nbformat_minor": 5
}
