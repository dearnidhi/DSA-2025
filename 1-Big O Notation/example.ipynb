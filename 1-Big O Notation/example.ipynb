{
 "cells": [
  {
   "cell_type": "markdown",
   "id": "d9bb0fdb",
   "metadata": {},
   "source": [
    "## 📚 Common Big O Complexities (with Examples)"
   ]
  },
  {
   "cell_type": "markdown",
   "id": "5441e008",
   "metadata": {},
   "source": [
    "## 1. O(1) → Constant Time & Space\n",
    "📌 No matter input size, time same rahega\n",
    "\n"
   ]
  },
  {
   "cell_type": "code",
   "execution_count": null,
   "id": "43e42cef",
   "metadata": {},
   "outputs": [],
   "source": [
    "def getFirstElement(arr):\n",
    "    return arr[0]\n"
   ]
  },
  {
   "cell_type": "markdown",
   "id": "135669e4",
   "metadata": {},
   "source": [
    "Time: O(1) → sirf ek step\n",
    "\n",
    "Space: O(1) → koi extra memory nahi li"
   ]
  },
  {
   "cell_type": "markdown",
   "id": "be6ef309",
   "metadata": {},
   "source": [
    "# 2. O(n) → Linear Time & Space\n",
    "📌 Input jitna bada, utne steps"
   ]
  },
  {
   "cell_type": "code",
   "execution_count": 1,
   "id": "084dd2d3",
   "metadata": {},
   "outputs": [],
   "source": [
    "def printAll(arr):\n",
    "    for item in arr:\n",
    "        print(item)\n"
   ]
  },
  {
   "cell_type": "markdown",
   "id": "b6f799ad",
   "metadata": {},
   "source": [
    "Time: O(n) → har element ek baar\n",
    "\n",
    "Space: O(1) → koi extra array nahi banaya"
   ]
  },
  {
   "cell_type": "markdown",
   "id": "a5647a28",
   "metadata": {},
   "source": [
    "# 3. O(n²) → Quadratic Time\n",
    "📌 Nested loop lag raha ho to n²"
   ]
  },
  {
   "cell_type": "code",
   "execution_count": 2,
   "id": "714fd5ad",
   "metadata": {},
   "outputs": [],
   "source": [
    "def printPairs(arr):\n",
    "    for i in arr:\n",
    "        for j in arr:\n",
    "            print(i, j)\n"
   ]
  },
  {
   "cell_type": "markdown",
   "id": "9e90e80c",
   "metadata": {},
   "source": [
    "Time: O(n²) → har pair print ho raha\n",
    "\n",
    "Space: O(1) → sirf print kar rahe"
   ]
  },
  {
   "cell_type": "markdown",
   "id": "a0893edf",
   "metadata": {},
   "source": [
    "# 4. O(log n) → Logarithmic Time\n",
    "📌 Jaise Binary Search"
   ]
  },
  {
   "cell_type": "code",
   "execution_count": 3,
   "id": "40188667",
   "metadata": {},
   "outputs": [],
   "source": [
    "def binarySearch(arr, target):\n",
    "    left = 0\n",
    "    right = len(arr) - 1\n",
    "    while left <= right:\n",
    "        mid = (left + right) // 2\n",
    "        if arr[mid] == target:\n",
    "            return mid\n",
    "        elif arr[mid] < target:\n",
    "            left = mid + 1\n",
    "        else:\n",
    "            right = mid - 1\n",
    "    return -1\n"
   ]
  },
  {
   "cell_type": "markdown",
   "id": "32fea941",
   "metadata": {},
   "source": [
    "Time: O(log n) → har baar array half hota\n",
    "\n",
    "Space: O(1) → koi extra memory nahi"
   ]
  },
  {
   "cell_type": "markdown",
   "id": "9511afcf",
   "metadata": {},
   "source": [
    "## 5. O(n log n) → Jaise Merge Sort\n"
   ]
  },
  {
   "cell_type": "code",
   "execution_count": 4,
   "id": "d8f0abdb",
   "metadata": {},
   "outputs": [],
   "source": [
    "def mergeSort(arr):\n",
    "    if len(arr) <= 1:\n",
    "        return arr\n",
    "    mid = len(arr) // 2\n",
    "    left = mergeSort(arr[:mid])\n",
    "    right = mergeSort(arr[mid:])\n",
    "    return merge(left, right)\n"
   ]
  },
  {
   "cell_type": "markdown",
   "id": "e02ee590",
   "metadata": {},
   "source": [
    "Time: O(n log n)\n",
    "\n",
    "Space: O(n) → n size ka array banta hai"
   ]
  },
  {
   "cell_type": "markdown",
   "id": "1e4669fd",
   "metadata": {},
   "source": [
    "# 6. O(2ⁿ) → Exponential Time\n",
    "📌 Jaise Fibonacci without memoization"
   ]
  },
  {
   "cell_type": "code",
   "execution_count": 5,
   "id": "14a4504d",
   "metadata": {},
   "outputs": [],
   "source": [
    "def fib(n):\n",
    "    if n <= 1:\n",
    "        return n\n",
    "    return fib(n-1) + fib(n-2)\n"
   ]
  },
  {
   "cell_type": "markdown",
   "id": "3773deba",
   "metadata": {},
   "source": [
    "Time: O(2ⁿ) → har call 2 aur calls karta\n",
    "\n",
    "Space: O(n) → recursion stack"
   ]
  },
  {
   "cell_type": "markdown",
   "id": "47d92032",
   "metadata": {},
   "source": [
    "# . O(n!) → Factorial Time\n",
    "📌 Jaise Permutations"
   ]
  },
  {
   "cell_type": "code",
   "execution_count": 6,
   "id": "23c7f6d5",
   "metadata": {},
   "outputs": [],
   "source": [
    "def permute(s, l, r):\n",
    "    if l == r:\n",
    "        print(\"\".join(s))\n",
    "    else:\n",
    "        for i in range(l, r+1):\n",
    "            s[l], s[i] = s[i], s[l]\n",
    "            permute(s, l+1, r)\n",
    "            s[l], s[i] = s[i], s[l]\n"
   ]
  },
  {
   "cell_type": "markdown",
   "id": "f41a91df",
   "metadata": {},
   "source": [
    "Time: O(n!)\n",
    "\n",
    "Space: O(n) → recursion depth"
   ]
  },
  {
   "cell_type": "markdown",
   "id": "cf159647",
   "metadata": {},
   "source": []
  }
 ],
 "metadata": {
  "kernelspec": {
   "display_name": "env",
   "language": "python",
   "name": "python3"
  },
  "language_info": {
   "codemirror_mode": {
    "name": "ipython",
    "version": 3
   },
   "file_extension": ".py",
   "mimetype": "text/x-python",
   "name": "python",
   "nbconvert_exporter": "python",
   "pygments_lexer": "ipython3",
   "version": "3.12.10"
  }
 },
 "nbformat": 4,
 "nbformat_minor": 5
}
