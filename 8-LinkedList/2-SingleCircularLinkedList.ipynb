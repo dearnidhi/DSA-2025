{
 "cells": [
  {
   "cell_type": "markdown",
   "id": "2fa018fa",
   "metadata": {},
   "source": [
    "# Single Circular Linked List (SCLL) in Python\n",
    "A **Single Circular Linked List** is a linked list where:\n",
    "- Each node has `value` and `next` pointers.\n",
    "- The last node points back to the first node (`head`), forming a circle.\n",
    "- Supports operations like append, prepend, traverse, insert, delete, search, etc.\n"
   ]
  },
  {
   "cell_type": "markdown",
   "id": "40324423",
   "metadata": {},
   "source": [
    "# 1. Node class"
   ]
  },
  {
   "cell_type": "code",
   "execution_count": 1,
   "id": "098f1aa0",
   "metadata": {},
   "outputs": [],
   "source": [
    "class Node:\n",
    "    def __init__(self, value):\n",
    "        self.value = value\n",
    "        self.next = None\n",
    "    \n",
    "    def __str__(self):\n",
    "        return str(self.value)\n"
   ]
  },
  {
   "cell_type": "markdown",
   "id": "8aac2f33",
   "metadata": {},
   "source": [
    "Each node in the list has:\n",
    "\n",
    "value → stores the data.\n",
    "\n",
    "next → points to the next node.\n",
    "\n",
    "__str__ is for printing the node's value easily."
   ]
  },
  {
   "cell_type": "markdown",
   "id": "7ab7e1ff",
   "metadata": {},
   "source": [
    "# 2. Circular Single Linked List class"
   ]
  },
  {
   "cell_type": "code",
   "execution_count": 21,
   "id": "ff30e9e9",
   "metadata": {},
   "outputs": [],
   "source": [
    "class CSLinkedList:\n",
    "    # def __init__(self, value):\n",
    "    #     new_node = Node(value)\n",
    "    #     new_node.next = new_node\n",
    "    #     self.head = new_node\n",
    "    #     self.tail = new_node\n",
    "    #     self.length = 1\n",
    "    \n",
    "    def __init__(self):\n",
    "        self.head = None\n",
    "        self.tail = None\n",
    "        self.length = 0"
   ]
  },
  {
   "cell_type": "markdown",
   "id": "d45175b0",
   "metadata": {},
   "source": [
    "head → first node in the list.\n",
    "\n",
    "tail → last node in the list (important for circular linking).\n",
    "\n",
    "length → number of nodes in the list."
   ]
  },
  {
   "cell_type": "markdown",
   "id": "a99113fb",
   "metadata": {},
   "source": [
    "# String representation"
   ]
  },
  {
   "cell_type": "code",
   "execution_count": 20,
   "id": "cfa2b1cb",
   "metadata": {},
   "outputs": [],
   "source": [
    "def __str__(self):\n",
    "    temp_node = self.head\n",
    "    result = ''\n",
    "    while temp_node is not None:\n",
    "        result += str(temp_node.value)\n",
    "        temp_node = temp_node.next\n",
    "        if temp_node == self.head:  # Stop condition for circular list\n",
    "            break\n",
    "        result += ' -> '\n",
    "    return result\n"
   ]
  },
  {
   "cell_type": "markdown",
   "id": "efa26316",
   "metadata": {},
   "source": [
    "Prints the list like: 10 -> 20 -> 30.\n",
    "\n",
    "Stops when it loops back to the head (circular condition)."
   ]
  },
  {
   "cell_type": "markdown",
   "id": "971dcad6",
   "metadata": {},
   "source": [
    "# 3. Adding nodes"
   ]
  },
  {
   "cell_type": "markdown",
   "id": "7c93f488",
   "metadata": {},
   "source": [
    "Append"
   ]
  },
  {
   "cell_type": "code",
   "execution_count": 19,
   "id": "d0555ad9",
   "metadata": {},
   "outputs": [],
   "source": [
    "def append(self, value):\n",
    "    new_node = Node(value)\n",
    "    if self.length == 0:\n",
    "        self.head = new_node\n",
    "        self.tail = new_node\n",
    "        new_node.next = new_node\n",
    "    else:\n",
    "        self.tail.next = new_node\n",
    "        new_node.next = self.head\n",
    "        self.tail = new_node\n",
    "    self.length += 1"
   ]
  },
  {
   "cell_type": "markdown",
   "id": "dc97e810",
   "metadata": {},
   "source": [
    "Adds a node at the end.\n",
    "\n",
    "Updates tail and ensures the list remains circular"
   ]
  },
  {
   "cell_type": "markdown",
   "id": "852bc367",
   "metadata": {},
   "source": [
    "Prepend"
   ]
  },
  {
   "cell_type": "code",
   "execution_count": 18,
   "id": "bac481c3",
   "metadata": {},
   "outputs": [],
   "source": [
    "\n",
    "\n",
    "def prepend(self, value):\n",
    "    new_node = Node(value)\n",
    "    if self.length == 0:\n",
    "        self.head = new_node\n",
    "        self.tail = new_node\n",
    "        new_node.next = new_node\n",
    "    else:\n",
    "        new_node.next = self.head\n",
    "        self.head = new_node\n",
    "        self.tail.next = new_node  # Pointing the tail's next to the new head\n",
    "    self.length += 1"
   ]
  },
  {
   "cell_type": "markdown",
   "id": "b5eb2fa0",
   "metadata": {},
   "source": [
    "Adds a node at the beginning.\n",
    "\n",
    "Updates the head and ensures the circular link with tail."
   ]
  },
  {
   "cell_type": "markdown",
   "id": "7e904e34",
   "metadata": {},
   "source": [
    "Insert at index"
   ]
  },
  {
   "cell_type": "code",
   "execution_count": 17,
   "id": "801550f7",
   "metadata": {},
   "outputs": [],
   "source": [
    "\n",
    "def insert(self, index, value):\n",
    "    if index < 0 or index > self.length:  # Check for out of range\n",
    "        raise Exception(\"Index out of range\")\n",
    "    \n",
    "    new_node = Node(value)\n",
    "    \n",
    "    if index == 0:\n",
    "        if self.length == 0:  # if list is empty\n",
    "            self.head = new_node\n",
    "            self.tail = new_node\n",
    "            new_node.next = new_node\n",
    "        else:\n",
    "            new_node.next = self.head\n",
    "            self.head = new_node\n",
    "            self.tail.next = new_node  # Update tail's next for circularity\n",
    "    elif index == self.length:\n",
    "        self.tail.next = new_node\n",
    "        new_node.next = self.head\n",
    "        self.tail = new_node\n",
    "    else:\n",
    "        temp_node = self.head\n",
    "        for _ in range(index-1):\n",
    "            temp_node = temp_node.next\n",
    "        new_node.next = temp_node.next\n",
    "        temp_node.next = new_node\n",
    "        \n",
    "    self.length += 1"
   ]
  },
  {
   "cell_type": "markdown",
   "id": "3bea1eca",
   "metadata": {},
   "source": [
    "Adds a node at a specific index.\n",
    "\n",
    "Handles three cases:\n",
    "\n",
    "Insert at beginning\n",
    "\n",
    "Insert at end\n",
    "\n",
    "Insert in middle"
   ]
  },
  {
   "cell_type": "markdown",
   "id": "5cf8de8e",
   "metadata": {},
   "source": [
    "# 4. Traversal"
   ]
  },
  {
   "cell_type": "code",
   "execution_count": 16,
   "id": "ae884e47",
   "metadata": {},
   "outputs": [],
   "source": [
    "def traverse(self):\n",
    "    if not self.head:  # If the list is empty\n",
    "        return\n",
    "    current = self.head\n",
    "    while current is not None:\n",
    "        print(current.value)\n",
    "        current = current.next\n",
    "        if current == self.head:  # Stop condition for circular list\n",
    "            break\n"
   ]
  },
  {
   "cell_type": "markdown",
   "id": "063f6e6d",
   "metadata": {},
   "source": [
    "Prints all nodes starting from head.\n",
    "\n",
    "Stops when the list loops back to head."
   ]
  },
  {
   "cell_type": "markdown",
   "id": "72c65a2b",
   "metadata": {},
   "source": [
    "# 5. Searching"
   ]
  },
  {
   "cell_type": "code",
   "execution_count": 15,
   "id": "3b886280",
   "metadata": {},
   "outputs": [],
   "source": [
    "def search(self, target):\n",
    "    current = self.head\n",
    "    while current is not None:\n",
    "        if current.value == target:\n",
    "            return True\n",
    "        current = current.next\n",
    "        if current == self.head:  # Stop condition for circular list\n",
    "            break\n",
    "    return False\n"
   ]
  },
  {
   "cell_type": "markdown",
   "id": "195b8398",
   "metadata": {},
   "source": [
    "Returns index of the target if found, otherwise -1.\n",
    "\n",
    "Stops when it loops back to the head"
   ]
  },
  {
   "cell_type": "markdown",
   "id": "9dc9cc8f",
   "metadata": {},
   "source": [
    "# 6. Access and update"
   ]
  },
  {
   "cell_type": "markdown",
   "id": "9f643209",
   "metadata": {},
   "source": [
    "get → returns node at index.\n",
    "\n",
    "set_value → updates value of node at index."
   ]
  },
  {
   "cell_type": "code",
   "execution_count": 13,
   "id": "be252389",
   "metadata": {},
   "outputs": [],
   "source": [
    "def get(self, index):\n",
    "        if index == -1:\n",
    "            return self.tail\n",
    "        elif index < -1 or index >= self.length:\n",
    "            return None\n",
    "        current = self.head\n",
    "        for _ in range(index):\n",
    "            current = current.next\n",
    "        return current\n",
    "\n",
    "def set_value(self, index, value):\n",
    "    temp = self.get(index)\n",
    "    if temp:\n",
    "        temp.value = value\n",
    "        return True\n",
    "    return False"
   ]
  },
  {
   "cell_type": "markdown",
   "id": "8deae38c",
   "metadata": {},
   "source": [
    "# 7. Removing nodes\n",
    "Pop first"
   ]
  },
  {
   "cell_type": "code",
   "execution_count": 10,
   "id": "5b241ba6",
   "metadata": {},
   "outputs": [],
   "source": [
    "def pop_first(self):\n",
    "        if self.length == 0:\n",
    "            return None\n",
    "        popped_node = self.head\n",
    "        \n",
    "        if self.length == 1:\n",
    "            self.head = None\n",
    "            self.tail = None\n",
    "        else:\n",
    "            self.head = self.head.next\n",
    "            self.tail.next = self.head  # Update the tail's next pointer to point to the new head\n",
    "            popped_node.next = None\n",
    "        \n",
    "        self.length -= 1\n",
    "        return popped_node"
   ]
  },
  {
   "cell_type": "markdown",
   "id": "9ee06fb6",
   "metadata": {},
   "source": [
    "Removes head.\n",
    "\n",
    "Updates head and maintains circular link."
   ]
  },
  {
   "cell_type": "code",
   "execution_count": 7,
   "id": "3ae24492",
   "metadata": {},
   "outputs": [],
   "source": [
    "def pop_first(self):\n",
    "        if self.length == 0:\n",
    "            return None\n",
    "        popped_node = self.head\n",
    "        \n",
    "        if self.length == 1:\n",
    "            self.head = None\n",
    "            self.tail = None\n",
    "        else:\n",
    "            self.head = self.head.next\n",
    "            self.tail.next = self.head  # Update the tail's next pointer to point to the new head\n",
    "            popped_node.next = None\n",
    "        \n",
    "        self.length -= 1\n",
    "        return popped_node"
   ]
  },
  {
   "cell_type": "markdown",
   "id": "e232615a",
   "metadata": {},
   "source": [
    "Removes the last node"
   ]
  },
  {
   "cell_type": "code",
   "execution_count": 9,
   "id": "d801808b",
   "metadata": {},
   "outputs": [],
   "source": [
    "def pop(self):\n",
    "    if self.length == 0:\n",
    "        return None\n",
    "    popped_node = self.tail\n",
    "    if self.length == 1:\n",
    "        self.head = None\n",
    "        self.tail = None\n",
    "    else:\n",
    "        temp = self.head\n",
    "        while temp.next != self.tail:  # Traverse until the second last node\n",
    "            temp = temp.next\n",
    "        temp.next = self.head  # Keep the list circular\n",
    "        self.tail = temp  # Update the tail\n",
    "    popped_node.next = None\n",
    "    self.length -= 1\n",
    "    return popped_node\n"
   ]
  },
  {
   "cell_type": "markdown",
   "id": "8c58ffc1",
   "metadata": {},
   "source": [
    "Remove by index"
   ]
  },
  {
   "cell_type": "code",
   "execution_count": 6,
   "id": "9359afba",
   "metadata": {},
   "outputs": [],
   "source": [
    "def remove(self, index):\n",
    "    if index < -1 or index >= self.length:\n",
    "        return None\n",
    "    if index == 0:\n",
    "        return self.pop_first()\n",
    "    if index == -1 or index == self.length-1:\n",
    "        return self.pop()\n",
    "    prev_node = self.get(index-1)\n",
    "    popped_node = prev_node.next\n",
    "    prev_node.next = popped_node.next\n",
    "    popped_node.next = None\n",
    "    self.length -= 1\n",
    "    return popped_node"
   ]
  },
  {
   "cell_type": "markdown",
   "id": "316e1df6",
   "metadata": {},
   "source": [
    "Removes node at a specific index.\n",
    "\n",
    "Handles first, last, and middle cases"
   ]
  },
  {
   "cell_type": "markdown",
   "id": "ea57f31a",
   "metadata": {},
   "source": [
    "# 8. Delete all nodes"
   ]
  },
  {
   "cell_type": "code",
   "execution_count": 4,
   "id": "9fc87d9a",
   "metadata": {},
   "outputs": [],
   "source": [
    "def delete_all(self):\n",
    "    self.tail.next = None\n",
    "    self.head = None\n",
    "    self.tail = None\n",
    "    self.length = 0\n"
   ]
  },
  {
   "cell_type": "markdown",
   "id": "f534dd46",
   "metadata": {},
   "source": [
    "Clears the entire list and breaks the circular link."
   ]
  },
  {
   "cell_type": "markdown",
   "id": "8dc1c1bf",
   "metadata": {},
   "source": [
    "# 9. Example usage"
   ]
  },
  {
   "cell_type": "code",
   "execution_count": null,
   "id": "ac0d9ba8",
   "metadata": {},
   "outputs": [],
   "source": [
    "linked_list = CSLinkedList()\n",
    "linked_list.append(10)\n",
    "linked_list.insert(0,20)\n",
    "linked_list.insert(1,30)\n",
    "linked_list.insert(2,40)\n",
    "linked_list.insert(3,50)\n",
    "linked_list.set_value(-1,100)\n"
   ]
  },
  {
   "cell_type": "markdown",
   "id": "bf0b8793",
   "metadata": {},
   "source": [
    "Creates a circular linked list.\n",
    "\n",
    "Demonstrates append, insert, and set_value.\n",
    "\n",
    "Can be printed easily using print(linked_list)."
   ]
  },
  {
   "cell_type": "markdown",
   "id": "6ca5c554",
   "metadata": {},
   "source": [
    "# ✅ Key points about this implementation:\n",
    "\n",
    "Circular linked list → last node points back to head.\n",
    "\n",
    "Efficient insertion at head and tail.\n",
    "\n",
    "Length is tracked to simplify operations and checks.\n",
    "\n",
    "get, set_value, remove make it flexible and robust.\n",
    "\n",
    "Traversal methods include circular stopping condition to prevent infinite loops."
   ]
  },
  {
   "cell_type": "markdown",
   "id": "2dfe9cbb",
   "metadata": {},
   "source": []
  }
 ],
 "metadata": {
  "kernelspec": {
   "display_name": "Python 3",
   "language": "python",
   "name": "python3"
  },
  "language_info": {
   "codemirror_mode": {
    "name": "ipython",
    "version": 3
   },
   "file_extension": ".py",
   "mimetype": "text/x-python",
   "name": "python",
   "nbconvert_exporter": "python",
   "pygments_lexer": "ipython3",
   "version": "3.10.11"
  }
 },
 "nbformat": 4,
 "nbformat_minor": 5
}
