{
 "cells": [
  {
   "cell_type": "code",
   "execution_count": 1,
   "id": "b0449e9d",
   "metadata": {},
   "outputs": [
    {
     "name": "stdout",
     "output_type": "stream",
     "text": [
      "######  Constant time complexity  #######\n",
      "1\n",
      "######  Linear time complexity  #######\n",
      "1\n",
      "2\n",
      "3\n",
      "4\n",
      "5\n",
      "######  Logarithmic time complexity  #######\n",
      "1\n",
      "4\n",
      "######  Quadratic time complexity  #######\n",
      "1 1\n",
      "1 2\n",
      "1 3\n",
      "1 4\n",
      "1 5\n",
      "2 1\n",
      "2 2\n",
      "2 3\n",
      "2 4\n",
      "2 5\n",
      "3 1\n",
      "3 2\n",
      "3 3\n",
      "3 4\n",
      "3 5\n",
      "4 1\n",
      "4 2\n",
      "4 3\n",
      "4 4\n",
      "4 5\n",
      "5 1\n",
      "5 2\n",
      "5 3\n",
      "5 4\n",
      "5 5\n"
     ]
    }
   ],
   "source": [
    "array = [1, 2, 3, 4, 5]\n",
    "\n",
    "######  Constant Time Complexity – O(1)  ######\n",
    "# Accessing a specific index in an array takes constant time.\n",
    "print('######  Constant time complexity  #######')\n",
    "print(array[0])  # No matter how big the array is, this takes 1 step → O(1)\n",
    "\n",
    "######  Linear Time Complexity – O(n) ######\n",
    "# Looping over all elements – time grows linearly with array size.\n",
    "print('######  Linear time complexity  #######')\n",
    "for element in array:\n",
    "     print(element)  # If array has n items → O(n)\n",
    "\n",
    "######  Logarithmic Time Complexity – O(log n) ######\n",
    "# Skipping elements in steps reduces the number of operations\n",
    "# Not a real binary search but shows reduction.\n",
    "print('######  Logarithmic time complexity  #######')\n",
    "for index in range(0, len(array), 3):\n",
    "     print(array[index])  # Skips every 3 steps → fewer operations → ~log(n)\n",
    "\n",
    "######  Quadratic Time Complexity – O(n²) ######\n",
    "# Nested loops – grows exponentially with size.\n",
    "print('######  Quadratic time complexity  #######')\n",
    "for x in array:\n",
    "    for y in array:\n",
    "         print(x, y)  # If array has n items → n * n = O(n²)\n"
   ]
  },
  {
   "cell_type": "markdown",
   "id": "985e6b12",
   "metadata": {},
   "source": [
    "## 📈 Exponential Time Complexity – O(2ⁿ)"
   ]
  },
  {
   "cell_type": "code",
   "execution_count": 2,
   "id": "fb933b40",
   "metadata": {},
   "outputs": [
    {
     "name": "stdout",
     "output_type": "stream",
     "text": [
      "######  Exponential time complexity  #######\n"
     ]
    }
   ],
   "source": [
    "print('######  Exponential time complexity  #######')\n",
    "def fibonacci(n):\n",
    "    if n <= 1:\n",
    "        return n\n",
    "    return fibonacci(n-1) + fibonacci(n-2)\n",
    "\n",
    "# fibonacci(n) calls itself twice each time → O(2ⁿ) time\n"
   ]
  },
  {
   "cell_type": "markdown",
   "id": "01f98d3d",
   "metadata": {},
   "source": [
    "## ➕ Add vs ✖️ Multiply Loops\n"
   ]
  },
  {
   "cell_type": "code",
   "execution_count": 3,
   "id": "ebbf6422",
   "metadata": {},
   "outputs": [
    {
     "name": "stdout",
     "output_type": "stream",
     "text": [
      "1\n",
      "2\n",
      "3\n",
      "4\n",
      "5\n",
      "6\n",
      "7\n",
      "8\n",
      "9\n",
      "11\n",
      "12\n",
      "13\n",
      "14\n",
      "15\n",
      "16\n",
      "17\n",
      "18\n",
      "19\n",
      "1 11\n",
      "1 12\n",
      "1 13\n",
      "1 14\n",
      "1 15\n",
      "1 16\n",
      "1 17\n",
      "1 18\n",
      "1 19\n",
      "2 11\n",
      "2 12\n",
      "2 13\n",
      "2 14\n",
      "2 15\n",
      "2 16\n",
      "2 17\n",
      "2 18\n",
      "2 19\n",
      "3 11\n",
      "3 12\n",
      "3 13\n",
      "3 14\n",
      "3 15\n",
      "3 16\n",
      "3 17\n",
      "3 18\n",
      "3 19\n",
      "4 11\n",
      "4 12\n",
      "4 13\n",
      "4 14\n",
      "4 15\n",
      "4 16\n",
      "4 17\n",
      "4 18\n",
      "4 19\n",
      "5 11\n",
      "5 12\n",
      "5 13\n",
      "5 14\n",
      "5 15\n",
      "5 16\n",
      "5 17\n",
      "5 18\n",
      "5 19\n",
      "6 11\n",
      "6 12\n",
      "6 13\n",
      "6 14\n",
      "6 15\n",
      "6 16\n",
      "6 17\n",
      "6 18\n",
      "6 19\n",
      "7 11\n",
      "7 12\n",
      "7 13\n",
      "7 14\n",
      "7 15\n",
      "7 16\n",
      "7 17\n",
      "7 18\n",
      "7 19\n",
      "8 11\n",
      "8 12\n",
      "8 13\n",
      "8 14\n",
      "8 15\n",
      "8 16\n",
      "8 17\n",
      "8 18\n",
      "8 19\n",
      "9 11\n",
      "9 12\n",
      "9 13\n",
      "9 14\n",
      "9 15\n",
      "9 16\n",
      "9 17\n",
      "9 18\n",
      "9 19\n"
     ]
    }
   ],
   "source": [
    "arrayA = [1,2,3,4,5,6,7,8,9]\n",
    "arrayB = [11,12,13,14,15,16,17,18,19]\n",
    "\n",
    "for a in arrayA:\n",
    "    print(a)  # O(n)\n",
    "\n",
    "for b in arrayB:\n",
    "    print(b)  # O(n)\n",
    "\n",
    "for a in arrayA:\n",
    "    for b in arrayB:\n",
    "        print(a, b)  # O(n²) because it's nested\n"
   ]
  },
  {
   "cell_type": "markdown",
   "id": "551663f3",
   "metadata": {},
   "source": [
    "## 🔁 Iterative Max Finder – O(n) Time, O(1) Space\n"
   ]
  },
  {
   "cell_type": "code",
   "execution_count": 4,
   "id": "752093a6",
   "metadata": {},
   "outputs": [],
   "source": [
    "sample1Array = [1,10,45,...]\n",
    "\n",
    "def findBiggestNumber(sampleArray):\n",
    "    biggestNumber = sampleArray[0]\n",
    "    for index in range(1, len(sampleArray)):\n",
    "        if sampleArray[index] > biggestNumber:\n",
    "            biggestNumber = sampleArray[index]\n",
    "    print(biggestNumber)\n",
    "\n",
    "# Time: O(n), Space: O(1)\n"
   ]
  },
  {
   "cell_type": "markdown",
   "id": "2eac74da",
   "metadata": {},
   "source": [
    "## 🔁 Recursive Max Finder – O(n) Time, O(n) Space (due to call stack)"
   ]
  },
  {
   "cell_type": "code",
   "execution_count": 5,
   "id": "3872ae36",
   "metadata": {},
   "outputs": [],
   "source": [
    "def findMaxNumRec(sampleArray, n):\n",
    "    if n == 1:\n",
    "        return sampleArray[0]\n",
    "    return max(sampleArray[n-1], findMaxNumRec(sampleArray, n-1))\n",
    "\n",
    "# Recursion depth = n → space = O(n)\n"
   ]
  },
  {
   "cell_type": "markdown",
   "id": "d91fc92b",
   "metadata": {},
   "source": [
    "## 🧨 Recursive Calls Multiply – O(2ⁿ) Time, O(n) Space"
   ]
  },
  {
   "cell_type": "code",
   "execution_count": 6,
   "id": "f8ef096f",
   "metadata": {},
   "outputs": [],
   "source": [
    "def f(n):\n",
    "    if n <= 1:\n",
    "        return 1\n",
    "    return f(n-1) + f(n-1)\n",
    "\n",
    "# Each call spawns 2 calls → exponential growth → O(2ⁿ)\n"
   ]
  },
  {
   "cell_type": "markdown",
   "id": "52b0dc38",
   "metadata": {},
   "source": [
    "## ❓ Quiz Question Analysis"
   ]
  },
  {
   "cell_type": "code",
   "execution_count": 7,
   "id": "bc852a94",
   "metadata": {},
   "outputs": [],
   "source": [
    "def f1(n):\n",
    "    if n <= 0:\n",
    "        return 1\n",
    "    else:\n",
    "        return 1 + f1(n-1)\n",
    "# Time: O(n), Space: O(n)\n",
    "\n",
    "def f2(n):\n",
    "    if n <= 0:\n",
    "        return 1\n",
    "    else:\n",
    "        return 1 + f2(n-5)\n",
    "# Time: O(n/5) => O(n), Space: O(n)\n",
    "\n",
    "def f3(n):\n",
    "    if n <= 0:\n",
    "        return 1\n",
    "    else:\n",
    "        return 1 + f3(n/5)\n",
    "# Reduces by /5 each time → log base 5 → O(log n), Space: O(log n)\n",
    "\n",
    "def f4(n, m, o):\n",
    "    if n <= 0:\n",
    "        print(n, m, o)\n",
    "    else:\n",
    "        f4(n-1, m+1, o)\n",
    "        f4(n-1, m, o+1)\n",
    "# Each call makes 2 calls → O(2ⁿ), Space: O(n)\n",
    "\n",
    "def f5(n):\n",
    "    for i in range(0, n, 2):\n",
    "        print(i)  # O(n)\n",
    "    if n <= 0:\n",
    "        return 1\n",
    "    else:\n",
    "        return 1 + f5(n-5)\n",
    "# Recursive part calls n/5 times → O(n), Space: O(n)\n"
   ]
  },
  {
   "cell_type": "code",
   "execution_count": null,
   "id": "88adba3f",
   "metadata": {},
   "outputs": [],
   "source": []
  }
 ],
 "metadata": {
  "kernelspec": {
   "display_name": "env",
   "language": "python",
   "name": "python3"
  },
  "language_info": {
   "codemirror_mode": {
    "name": "ipython",
    "version": 3
   },
   "file_extension": ".py",
   "mimetype": "text/x-python",
   "name": "python",
   "nbconvert_exporter": "python",
   "pygments_lexer": "ipython3",
   "version": "3.12.10"
  }
 },
 "nbformat": 4,
 "nbformat_minor": 5
}
