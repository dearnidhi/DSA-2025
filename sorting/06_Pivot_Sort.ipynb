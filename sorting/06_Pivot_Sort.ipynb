{
 "cells": [
  {
   "cell_type": "markdown",
   "id": "520150c9",
   "metadata": {},
   "source": [
    "# 🔍 Understanding the Pivot (Private) Function in QuickSort\n",
    "\n",
    "In this walkthrough, we’ll explore how the **pivot (private) helper function** works as part of implementing the **QuickSort algorithm**.\n",
    "\n",
    "---\n",
    "\n",
    "## 🎯 Goal of Pivot Function\n",
    "\n",
    "- Select the **first element** as the **pivot**.\n",
    "- Partition the list so that:\n",
    "  - All numbers **less than the pivot** are moved to the **left**.\n",
    "  - All numbers **greater than the pivot** are moved to the **right**.\n",
    "\n",
    "---\n",
    "\n",
    "## 🧠 Conceptual Example\n",
    "\n",
    "Given a list:\n",
    "\n"
   ]
  },
  {
   "cell_type": "code",
   "execution_count": null,
   "id": "958c45b9",
   "metadata": {},
   "outputs": [],
   "source": [
    "[3, 5, 0, 6, 2, 1, 4]"
   ]
  },
  {
   "cell_type": "markdown",
   "id": "e0e7e3c5",
   "metadata": {},
   "source": [
    "\n",
    "- Pivot is `3` (first element).\n",
    "- Final goal: place `3` in its correct position so that:\n",
    "  - All elements left of it are `< 3`\n",
    "  - All elements right of it are `> 3`\n",
    "\n",
    "---\n",
    "\n",
    "## 🔄 Step-by-Step Process\n",
    "\n",
    "### Step 1: Initialize Variables\n",
    "\n",
    "- `pivot`: first element (index 0 → value `3`)\n",
    "- `i`: loop variable starting from index 1\n",
    "- `swap_index`: starts at index 0 (same as pivot index)\n",
    "\n",
    "### Step 2: Loop Through the List\n",
    "\n",
    "- For each `arr[i]`, compare with pivot:\n",
    "  - If `arr[i] < pivot`:\n",
    "    - Increment `swap_index`\n",
    "    - Swap `arr[i]` and `arr[swap_index]`\n",
    "  - If `arr[i] >= pivot`, do nothing (pivot elements will be pushed right by default)\n",
    "\n",
    "---\n",
    "\n",
    "\n",
    "\n",
    "---\n",
    "\n",
    "## 🔁 Example Walkthrough\n",
    "\n",
    "### Initial List:\n"
   ]
  },
  {
   "cell_type": "code",
   "execution_count": 1,
   "id": "d61d28e9",
   "metadata": {},
   "outputs": [
    {
     "data": {
      "text/plain": [
       "[3, 5, 0, 6, 2, 1, 4]"
      ]
     },
     "execution_count": 1,
     "metadata": {},
     "output_type": "execute_result"
    }
   ],
   "source": [
    "[3, 5, 0, 6, 2, 1, 4]\n",
    "\n"
   ]
  },
  {
   "cell_type": "markdown",
   "id": "7a593d28",
   "metadata": {},
   "source": [
    "\n",
    "### Operations:\n",
    "\n",
    "1. Compare `5 > 3` → mark yellow\n",
    "2. Compare `0 < 3` → mark blue → increment `swap_index` → swap `5` and `0`\n",
    "3. Compare `6 > 3` → mark yellow\n",
    "4. Compare `2 < 3` → mark blue → increment `swap_index` → swap `6` and `2`\n",
    "5. Compare `1 < 3` → mark blue → increment `swap_index` → swap `5` and `1`\n",
    "6. Compare `4 > 3` → mark yellow\n",
    "\n",
    "### Swap pivot with `swap_index`:\n",
    "- Swap `3` with `1` → pivot placed correctly\n",
    "\n",
    "### Final Partitioned List:\n"
   ]
  },
  {
   "cell_type": "code",
   "execution_count": 2,
   "id": "eb935c01",
   "metadata": {},
   "outputs": [
    {
     "data": {
      "text/plain": [
       "[1, 0, 2, 3, 6, 5, 4]"
      ]
     },
     "execution_count": 2,
     "metadata": {},
     "output_type": "execute_result"
    }
   ],
   "source": [
    "[1, 0, 2, 3, 6, 5, 4]"
   ]
  },
  {
   "cell_type": "markdown",
   "id": "2ab27323",
   "metadata": {},
   "source": [
    "- Index of pivot (now sorted) = 3\n",
    "\n",
    "---\n",
    "\n",
    "## 🔁 Recursion Follows\n",
    "\n",
    "- Recurse on:\n",
    "  - Left: `arr[0 : pivot_index]`\n",
    "  - Right: `arr[pivot_index + 1 : end]`\n",
    "- The pivot element itself is **excluded from recursion** (already sorted)\n",
    "\n",
    "---\n",
    "\n",
    "## 🔚 Return Value\n",
    "\n",
    "- The **pivot function returns the index** of the pivot’s final position (not the value).\n",
    "- This index helps divide the list for recursive QuickSort calls.\n",
    "\n",
    "---\n",
    "\n",
    "## ✅ Summary\n",
    "\n",
    "- Pivot function is a **core part** of QuickSort.\n",
    "- It partitions the array **in-place**, keeping space complexity low.\n",
    "- Swapping logic ensures elements are organized around the pivot for recursion.\n",
    "\n",
    "---\n",
    "\n",
    "📌 In the next lecture, we'll implement this pivot logic into code and integrate it into a working QuickSort algorithm.\n"
   ]
  },
  {
   "cell_type": "markdown",
   "id": "f2be7151",
   "metadata": {},
   "source": []
  },
  {
   "cell_type": "code",
   "execution_count": 3,
   "id": "978741ee",
   "metadata": {},
   "outputs": [],
   "source": [
    "# 🎯 Pivot Function Only (Using Lomuto Partition Scheme)\n",
    "def pivot(arr, pivot_index, end_index):\n",
    "    swap_index = pivot_index  # Start with the pivot position\n",
    "\n",
    "    # Traverse the subarray from pivot_index+1 to end_index\n",
    "    for i in range(pivot_index + 1, end_index + 1):\n",
    "        # If current element is less than pivot, move it to left\n",
    "        if arr[i] < arr[pivot_index]:\n",
    "            swap_index += 1\n",
    "            arr[swap_index], arr[i] = arr[i], arr[swap_index]\n",
    "\n",
    "    # Finally, place pivot in its correct sorted position\n",
    "    arr[pivot_index], arr[swap_index] = arr[swap_index], arr[pivot_index]\n",
    "\n",
    "    return swap_index  # Return the final pivot position\n"
   ]
  },
  {
   "cell_type": "markdown",
   "id": "cafee849",
   "metadata": {},
   "source": [
    " ## \n",
    "🔍 What It Does\n",
    "Takes a subarray from pivot_index to end_index\n",
    "\n",
    "Places the pivot in its correct sorted position\n",
    "\n",
    "Rearranges elements:\n",
    "\n",
    "All smaller elements move left\n",
    "\n",
    "Larger or equal stay right\n",
    "\n"
   ]
  },
  {
   "cell_type": "code",
   "execution_count": null,
   "id": "e0a45ce5",
   "metadata": {},
   "outputs": [],
   "source": [
    "y"
   ]
  }
 ],
 "metadata": {
  "kernelspec": {
   "display_name": "env",
   "language": "python",
   "name": "python3"
  },
  "language_info": {
   "codemirror_mode": {
    "name": "ipython",
    "version": 3
   },
   "file_extension": ".py",
   "mimetype": "text/x-python",
   "name": "python",
   "nbconvert_exporter": "python",
   "pygments_lexer": "ipython3",
   "version": "3.12.10"
  }
 },
 "nbformat": 4,
 "nbformat_minor": 5
}
