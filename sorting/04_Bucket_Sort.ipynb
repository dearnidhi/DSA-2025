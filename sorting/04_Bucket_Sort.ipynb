{
 "cells": [
  {
   "cell_type": "markdown",
   "id": "fb365ada",
   "metadata": {},
   "source": [
    "## 🔍 What is Bucket Sort?\n",
    "Bucket Sort is a sorting algorithm that:\n",
    "\n",
    "Divides the array into buckets\n",
    "\n",
    "Sorts each bucket individually (using another sorting algorithm like Insertion Sort or Quick Sort)\n",
    "\n",
    "Merges all buckets back into a sorted list\n",
    "\n",
    "## 🧪 Step-by-Step Example\n",
    "Given:\n",
    "\n",
    "arr = [5, 3, 4, 7, 2, 8, 6, 9, 1]\n",
    "\n",
    "Number of Buckets = round(√n) → round(√9) = 3\n",
    "\n",
    "Max value = 9\n",
    "\n",
    "## Use this formula to find which bucket each number goes into:\n",
    "\n",
    "bucket_index = ceil((value * number_of_buckets) / max_value)\n",
    "\n",
    "## Example:\n",
    "\n",
    "For value = 5: ceil((5 × 3) / 9) = 2 → goes to bucket 2\n",
    "\n",
    "For value = 1: ceil((1 × 3) / 9) = 1 → goes to bucket 1"
   ]
  },
  {
   "cell_type": "markdown",
   "id": "2af35d2a",
   "metadata": {},
   "source": [
    "## 🧠 Insertion Sort (Used inside Bucket Sort)\n"
   ]
  },
  {
   "cell_type": "code",
   "execution_count": 4,
   "id": "f2058839",
   "metadata": {},
   "outputs": [],
   "source": [
    "def insertion_sort(arr):\n",
    "    for i in range(1, len(arr)):\n",
    "        key = arr[i]\n",
    "        j = i - 1\n",
    "\n",
    "        while j >= 0 and arr[j] > key:\n",
    "            arr[j + 1] = arr[j]\n",
    "            j -= 1\n",
    "\n",
    "        arr[j + 1] = key\n",
    "    return arr  # ✅ Needed to use inside bucket sort\n"
   ]
  },
  {
   "cell_type": "markdown",
   "id": "97375cb1",
   "metadata": {},
   "source": [
    "# 🪣 Bucket Sort - Python Code\n"
   ]
  },
  {
   "cell_type": "code",
   "execution_count": 5,
   "id": "65b3bcbe",
   "metadata": {},
   "outputs": [],
   "source": [
    "import math\n",
    "\n",
    "def bucket_sort(custom_list):\n",
    "    if len(custom_list) == 0:\n",
    "        return custom_list\n",
    "\n",
    "    # 1️⃣ Calculate number of buckets\n",
    "    num_buckets = round(math.sqrt(len(custom_list)))\n",
    "\n",
    "    # 2️⃣ Find max value in array\n",
    "    max_value = max(custom_list)\n",
    "\n",
    "    # 3️⃣ Create empty buckets\n",
    "    buckets = []\n",
    "    for _ in range(num_buckets):\n",
    "        buckets.append([])\n",
    "\n",
    "    # 4️⃣ Distribute elements into buckets\n",
    "    for value in custom_list:\n",
    "        index = math.ceil((value * num_buckets) / max_value)\n",
    "        buckets[index - 1].append(value)\n",
    "\n",
    "    # 5️⃣ Sort each bucket\n",
    "    for i in range(num_buckets):\n",
    "        buckets[i] = insertion_sort(buckets[i])\n",
    "\n",
    "    # 6️⃣ Merge buckets\n",
    "    sorted_array = []\n",
    "    for bucket in buckets:\n",
    "        sorted_array.extend(bucket)\n",
    "\n",
    "    return sorted_array\n"
   ]
  },
  {
   "cell_type": "code",
   "execution_count": 6,
   "id": "cd7d78dd",
   "metadata": {},
   "outputs": [
    {
     "name": "stdout",
     "output_type": "stream",
     "text": [
      "🔢 Original List: [5, 3, 4, 7, 2, 8, 6, 9, 1]\n",
      "✅ Sorted List:   [1, 2, 3, 4, 5, 6, 7, 8, 9]\n"
     ]
    }
   ],
   "source": [
    "data = [5, 3, 4, 7, 2, 8, 6, 9, 1]\n",
    "print(\"🔢 Original List:\", data)\n",
    "\n",
    "sorted_data = bucket_sort(data)\n",
    "print(\"✅ Sorted List:  \", sorted_data)\n"
   ]
  },
  {
   "cell_type": "markdown",
   "id": "01764f0b",
   "metadata": {},
   "source": [
    "## 🧾 When to Use Bucket Sort\n",
    "## ✅ Use it when:\n",
    "\n",
    "Elements are uniformly distributed (values spread evenly)\n",
    "\n",
    "You want to optimize sorting for real numbers or bounded ranges\n",
    "\n",
    "## ❌ Avoid if:\n",
    "\n",
    "Space is limited (uses O(n) extra space)\n",
    "\n",
    "Data is not uniformly distributed\n",
    "\n",
    "Insertion sort inside causes inefficiency (use quicksort instead)"
   ]
  },
  {
   "cell_type": "markdown",
   "id": "a022e503",
   "metadata": {},
   "source": [
    "| Case                                 | Time Complexity                          |\n",
    "| ------------------------------------ | ---------------------------------------- |\n",
    "| Best (uniform + fast sort in bucket) | O(n + k) → if using quicksort            |\n",
    "| Average                              | O(n²) (if insertion sort is used inside) |\n",
    "| Worst                                | O(n²)                                    |\n"
   ]
  },
  {
   "cell_type": "markdown",
   "id": "e29face7",
   "metadata": {},
   "source": [
    "# 📦 Space Complexity: O(n)\n",
    "\n",
    "Because we create temporary buckets in memory."
   ]
  },
  {
   "cell_type": "markdown",
   "id": "50e4e8b6",
   "metadata": {},
   "source": [
    "# 🪣 Bucket Sort (Handles Negative Numbers)\n",
    "\n",
    "This notebook implements **Bucket Sort** for lists that include **negative numbers**.  \n",
    "We explain the algorithm step-by-step and demonstrate it with a working example.  \n"
   ]
  },
  {
   "cell_type": "code",
   "execution_count": 7,
   "id": "3d0dc705",
   "metadata": {},
   "outputs": [],
   "source": [
    "import math\n"
   ]
  },
  {
   "cell_type": "markdown",
   "id": "9f325c0b",
   "metadata": {},
   "source": [
    "📌 3. Insertion Sort Helper Function"
   ]
  },
  {
   "cell_type": "code",
   "execution_count": 8,
   "id": "5fb32081",
   "metadata": {},
   "outputs": [],
   "source": [
    "def insertionSort(arr):\n",
    "    for i in range(1, len(arr)):\n",
    "        key = arr[i]\n",
    "        j = i - 1\n",
    "\n",
    "        # Shift elements of arr[0..i-1], that are greater than key\n",
    "        while j >= 0 and arr[j] > key:\n",
    "            arr[j + 1] = arr[j]\n",
    "            j -= 1\n",
    "\n",
    "        # Place key at the correct position\n",
    "        arr[j + 1] = key\n",
    "    return arr\n"
   ]
  },
  {
   "cell_type": "markdown",
   "id": "e617007a",
   "metadata": {},
   "source": [
    "### 🔧 Insertion Sort\n",
    "This helper function is used to sort individual buckets.\n",
    "\n",
    "It works like this:\n",
    "- Start from index 1.\n",
    "- Take the current value as the \"key\".\n",
    "- Move all greater elements one step to the right.\n",
    "- Insert the key in its correct place.\n"
   ]
  },
  {
   "cell_type": "markdown",
   "id": "a1c66f7f",
   "metadata": {},
   "source": [
    "# 📌 4. Bucket Sort Function (Handles Negative Numbers)\n"
   ]
  },
  {
   "cell_type": "code",
   "execution_count": 9,
   "id": "cd93e96b",
   "metadata": {},
   "outputs": [],
   "source": [
    "def bucketSort(customList):\n",
    "    if len(customList) == 0:\n",
    "        return []\n",
    "\n",
    "    # Step 1: Decide the number of buckets\n",
    "    numberofBuckets = round(math.sqrt(len(customList)))\n",
    "\n",
    "    # Step 2: Find min and max\n",
    "    minValue = min(customList)\n",
    "    maxValue = max(customList)\n",
    "\n",
    "    # Step 3: Calculate range of each bucket\n",
    "    rangeVal = (maxValue - minValue) / numberofBuckets\n",
    "\n",
    "    # Step 4: Create empty buckets\n",
    "    buckets = [[] for _ in range(numberofBuckets)]\n",
    "\n",
    "    # Step 5: Distribute elements into buckets\n",
    "    for j in customList:\n",
    "        if j == maxValue:\n",
    "            # Put max value in last bucket directly\n",
    "            buckets[-1].append(j)\n",
    "        else:\n",
    "            index_b = math.floor((j - minValue) / rangeVal)\n",
    "            buckets[index_b].append(j)\n",
    "\n",
    "    # Step 6: Sort each bucket and merge\n",
    "    sorted_array = []\n",
    "    for i in range(numberofBuckets):\n",
    "        buckets[i] = insertionSort(buckets[i])\n",
    "        sorted_array.extend(buckets[i])\n",
    "\n",
    "    return sorted_array\n"
   ]
  },
  {
   "cell_type": "markdown",
   "id": "051abcc5",
   "metadata": {},
   "source": [
    "### 🪣 Bucket Sort (with Negative Number Handling)\n",
    "\n",
    "#### Steps:\n",
    "1. **Decide number of buckets** – √N is a good estimate.\n",
    "2. **Find min and max** values in the list.\n",
    "3. **Divide the full range** into equal-width buckets.\n",
    "4. **Distribute numbers** into correct buckets:\n",
    "   - `(value - min) // bucket_range` gives the index.\n",
    "   - Special case: max value goes in the last bucket.\n",
    "5. **Sort each bucket** using insertion sort.\n",
    "6. **Merge all sorted buckets** into one sorted list.\n"
   ]
  },
  {
   "cell_type": "markdown",
   "id": "3f5d241a",
   "metadata": {},
   "source": [
    "### ✅ Output\n",
    "This prints the original and sorted list using bucket sort.\n"
   ]
  },
  {
   "cell_type": "markdown",
   "id": "f07b543a",
   "metadata": {},
   "source": [
    "### ⏱ Time & Space Complexity\n",
    "\n",
    "| Case   | Time Complexity |\n",
    "|--------|-----------------|\n",
    "| Best   | O(n + k)        |\n",
    "| Average| O(n + k + n log n/k) |\n",
    "| Worst  | O(n²) if all elements fall into one bucket |\n",
    "\n",
    "- **n** = number of elements  \n",
    "- **k** = number of buckets\n",
    "\n",
    "🧠 **Space Complexity** = O(n + k)\n"
   ]
  },
  {
   "cell_type": "markdown",
   "id": "83896e2e",
   "metadata": {},
   "source": []
  }
 ],
 "metadata": {
  "kernelspec": {
   "display_name": "env",
   "language": "python",
   "name": "python3"
  },
  "language_info": {
   "codemirror_mode": {
    "name": "ipython",
    "version": 3
   },
   "file_extension": ".py",
   "mimetype": "text/x-python",
   "name": "python",
   "nbconvert_exporter": "python",
   "pygments_lexer": "ipython3",
   "version": "3.12.10"
  }
 },
 "nbformat": 4,
 "nbformat_minor": 5
}
