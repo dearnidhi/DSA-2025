{
 "cells": [
  {
   "cell_type": "markdown",
   "id": "405f960b",
   "metadata": {},
   "source": [
    "# 🔀 Merge Sort Algorithm\n",
    "\n",
    "**Merge Sort** is a popular **Divide and Conquer** algorithm.  \n",
    "It divides the input array into halves, recursively sorts them, and then merges the sorted halves.\n",
    "\n",
    "🧠 Merge Sort is:\n",
    "- Efficient: O(n log n)\n",
    "- Stable\n",
    "- Good for large datasets (with enough memory)\n"
   ]
  },
  {
   "cell_type": "markdown",
   "id": "a44b4d39",
   "metadata": {},
   "source": [
    "## 📘 Divide and Conquer Strategy\n",
    "\n",
    "**Steps:**\n",
    "1. **Divide** the array into two halves.\n",
    "2. **Conquer** each half by recursively sorting them.\n",
    "3. **Combine** both sorted halves using the merge step.\n",
    "\n",
    "We repeat this process until all subarrays contain only 1 element, which are naturally sorted.\n",
    "Then we merge them back in a sorted order.\n"
   ]
  },
  {
   "cell_type": "code",
   "execution_count": 12,
   "id": "22f945ec",
   "metadata": {},
   "outputs": [],
   "source": [
    "# Merge function to combine two sorted halves\n",
    "def merge(arr, left, mid, right):\n",
    "    # Step 1: Create temp arrays\n",
    "    L = arr[left:mid+1]\n",
    "    R = arr[mid+1:right+1]\n",
    "\n",
    "    # Step 2: Initial indexes\n",
    "    i = 0  # index for L\n",
    "    j = 0  # index for R\n",
    "    k = left  # index for merged array\n",
    "\n",
    "    # Step 3: Merge the temp arrays back into arr\n",
    "    while i < len(L) and j < len(R):\n",
    "        if L[i] <= R[j]:\n",
    "            arr[k] = L[i]\n",
    "            i += 1\n",
    "        else:\n",
    "            arr[k] = R[j]\n",
    "            j += 1\n",
    "        k += 1\n",
    "\n",
    "    # Step 4: Copy any remaining elements of L[]\n",
    "    while i < len(L):\n",
    "        arr[k] = L[i]\n",
    "        i += 1\n",
    "        k += 1\n",
    "\n",
    "    # Step 5: Copy any remaining elements of R[]\n",
    "    while j < len(R):\n",
    "        arr[k] = R[j]\n",
    "        j += 1\n",
    "        k += 1\n",
    "\n",
    "\n"
   ]
  },
  {
   "cell_type": "markdown",
   "id": "11214b7b",
   "metadata": {},
   "source": [
    "### 🧠 `merge()` Function Explanation:\n",
    "\n",
    "- Divides the original array into two parts: `L` and `R`.\n",
    "- Merges these two sorted subarrays back into `arr` in sorted order.\n",
    "- Remaining elements (if any) are copied after main merging loop.\n"
   ]
  },
  {
   "cell_type": "markdown",
   "id": "41984b7d",
   "metadata": {},
   "source": [
    "# 📌 4. Recursive Function: mergeSort()\n"
   ]
  },
  {
   "cell_type": "code",
   "execution_count": 13,
   "id": "57e541a8",
   "metadata": {},
   "outputs": [],
   "source": [
    "def mergeSort(arr, left, right):\n",
    "    if left < right:\n",
    "        # Step 1: Find middle point\n",
    "        mid = (left + right) // 2\n",
    "\n",
    "        # Step 2: Sort first and second halves\n",
    "        mergeSort(arr, left, mid)\n",
    "        mergeSort(arr, mid + 1, right)\n",
    "\n",
    "        # Step 3: Merge the sorted halves\n",
    "        merge(arr, left, mid, right)\n",
    "\n",
    "    return arr\n"
   ]
  },
  {
   "cell_type": "markdown",
   "id": "8215d32e",
   "metadata": {},
   "source": [
    "### 🔄 `mergeSort()` Function Explanation:\n",
    "\n",
    "- **Recursively** splits the array until size becomes 1.\n",
    "- Then starts **merging** sorted subarrays using `merge()`.\n"
   ]
  },
  {
   "cell_type": "markdown",
   "id": "154f7c8d",
   "metadata": {},
   "source": [
    "# 📌 5. Test the Algorithm\n"
   ]
  },
  {
   "cell_type": "code",
   "execution_count": 14,
   "id": "3375ea99",
   "metadata": {},
   "outputs": [
    {
     "name": "stdout",
     "output_type": "stream",
     "text": [
      "Original: [7, 4, 3, 6, 1, 2, 5]\n",
      "Sorted:   [1, 2, 3, 4, 5, 6, 7]\n"
     ]
    }
   ],
   "source": [
    "# Example list\n",
    "arr = [7, 4, 3, 6, 1, 2, 5]\n",
    "\n",
    "print(\"Original:\", arr)\n",
    "sorted_arr = mergeSort(arr, 0, len(arr)-1)\n",
    "print(\"Sorted:  \", sorted_arr)\n"
   ]
  },
  {
   "cell_type": "markdown",
   "id": "abf08733",
   "metadata": {},
   "source": [
    "# 📌 6. Works with Negative Numbers Too\n"
   ]
  },
  {
   "cell_type": "code",
   "execution_count": 15,
   "id": "5ee453e0",
   "metadata": {},
   "outputs": [
    {
     "name": "stdout",
     "output_type": "stream",
     "text": [
      "Original: [5, -2, 4, -10, 3, 1, 0, -3]\n",
      "Sorted:   [-10, -3, -2, 0, 1, 3, 4, 5]\n"
     ]
    }
   ],
   "source": [
    "arr2 = [5, -2, 4, -10, 3, 1, 0, -3]\n",
    "print(\"Original:\", arr2)\n",
    "sorted_arr2 = mergeSort(arr2, 0, len(arr2)-1)\n",
    "print(\"Sorted:  \", sorted_arr2)\n"
   ]
  },
  {
   "cell_type": "markdown",
   "id": "6600b0dc",
   "metadata": {},
   "source": [
    "## ⏱️ Time & Space Complexity\n",
    "\n",
    "| Case      | Time Complexity |\n",
    "|-----------|-----------------|\n",
    "| Best      | O(n log n)      |\n",
    "| Average   | O(n log n)      |\n",
    "| Worst     | O(n log n)      |\n",
    "\n",
    "🧠 Space Complexity: O(n)\n",
    "\n",
    "Why?\n",
    "- Temporary arrays are used in the `merge()` step.\n",
    "- That's why Merge Sort is **not an in-place sort**.\n"
   ]
  },
  {
   "cell_type": "markdown",
   "id": "8cc47626",
   "metadata": {},
   "source": [
    "## ✅ When to Use Merge Sort\n",
    "- When **stability** is required (same elements maintain order).\n",
    "- When you expect **consistent performance**.\n",
    "- When working with **linked lists** (space not an issue).\n",
    "\n",
    "## 🚫 When to Avoid\n",
    "- When memory is limited (due to O(n) space).\n",
    "- If in-place sorting is needed.\n"
   ]
  },
  {
   "cell_type": "code",
   "execution_count": 16,
   "id": "44fd4039",
   "metadata": {},
   "outputs": [
    {
     "name": "stdout",
     "output_type": "stream",
     "text": [
      "Original: [7, 4, 3, 6, 1, 2, 5]\n",
      "Sorted:   [1, 2, 3, 4, 5, 6, 7]\n",
      "\n",
      "Original: [5, -2, 4, -10, 3, 1, 0, -3]\n",
      "Sorted:   [-10, -3, -2, 0, 1, 3, 4, 5]\n"
     ]
    }
   ],
   "source": [
    "# Merge function\n",
    "def merge(arr, left, mid, right):\n",
    "    n1 = mid - left + 1\n",
    "    n2 = right - mid\n",
    "\n",
    "    # Create temporary arrays\n",
    "    L = [0] * n1\n",
    "    R = [0] * n2\n",
    "\n",
    "    for i in range(n1):\n",
    "        L[i] = arr[left + i]\n",
    "    for j in range(n2):\n",
    "        R[j] = arr[mid + 1 + j]\n",
    "\n",
    "    i = j = 0\n",
    "    k = left\n",
    "\n",
    "    # Merge temp arrays back into arr\n",
    "    while i < n1 and j < n2:\n",
    "        if L[i] <= R[j]:\n",
    "            arr[k] = L[i]\n",
    "            i += 1\n",
    "        else:\n",
    "            arr[k] = R[j]\n",
    "            j += 1\n",
    "        k += 1\n",
    "\n",
    "    # Copy any remaining elements\n",
    "    while i < n1:\n",
    "        arr[k] = L[i]\n",
    "        i += 1\n",
    "        k += 1\n",
    "\n",
    "    while j < n2:\n",
    "        arr[k] = R[j]\n",
    "        j += 1\n",
    "        k += 1\n",
    "\n",
    "# MergeSort function\n",
    "def mergeSort(arr, left, right):\n",
    "    if left < right:\n",
    "        mid = (left + right) // 2\n",
    "\n",
    "        # Recursive call to sort both halves\n",
    "        mergeSort(arr, left, mid)\n",
    "        mergeSort(arr, mid + 1, right)\n",
    "\n",
    "        # Merge the sorted halves\n",
    "        merge(arr, left, mid, right)\n",
    "\n",
    "    return arr\n",
    "\n",
    "# Example 1\n",
    "arr = [7, 4, 3, 6, 1, 2, 5]\n",
    "print(\"Original:\", arr)\n",
    "sorted_arr = mergeSort(arr, 0, len(arr)-1)\n",
    "print(\"Sorted:  \", sorted_arr)\n",
    "\n",
    "# Example 2 (with negative numbers)\n",
    "arr2 = [5, -2, 4, -10, 3, 1, 0, -3]\n",
    "print(\"\\nOriginal:\", arr2)\n",
    "sorted_arr2 = mergeSort(arr2, 0, len(arr2)-1)\n",
    "print(\"Sorted:  \", sorted_arr2)\n"
   ]
  },
  {
   "cell_type": "markdown",
   "id": "1c6a995b",
   "metadata": {},
   "source": []
  }
 ],
 "metadata": {
  "kernelspec": {
   "display_name": "env",
   "language": "python",
   "name": "python3"
  },
  "language_info": {
   "codemirror_mode": {
    "name": "ipython",
    "version": 3
   },
   "file_extension": ".py",
   "mimetype": "text/x-python",
   "name": "python",
   "nbconvert_exporter": "python",
   "pygments_lexer": "ipython3",
   "version": "3.12.10"
  }
 },
 "nbformat": 4,
 "nbformat_minor": 5
}
