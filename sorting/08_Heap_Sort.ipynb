{
 "cells": [
  {
   "cell_type": "markdown",
   "id": "bd9dd330",
   "metadata": {},
   "source": [
    "# 🔹 What is Heap Sort?\n",
    "\n",
    "Heap Sort is a comparison-based sorting algorithm that uses a Binary Heap (usually a Max Heap) to sort elements.\n",
    "\n",
    "Max Heap → largest element is always at the root (index 0).\n",
    "\n",
    "Heap Sort works by repeatedly taking the largest element (root), swapping it to the end, and then heapifying the rest.\n",
    "\n",
    "👉 It’s an in-place algorithm (no extra array needed).\n",
    "\n",
    "👉 Time Complexity: O(n log n).\n",
    "\n",
    "# 🔹 Steps of Heap Sort\n",
    "\n",
    "Build a Max Heap from the array.\n",
    "\n",
    "The largest element (root) is at index 0.\n",
    "\n",
    "Swap root with the last element.\n",
    "\n",
    "Reduce heap size by 1, then heapify again.\n",
    "\n",
    "Repeat until the heap size is 1."
   ]
  },
  {
   "cell_type": "code",
   "execution_count": 1,
   "id": "91d5a656",
   "metadata": {},
   "outputs": [
    {
     "name": "stdout",
     "output_type": "stream",
     "text": [
      "Sorted array: [5, 6, 7, 11, 12, 13]\n"
     ]
    }
   ],
   "source": [
    "def heapify(arr, n, i):\n",
    "    largest = i          # assume root is largest\n",
    "    left = 2 * i + 1     # left child index\n",
    "    right = 2 * i + 2    # right child index\n",
    "\n",
    "    # if left child exists and is greater\n",
    "    if left < n and arr[left] > arr[largest]:\n",
    "        largest = left\n",
    "\n",
    "    # if right child exists and is greater\n",
    "    if right < n and arr[right] > arr[largest]:\n",
    "        largest = right\n",
    "\n",
    "    # if largest is not root, swap and continue heapifying\n",
    "    if largest != i:\n",
    "        arr[i], arr[largest] = arr[largest], arr[i]\n",
    "        heapify(arr, n, largest)\n",
    "\n",
    "def heapSort(arr):\n",
    "    n = len(arr)\n",
    "\n",
    "    # Build max heap\n",
    "    for i in range(n//2 - 1, -1, -1):\n",
    "        heapify(arr, n, i)\n",
    "\n",
    "    # Extract elements one by one\n",
    "    for i in range(n-1, 0, -1):\n",
    "        arr[0], arr[i] = arr[i], arr[0]   # swap root with last\n",
    "        heapify(arr, i, 0)                # heapify reduced heap\n",
    "\n",
    "# Example\n",
    "arr = [12, 11, 13, 5, 6, 7]\n",
    "heapSort(arr)\n",
    "print(\"Sorted array:\", arr)\n"
   ]
  },
  {
   "cell_type": "markdown",
   "id": "bd93deb8",
   "metadata": {},
   "source": [
    "# 🔹 Example Walkthrough\n",
    "\n",
    "Array: [12, 11, 13, 5, 6, 7]\n",
    "\n",
    "Build Max Heap → [13, 11, 12, 5, 6, 7]\n",
    "\n",
    "Swap 13 and last → [7, 11, 12, 5, 6, 13]\n",
    "\n",
    "Heapify → [12, 11, 7, 5, 6, 13]\n",
    "\n",
    "Swap 12 and last unsorted → [6, 11, 7, 5, 12, 13]\n",
    "\n",
    "Continue until fully sorted → [5, 6, 7, 11, 12, 13]\n",
    "\n",
    "✅ Final Sorted Array = [5, 6, 7, 11, 12, 13]"
   ]
  },
  {
   "cell_type": "markdown",
   "id": "9584b113",
   "metadata": {},
   "source": [
    "y"
   ]
  }
 ],
 "metadata": {
  "kernelspec": {
   "display_name": "venv",
   "language": "python",
   "name": "python3"
  },
  "language_info": {
   "codemirror_mode": {
    "name": "ipython",
    "version": 3
   },
   "file_extension": ".py",
   "mimetype": "text/x-python",
   "name": "python",
   "nbconvert_exporter": "python",
   "pygments_lexer": "ipython3",
   "version": "3.10.11"
  }
 },
 "nbformat": 4,
 "nbformat_minor": 5
}
