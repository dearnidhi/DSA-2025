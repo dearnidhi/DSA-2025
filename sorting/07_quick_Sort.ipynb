{
 "cells": [
  {
   "cell_type": "markdown",
   "id": "3b7f88ea",
   "metadata": {},
   "source": [
    "# 🔹 What is Quick Sort?\n",
    "\n",
    "Quick Sort is a divide and conquer sorting algorithm.\n",
    "It works like this:\n",
    "\n",
    "Pick a pivot element from the array.\n",
    "\n",
    "Rearrange (partition) the array → elements smaller than pivot go to the left, elements greater than pivot go to the right.\n",
    "\n",
    "Recursively quick sort the left part and the right part.\n",
    "\n",
    "# 🔹 Steps in Detail\n",
    "* Step 1: Choose a Pivot\n",
    "\n",
    "Can be first element, last element, middle, or random.\n",
    "\n",
    "Let’s use the last element for simplicity.\n",
    "\n",
    "* Step 2: Partition\n",
    "\n",
    "Rearrange the array so that:\n",
    "\n",
    "all elements ≤ pivot are before it\n",
    "\n",
    "all elements > pivot are after it\n",
    "\n",
    "Place pivot in its correct sorted position.\n",
    "\n",
    "* Step 3: Recurse\n",
    "\n",
    "Apply quick sort on left and right subarrays."
   ]
  },
  {
   "cell_type": "markdown",
   "id": "7cbb0bd6",
   "metadata": {},
   "source": [
    "1.Partition Function"
   ]
  },
  {
   "cell_type": "code",
   "execution_count": 7,
   "id": "8a2489c5",
   "metadata": {},
   "outputs": [
    {
     "name": "stdout",
     "output_type": "stream",
     "text": [
      "Sorted array: [1, 5, 7, 8, 9, 10]\n"
     ]
    }
   ],
   "source": [
    "def partition(arr, low, high):\n",
    "    pivot = arr[high]             # choose last element as pivot\n",
    "    i = low - 1                   # index of smaller element\n",
    "    for j in range(low, high):\n",
    "        if arr[j] <= pivot:       # if current element is smaller than pivot\n",
    "            i += 1\n",
    "            arr[i], arr[j] = arr[j], arr[i]  # swap\n",
    "    arr[i+1], arr[high] = arr[high], arr[i+1]  # place pivot correctly\n",
    "    return i + 1\n",
    "\n",
    "def quickSort(arr, low, high):\n",
    "    if low < high:\n",
    "        pi = partition(arr, low, high)   # pivot index\n",
    "        quickSort(arr, low, pi - 1)      # sort left subarray\n",
    "        quickSort(arr, pi + 1, high)     # sort right subarray\n",
    "\n",
    "# Example\n",
    "arr = [10, 7, 8, 9, 1, 5]\n",
    "quickSort(arr, 0, len(arr) - 1)\n",
    "print(\"Sorted array:\", arr)\n"
   ]
  },
  {
   "cell_type": "markdown",
   "id": "28dd5bf0",
   "metadata": {},
   "source": [
    "# 🔹 Example Dry Run\n",
    "\n",
    "Array: [10, 7, 8, 9, 1, 5]\n",
    "\n",
    "Pivot = 5 → Partition → [1, 5, 8, 9, 10, 7]\n",
    "\n",
    "Pivot 5 in correct place (index 1).\n",
    "\n",
    "Left part [1] → already sorted.\n",
    "\n",
    "Right part [8, 9, 10, 7] → choose pivot = 7 → partition → [7, 8, 9, 10].\n",
    "\n",
    "Recursively sort subarrays until sorted.\n",
    "\n",
    "Final = [1, 5, 7, 8, 9, 10]."
   ]
  }
 ],
 "metadata": {
  "kernelspec": {
   "display_name": "venv",
   "language": "python",
   "name": "python3"
  },
  "language_info": {
   "codemirror_mode": {
    "name": "ipython",
    "version": 3
   },
   "file_extension": ".py",
   "mimetype": "text/x-python",
   "name": "python",
   "nbconvert_exporter": "python",
   "pygments_lexer": "ipython3",
   "version": "3.10.11"
  }
 },
 "nbformat": 4,
 "nbformat_minor": 5
}
